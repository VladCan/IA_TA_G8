{
  "nbformat": 4,
  "nbformat_minor": 0,
  "metadata": {
    "colab": {
      "provenance": []
    },
    "kernelspec": {
      "name": "python3",
      "display_name": "Python 3"
    },
    "language_info": {
      "name": "python"
    }
  },
  "cells": [
    {
      "cell_type": "code",
      "execution_count": null,
      "metadata": {
        "id": "WilWn1Ab2W2J"
      },
      "outputs": [],
      "source": [
        "import pandas as pd\n",
        "import numpy as np\n",
        "import unicodedata\n",
        "df_RedVial = pd.read_csv(\"1_Red_vial_nacional_2022-jul2024_0.csv\", encoding='utf-8')\n",
        "print(\"Primeras filas:\")\n",
        "print(df_RedVial.head())\n",
        "\n",
        "df_RedVial.columns = df_RedVial.columns.str.strip().str.upper().str.replace(\" \", \"_\")\n",
        "\n",
        "print(\"Primeras filas:\")\n",
        "print(df_RedVial.head())"
      ]
    },
    {
      "cell_type": "code",
      "source": [
        "df_RedVial = df_RedVial[[\n",
        "    \"CODIGO_RUTA\", \"INICIO\", \"FINAL\", \"LONGITUD\", \"NRO_CARRILES\",\n",
        "    \"SUPERFICIE_L\", \"DEPARTAMENTO\", \"JERARQUIA\"\n",
        "]]\n",
        "df_RedVial = df_RedVial.rename(columns={\n",
        "    \"CODIGO_RUTA\": \"CODRUTA\",\n",
        "    \"NRO_CARRILES\": \"NROCARRIL\"\n",
        "})\n",
        "print(\"Primeras filas:\")\n",
        "print(df_RedVial.head())"
      ],
      "metadata": {
        "id": "q9GWdh6w4Iv6"
      },
      "execution_count": null,
      "outputs": []
    },
    {
      "cell_type": "code",
      "source": [
        "print(\" Tipos de datos originales:\")\n",
        "print(df_RedVial.dtypes)\n",
        "total_original = len(df_RedVial)\n",
        "print(f\"\\n Total de registros originales: {total_original}\")"
      ],
      "metadata": {
        "id": "JaO30LLl4nbo"
      },
      "execution_count": null,
      "outputs": []
    },
    {
      "cell_type": "code",
      "source": [
        "eliminados_carril = (df_RedVial[\"NROCARRIL\"] == -1).sum()\n",
        "print(f\" Registros con NROCARRIL = -1 eliminados: {eliminados_carril}\")\n",
        "df_RedVial = df_RedVial[df_RedVial[\"NROCARRIL\"] != -1]\n"
      ],
      "metadata": {
        "id": "s6OUTlYX4jLk"
      },
      "execution_count": null,
      "outputs": []
    },
    {
      "cell_type": "code",
      "source": [
        "# Normalizar texto en columnas clave\n",
        "for col in [\"SUPERFICIE_L\", \"DEPARTAMENTO\", \"JERARQUIA\"]:\n",
        "    df_RedVial[col] = df_RedVial[col].astype(str).str.strip().str.upper()\n",
        "\n",
        "# Filtrar solo jerarquía RN y hacer copia explícita\n",
        "df_rn = df_RedVial[df_RedVial[\"JERARQUIA\"] == \"RN\"].copy()\n",
        "print(f\"Registros con JERARQUIA = 'RN': {len(df_rn)} (de {len(df_RedVial)})\")\n",
        "\n",
        "# Eliminar duplicados\n",
        "df_rn = df_rn.drop_duplicates()\n",
        "\n"
      ],
      "metadata": {
        "id": "x_bNZpko5SZB"
      },
      "execution_count": null,
      "outputs": []
    },
    {
      "cell_type": "code",
      "source": [
        "nulos= df_RedVial.isnull().sum()\n",
        "porcentaje = (nulos / len(df_RedVial)) * 100\n",
        "\n",
        "reporte = pd.DataFrame({\n",
        "    \"NULOS\": nulos,\n",
        "    \"PORCENTAJE (%)\": porcentaje.round(2)\n",
        "})\n",
        "\n",
        "print(reporte)"
      ],
      "metadata": {
        "id": "hBnZpMSsFFT7"
      },
      "execution_count": null,
      "outputs": []
    },
    {
      "cell_type": "code",
      "source": [
        "print(df_RedVial)"
      ],
      "metadata": {
        "id": "sokGrOlOm-0t"
      },
      "execution_count": null,
      "outputs": []
    },
    {
      "cell_type": "code",
      "source": [
        "df_RedVial = df_RedVial.sort_values(by=[\"CODRUTA\", \"INICIO\"])\n",
        "\n",
        "# Detectar cambio de CODRUTA o en las columnas clave\n",
        "cols_clave = [\"CODRUTA\", \"NROCARRIL\", \"SUPERFICIE_L\"]\n",
        "df_RedVial[\"grupo_cambio\"] = (df_RedVial[cols_clave] != df_RedVial[cols_clave].shift()).any(axis=1).cumsum()\n",
        "\n",
        "# Agrupar manteniendo segmentos homogéneos\n",
        "df_RedVial = df_RedVial.groupby(\"grupo_cambio\").agg({\n",
        "    \"CODRUTA\": \"first\",\n",
        "    \"INICIO\": \"first\",\n",
        "    \"FINAL\": \"last\",\n",
        "    \"LONGITUD\": \"sum\",\n",
        "    \"NROCARRIL\": \"first\",\n",
        "    \"SUPERFICIE_L\": \"first\",\n",
        "    \"DEPARTAMENTO\": \"first\",\n",
        "    \"JERARQUIA\": \"first\"\n",
        "}).reset_index(drop=True)"
      ],
      "metadata": {
        "id": "KasmVtmPmSnY"
      },
      "execution_count": null,
      "outputs": []
    },
    {
      "cell_type": "code",
      "source": [
        "print(df_RedVial)"
      ],
      "metadata": {
        "id": "HaZO5BaCnGjg"
      },
      "execution_count": null,
      "outputs": []
    },
    {
      "cell_type": "code",
      "source": [
        "df_RedVial.to_csv(\"df_RedVial.csv\", index=False, encoding='utf-8')"
      ],
      "metadata": {
        "id": "KkM9ruJkx19t"
      },
      "execution_count": null,
      "outputs": []
    },
    {
      "cell_type": "markdown",
      "source": [],
      "metadata": {
        "id": "nNM-jckyJIsd"
      }
    },
    {
      "cell_type": "code",
      "source": [
        "df_ONSV = pd.read_excel(\"BBDD ONSV - SINIESTROS 2021-2023.xlsx\", skiprows=3)\n",
        "\n",
        "# Mostrar columnas disponibles\n",
        "print(\"Columnas encontradas:\")\n",
        "print(df_ONSV.columns.tolist())\n"
      ],
      "metadata": {
        "id": "--JctIeA5uHp"
      },
      "execution_count": null,
      "outputs": []
    },
    {
      "cell_type": "code",
      "source": [
        "df_ONSV = df_ONSV[[\n",
        "    \"FECHA SINIESTRO\",\n",
        "    \"HORA SINIESTRO\",\n",
        "    \"CANTIDAD DE FALLECIDOS\",\n",
        "    \"CANTIDAD DE LESIONADOS\",\n",
        "    \"DEPARTAMENTO\",\n",
        "    \"PROVINCIA\",\n",
        "    \"DISTRITO\",\n",
        "    \"COD CARRETERA\",\n",
        "    \"COORDENADAS LATITUD\",\n",
        "    \"COORDENADAS  LONGITUD\",\n",
        "    \"TIPO DE VÍA\",\n",
        "    \"SUPERFICIE DE CALZADA\",\n",
        "    \"CONDICIÓN CLIMÁTICA\",\n",
        "    \"RED VIAL\",\n",
        "    \"ZONA\",\n",
        "    \"¿EXISTE SEÑAL VERTICAL?\",\n",
        "    \"¿EXISTE SEÑAL HORIZONTAL?\",\n",
        "    \"CAUSA FACTOR PRINCIPAL\",\n",
        "    \"CAUSA ESPECÍFICA\",\n",
        "    \"CLASE SINIESTRO\"\n",
        "]]\n",
        "\n",
        "df_ONSV.columns = df_ONSV.columns.str.strip().str.upper().str.replace(\" \", \"_\")"
      ],
      "metadata": {
        "id": "HEiXwyWk7Laz"
      },
      "execution_count": null,
      "outputs": []
    },
    {
      "cell_type": "code",
      "source": [
        "# Eliminar filas sin coordenadas (opcional, para mapas)\n",
        "coordenadas_incompletas = df_ONSV[\"COORDENADAS_LATITUD\"].isna() | df_ONSV[\"COORDENADAS__LONGITUD\"].isna()\n",
        "print(f\" Registros eliminados por falta de coordenadas: {coordenadas_incompletas.sum()}\")\n",
        "df_ONSV = df_ONSV[~coordenadas_incompletas]"
      ],
      "metadata": {
        "id": "3gbA77wh7ic5"
      },
      "execution_count": null,
      "outputs": []
    },
    {
      "cell_type": "code",
      "source": [
        "def normalizar_texto(texto):\n",
        "    if not isinstance(texto, str):\n",
        "        return texto\n",
        "    texto = unicodedata.normalize('NFKD', texto).encode('ascii', 'ignore').decode('utf-8')\n",
        "    return texto.strip().upper()"
      ],
      "metadata": {
        "id": "oczQ--cn7v4r"
      },
      "execution_count": null,
      "outputs": []
    },
    {
      "cell_type": "code",
      "source": [
        "columnas_texto = [\n",
        "    \"DEPARTAMENTO\", \"PROVINCIA\", \"DISTRITO\", \"TIPO_DE_VÍA\", \"SUPERFICIE_DE_CALZADA\"\n",
        "    , \"ZONA\", \"¿EXISTE_SEÑAL_VERTICAL?\", \"¿EXISTE_SEÑAL_HORIZONTAL?\",\n",
        "    \"CAUSA_FACTOR_PRINCIPAL\", \"CAUSA_ESPECÍFICA\",\"CLASE_SINIESTRO\",\"RED_VIAL\"\n",
        "]"
      ],
      "metadata": {
        "id": "xibqU1eo7_sR"
      },
      "execution_count": null,
      "outputs": []
    },
    {
      "cell_type": "code",
      "source": [
        "for col in columnas_texto:\n",
        "    df_ONSV[col] = df_ONSV[col].apply(normalizar_texto)\n",
        "\n",
        "print(\"Primeras filas:\")\n",
        "print(df_ONSV)"
      ],
      "metadata": {
        "id": "ujdwFMTe8FmK"
      },
      "execution_count": null,
      "outputs": []
    },
    {
      "cell_type": "code",
      "source": [
        "# Convertir valores de 'COD_CARRETERA' en nulos\n",
        "df_ONSV[\"COD_CARRETERA\"] = df_ONSV[\"COD_CARRETERA\"].replace(\n",
        "    [\"NO CORRESPONDE\", \"SIN CLASIFICAR\"],\n",
        "    np.nan\n",
        ")\n",
        "\n",
        "# Convertir valores de 'CAUSA_FACTOR_PRINCIPAL' en nulos\n",
        "df_ONSV[\"CAUSA_FACTOR_PRINCIPAL\"] = df_ONSV[\"CAUSA_FACTOR_PRINCIPAL\"].replace(\n",
        "    [\"NO IDENTIFICA LA CAUSA\"],\n",
        "    np.nan\n",
        ")"
      ],
      "metadata": {
        "id": "DshTjeLy_vXn"
      },
      "execution_count": null,
      "outputs": []
    },
    {
      "cell_type": "code",
      "source": [
        "# Reporte inicial de nulos y porcentaje\n",
        "nulos= df_ONSV.isnull().sum()\n",
        "porcentaje_antes = (nulos / len(df_ONSV)) * 100\n",
        "\n",
        "reporte_antes = pd.DataFrame({\n",
        "    \"NULOS\": nulos,\n",
        "    \"PORCENTAJE (%)\": porcentaje_antes.round(2)\n",
        "})\n",
        "\n",
        "print(\"NULOS ANTES DE LIMPIAR:\\n\")\n",
        "print(reporte_antes)"
      ],
      "metadata": {
        "id": "TXQ3Ltp69W3S"
      },
      "execution_count": null,
      "outputs": []
    },
    {
      "cell_type": "code",
      "source": [
        "df_ONSV = df_ONSV.drop(columns=['¿EXISTE_SEÑAL_VERTICAL?', '¿EXISTE_SEÑAL_HORIZONTAL?'])"
      ],
      "metadata": {
        "id": "HR6uxTM_-7kC"
      },
      "execution_count": null,
      "outputs": []
    },
    {
      "cell_type": "code",
      "source": [
        "df_ONSV = df_ONSV.drop(columns=['CAUSA_FACTOR_PRINCIPAL', 'CAUSA_ESPECÍFICA'])"
      ],
      "metadata": {
        "id": "j7eqPpozgmua"
      },
      "execution_count": null,
      "outputs": []
    },
    {
      "cell_type": "code",
      "source": [
        "# Reporte final de nulos y porcentaje\n",
        "nulos= df_ONSV.isnull().sum()\n",
        "porcentaje = (nulos / len(df_ONSV)) * 100\n",
        "\n",
        "reporte_despues = pd.DataFrame({\n",
        "    \"NULOS\": nulos,\n",
        "    \"PORCENTAJE (%)\": porcentaje.round(2)\n",
        "})\n",
        "\n",
        "print(\"NULOS DESPUES DE LIMPIAR:\\n\")\n",
        "print(reporte_despues)"
      ],
      "metadata": {
        "id": "37sWkq9N_NQS"
      },
      "execution_count": null,
      "outputs": []
    },
    {
      "cell_type": "code",
      "source": [
        "print(df_ONSV.head())"
      ],
      "metadata": {
        "id": "WVi07VDV_hPT"
      },
      "execution_count": null,
      "outputs": []
    },
    {
      "cell_type": "code",
      "source": [
        "df_sutran  = pd.read_csv(\n",
        "    \"Accidentes de transito en carreteras-2020-2021-Sutran.csv\",\n",
        "    sep=\";\",\n",
        "    encoding=\"latin1\"\n",
        ")\n",
        "print(\"Columnas:\")\n",
        "print(df_sutran .columns.tolist())\n",
        "print(df_sutran)"
      ],
      "metadata": {
        "id": "fbjnAPrfCllk"
      },
      "execution_count": null,
      "outputs": []
    },
    {
      "cell_type": "code",
      "source": [
        "# 1. Eliminar columna que no se necesita\n",
        "df_sutran  = df_sutran .drop(columns=[\"FECHA_CORTE\"], errors=\"ignore\")\n",
        "\n",
        "# 2. Renombrar columnas para consistencia\n",
        "df_sutran  = df_sutran .rename(columns={\n",
        "    \"CODIGO_VÍA\": \"CODIGO_VIA\",\n",
        "    \"FALLECIDOS\": \"NUM_FALLECIDOS\",\n",
        "    \"HERIDOS\": \"NUM_HERIDOS\"\n",
        "})\n",
        "\n",
        "# 3. Reemplazar valores \"N.I.\" o vacíos por NaN\n",
        "df_sutran  = df_sutran .replace([\"N.I.\", \"N.I\", \"NI\", \"\", \" \", None], np.nan)"
      ],
      "metadata": {
        "id": "rMQh5MM5B_6y"
      },
      "execution_count": null,
      "outputs": []
    },
    {
      "cell_type": "code",
      "source": [
        "# Asegurar que FECHA es string\n",
        "df_sutran [\"FECHA\"] = df_sutran [\"FECHA\"].astype(str)\n",
        "\n",
        "# Convertir a datetime y luego al formato deseado\n",
        "df_sutran [\"FECHA\"] = pd.to_datetime(df_sutran [\"FECHA\"], format=\"%Y%m%d\", errors=\"coerce\")\n",
        "df_sutran [\"FECHA\"] = df_sutran [\"FECHA\"].dt.strftime(\"%d/%m/%Y\")"
      ],
      "metadata": {
        "id": "EtyJHF2vFpDY"
      },
      "execution_count": null,
      "outputs": []
    },
    {
      "cell_type": "code",
      "source": [
        "df_sutran [\"NUM_FALLECIDOS\"] = pd.to_numeric(df_sutran [\"NUM_FALLECIDOS\"], errors=\"coerce\")\n",
        "df_sutran [\"NUM_HERIDOS\"] = pd.to_numeric(df_sutran [\"NUM_HERIDOS\"], errors=\"coerce\")\n",
        "df_sutran [\"KILOMETRO\"] = pd.to_numeric(df_sutran [\"KILOMETRO\"], errors=\"coerce\")\n",
        "print(\"Primeras filas:\")\n",
        "print(df_sutran .head())"
      ],
      "metadata": {
        "colab": {
          "base_uri": "https://localhost:8080/"
        },
        "id": "ebkgjym3DqWY",
        "outputId": "2ced8c4a-9a62-47c9-9125-2c02e56a594a"
      },
      "execution_count": 333,
      "outputs": [
        {
          "output_type": "stream",
          "name": "stdout",
          "text": [
            "Primeras filas:\n",
            "        FECHA   HORA DEPARTAMENTO CODIGO_VIA  KILOMETRO MODALIDAD  \\\n",
            "0  01/01/2020  05:40         LIMA      PE-1S       24.0  DESPISTE   \n",
            "1  01/01/2020  16:30    CAJAMARCA      PE-3N       74.0  DESPISTE   \n",
            "2  01/01/2020  07:45        PASCO      PE-3N      103.0  DESPISTE   \n",
            "3  01/01/2020  18:30    CAJAMARCA      PE-08      111.0  DESPISTE   \n",
            "4  01/01/2020  18:40         LIMA      PE-1N      174.0  DESPISTE   \n",
            "\n",
            "   NUM_FALLECIDOS  NUM_HERIDOS  \n",
            "0             0.0          0.0  \n",
            "1             0.0          0.0  \n",
            "2             0.0          1.0  \n",
            "3             0.0          2.0  \n",
            "4             0.0          5.0  \n"
          ]
        }
      ]
    },
    {
      "cell_type": "code",
      "source": [
        "def normalizar_texto(txt):\n",
        "    if isinstance(txt, str):\n",
        "        txt = txt.strip().upper()\n",
        "        return unicodedata.normalize(\"NFKD\", txt).encode(\"ascii\", \"ignore\").decode(\"utf-8\")\n",
        "    return txt\n",
        "\n",
        "df_sutran [\"DEPARTAMENTO\"] = df_sutran [\"DEPARTAMENTO\"].apply(normalizar_texto)\n",
        "df_sutran [\"MODALIDAD\"] = df_sutran [\"MODALIDAD\"].apply(normalizar_texto)\n",
        "df_sutran [\"CODIGO_VIA\"] = df_sutran [\"CODIGO_VIA\"].astype(str).str.strip().str.upper()"
      ],
      "metadata": {
        "id": "X3bhu3wxEPZj"
      },
      "execution_count": null,
      "outputs": []
    },
    {
      "cell_type": "code",
      "source": [
        "print(\"Nulos por columna:\")\n",
        "print(df_sutran .isnull().sum())"
      ],
      "metadata": {
        "colab": {
          "base_uri": "https://localhost:8080/"
        },
        "id": "KeeHTr5fEV90",
        "outputId": "d53dcd47-439b-4683-8cfb-b33639f67c1e"
      },
      "execution_count": 335,
      "outputs": [
        {
          "output_type": "stream",
          "name": "stdout",
          "text": [
            "Nulos por columna:\n",
            "FECHA              0\n",
            "HORA              88\n",
            "DEPARTAMENTO       7\n",
            "CODIGO_VIA         0\n",
            "KILOMETRO         45\n",
            "MODALIDAD         28\n",
            "NUM_FALLECIDOS     3\n",
            "NUM_HERIDOS       10\n",
            "dtype: int64\n"
          ]
        }
      ]
    },
    {
      "cell_type": "code",
      "source": [
        "print(\"\\nPrimeras filas del Dataset 3 limpio:\")\n",
        "print(df_sutran)"
      ],
      "metadata": {
        "colab": {
          "base_uri": "https://localhost:8080/"
        },
        "id": "g6vljaQZEcBJ",
        "outputId": "27d9ec8f-0660-46f5-d8b0-c4f76f390b5b"
      },
      "execution_count": 336,
      "outputs": [
        {
          "output_type": "stream",
          "name": "stdout",
          "text": [
            "\n",
            "Primeras filas del Dataset 3 limpio:\n",
            "           FECHA   HORA   DEPARTAMENTO CODIGO_VIA  KILOMETRO MODALIDAD  \\\n",
            "0     01/01/2020  05:40           LIMA      PE-1S       24.0  DESPISTE   \n",
            "1     01/01/2020  16:30      CAJAMARCA      PE-3N       74.0  DESPISTE   \n",
            "2     01/01/2020  07:45          PASCO      PE-3N      103.0  DESPISTE   \n",
            "3     01/01/2020  18:30      CAJAMARCA      PE-08      111.0  DESPISTE   \n",
            "4     01/01/2020  18:40           LIMA      PE-1N      174.0  DESPISTE   \n",
            "...          ...    ...            ...        ...        ...       ...   \n",
            "8150  30/09/2021  01:30         ANCASH      PE-1N      348.0    CHOQUE   \n",
            "8151  30/09/2021  04:00  MADRE DE DIOS     PE-30C      417.0    CHOQUE   \n",
            "8152  30/09/2021  15:10    LA LIBERTAD      PE-1N      627.0    CHOQUE   \n",
            "8153  30/09/2021  02:50     LAMBAYEQUE      PE-1N      758.0  DESPISTE   \n",
            "8154  30/09/2021  18:47           PUNO      PE-3S     1296.0    CHOQUE   \n",
            "\n",
            "      NUM_FALLECIDOS  NUM_HERIDOS  \n",
            "0                0.0          0.0  \n",
            "1                0.0          0.0  \n",
            "2                0.0          1.0  \n",
            "3                0.0          2.0  \n",
            "4                0.0          5.0  \n",
            "...              ...          ...  \n",
            "8150             0.0          0.0  \n",
            "8151             0.0          0.0  \n",
            "8152             0.0          2.0  \n",
            "8153             0.0          0.0  \n",
            "8154             1.0          0.0  \n",
            "\n",
            "[8155 rows x 8 columns]\n"
          ]
        }
      ]
    },
    {
      "cell_type": "markdown",
      "source": [
        "Integración"
      ],
      "metadata": {
        "id": "68NJKwvWGFZ4"
      }
    },
    {
      "cell_type": "code",
      "source": [
        "print(\"Columnals df_RedVial\",df_RedVial.columns.tolist())\n"
      ],
      "metadata": {
        "colab": {
          "base_uri": "https://localhost:8080/"
        },
        "id": "UAOO0_eDdyq1",
        "outputId": "ff74c7a1-5685-447b-c60d-1bb02f550cca"
      },
      "execution_count": 337,
      "outputs": [
        {
          "output_type": "stream",
          "name": "stdout",
          "text": [
            "Columnals df_RedVial ['CODRUTA', 'INICIO', 'FINAL', 'LONGITUD', 'NROCARRIL', 'SUPERFICIE_L', 'DEPARTAMENTO', 'JERARQUIA']\n"
          ]
        }
      ]
    },
    {
      "cell_type": "code",
      "source": [
        "print(\"Columnals df_ONSV\",df_ONSV.columns.tolist())\n"
      ],
      "metadata": {
        "colab": {
          "base_uri": "https://localhost:8080/"
        },
        "id": "RAn6qz5Gd54y",
        "outputId": "10adf769-7835-4a5c-dab3-526e50ac4a4c"
      },
      "execution_count": 338,
      "outputs": [
        {
          "output_type": "stream",
          "name": "stdout",
          "text": [
            "Columnals df_ONSV ['FECHA_SINIESTRO', 'HORA_SINIESTRO', 'CANTIDAD_DE_FALLECIDOS', 'CANTIDAD_DE_LESIONADOS', 'DEPARTAMENTO', 'PROVINCIA', 'DISTRITO', 'COD_CARRETERA', 'COORDENADAS_LATITUD', 'COORDENADAS__LONGITUD', 'TIPO_DE_VÍA', 'SUPERFICIE_DE_CALZADA', 'CONDICIÓN_CLIMÁTICA', 'RED_VIAL', 'ZONA', 'CLASE_SINIESTRO']\n"
          ]
        }
      ]
    },
    {
      "cell_type": "code",
      "source": [
        "print(\"Columnals df_sutran\",df_sutran.columns.tolist())\n"
      ],
      "metadata": {
        "colab": {
          "base_uri": "https://localhost:8080/"
        },
        "id": "dxbVTE_Gd6M2",
        "outputId": "216c4774-6570-46cd-84da-955514ff0708"
      },
      "execution_count": 339,
      "outputs": [
        {
          "output_type": "stream",
          "name": "stdout",
          "text": [
            "Columnals df_sutran ['FECHA', 'HORA', 'DEPARTAMENTO', 'CODIGO_VIA', 'KILOMETRO', 'MODALIDAD', 'NUM_FALLECIDOS', 'NUM_HERIDOS']\n"
          ]
        }
      ]
    },
    {
      "cell_type": "code",
      "source": [
        "# Red Vial\n",
        "df_RedVial = df_RedVial.rename(columns={\n",
        "    \"CODIGO_RUTA\": \"CODRUTA\",\n",
        "    \"NRO_CARRILES\": \"NROCARRIL\",\n",
        "    \"ESTADO_L\": \"ESTADO_VIA\",\n",
        "    \"SUPERFICIE_L\": \"SUPERFICIE\"\n",
        "})\n",
        "\n",
        "# ONSV\n",
        "df_ONSV = df_ONSV.rename(columns={\n",
        "    \"COD_CARRETERA\": \"CODRUTA\",\n",
        "    \"HORA_SINIESTRO\": \"HORA\",\n",
        "    \"FECHA_SINIESTRO\": \"FECHA\",\n",
        "    \"CANTIDAD DE FALLECIDOS\": \"CANTIDAD_DE_FALLECIDOS\",\n",
        "    \"CANTIDAD DE LESIONADOS\": \"CANTIDAD_DE_LESIONADOS\",\n",
        "    \"CLASE SINIESTRO\": \"MODALIDAD\",\n",
        "    \"CLASE_SINIESTRO\": \"MODALIDAD\",\n",
        "    \"SUPERFICIE_DE_CALZADA\": \"SUPERFICIE\",\n",
        "    \"RED_VIAL\":\"JERARQUIA\"\n",
        "})\n",
        "\n",
        "# SUTRAN\n",
        "df_sutran = df_sutran.rename(columns={\n",
        "    \"CODIGO_VIA\": \"CODRUTA\",\n",
        "    \"NUM_FALLECIDOS\": \"CANTIDAD_DE_FALLECIDOS\",\n",
        "    \"NUM_HERIDOS\": \"CANTIDAD_DE_LESIONADOS\"\n",
        "})\n"
      ],
      "metadata": {
        "id": "W_dyudlnkvXY"
      },
      "execution_count": null,
      "outputs": []
    },
    {
      "cell_type": "code",
      "source": [
        "columnas_comunes_onsv = [\n",
        "    \"FECHA\", \"HORA\", \"CANTIDAD_DE_FALLECIDOS\",\"CANTIDAD_DE_LESIONADOS\", \"DEPARTAMENTO\",\n",
        "    \"CODRUTA\", \"MODALIDAD\",\"JERARQUIA\",\"SUPERFICIE\"\n",
        "]\n",
        "\n",
        "columnas_comunes_sutran = [\n",
        "    \"FECHA\", \"HORA\", \"CANTIDAD_DE_FALLECIDOS\",\"CANTIDAD_DE_LESIONADOS\",\"DEPARTAMENTO\",\n",
        "    \"CODRUTA\", \"MODALIDAD\",\n",
        "]\n",
        "\n",
        "df_onsv_sel = df_ONSV[columnas_comunes_onsv].copy()\n",
        "df_sutran_sel = df_sutran[columnas_comunes_sutran].copy()\n",
        "\n",
        "# Eliminar registros sin CODRUTA\n",
        "df_sutran_sel[\"CODRUTA\"] = df_sutran_sel[\"CODRUTA\"].replace([\"NAN\", \"nan\", \" NaN \", \" NA \", \"N.A.\"], np.nan)\n",
        "df_sutran_sel = df_sutran_sel[df_sutran_sel[\"CODRUTA\"].notna()]\n",
        "\n",
        "df_onsv_sel = df_onsv_sel[df_onsv_sel[\"CODRUTA\"].notna()]"
      ],
      "metadata": {
        "id": "3SczxJs7eWxm"
      },
      "execution_count": null,
      "outputs": []
    },
    {
      "cell_type": "code",
      "source": [
        "# Asegúrate de eliminar duplicados para que cada CODRUTA tenga solo un DEPARTAMENTO asociado\n",
        "codruta_departamento = df_sutran[['CODRUTA', 'DEPARTAMENTO']].drop_duplicates()\n",
        "\n",
        "# Eliminar valores nulos si hay\n",
        "codruta_departamento = codruta_departamento.dropna()\n",
        "\n",
        "# Crear diccionario\n",
        "mapa_codruta_departamento = dict(zip(codruta_departamento['CODRUTA'], codruta_departamento['DEPARTAMENTO']))\n",
        "\n",
        "# Mostrar ejemplo\n",
        "print(\"Ejemplo del mapa:\", dict(list(mapa_codruta_departamento.items())[:10]))\n"
      ],
      "metadata": {
        "colab": {
          "base_uri": "https://localhost:8080/"
        },
        "id": "BxcxzJmvPuIw",
        "outputId": "20a302da-0b4f-4065-bb0c-caffd16c54d9"
      },
      "execution_count": 342,
      "outputs": [
        {
          "output_type": "stream",
          "name": "stdout",
          "text": [
            "Ejemplo del mapa: {'PE-1S': 'JUNIN', 'PE-3N': 'AREQUIPA', 'PE-08': 'LA LIBERTAD', 'PE-1N': 'CAJAMARCA', 'PE-5N': 'PASCO', 'PE-1SJ': 'ICA', 'PE-1SD': 'MOQUEGUA', 'PE-34J': 'CUSCO', 'PE-34E': 'CUSCO', 'PE-34A': 'AYACUCHO'}\n"
          ]
        }
      ]
    },
    {
      "cell_type": "code",
      "source": [
        "# Completar campos faltantes\n",
        "df_sutran_sel[\"CANTIDAD_DE_FALLECIDOS\"] = df_sutran_sel[\"CANTIDAD_DE_FALLECIDOS\"].fillna(0)\n",
        "df_sutran_sel[\"CANTIDAD_DE_LESIONADOS\"] = df_sutran_sel[\"CANTIDAD_DE_LESIONADOS\"].fillna(0)\n",
        "df_sutran_sel[\"MODALIDAD\"] = df_sutran_sel[\"MODALIDAD\"].fillna(\"NO IDENTIFICADA\")\n",
        "\n",
        "# Rellenar DEPARTAMENTO usando Red Vial\n",
        "mapa_departamento = df_RedVial.set_index(\"CODRUTA\")[\"DEPARTAMENTO\"].to_dict()\n",
        "df_sutran_sel[\"DEPARTAMENTO\"] = df_sutran_sel.apply(\n",
        "    lambda row: mapa_departamento.get(row[\"CODRUTA\"], row[\"DEPARTAMENTO\"]),\n",
        "    axis=1\n",
        ")"
      ],
      "metadata": {
        "id": "ZjINkoQpLeGX"
      },
      "execution_count": null,
      "outputs": []
    },
    {
      "cell_type": "code",
      "source": [
        "print(df_onsv_sel)"
      ],
      "metadata": {
        "colab": {
          "base_uri": "https://localhost:8080/"
        },
        "id": "GTplDSbbjUD1",
        "outputId": "726685c8-6e6f-4aae-aa9e-3ce2e7884db1"
      },
      "execution_count": 344,
      "outputs": [
        {
          "output_type": "stream",
          "name": "stdout",
          "text": [
            "           FECHA   HORA  CANTIDAD_DE_FALLECIDOS  CANTIDAD_DE_LESIONADOS  \\\n",
            "0     01/01/2021  04:40                       1                       0   \n",
            "2     01/01/2021  06:00                       2                       0   \n",
            "3     01/01/2021  07:00                       1                       0   \n",
            "6     01/01/2021  21:00                       1                       0   \n",
            "7     01/01/2022  04:30                       1                       1   \n",
            "...          ...    ...                     ...                     ...   \n",
            "6714  31/12/2022  23:15                       1                       0   \n",
            "6715  31/12/2022  23:15                       1                       0   \n",
            "6716  31/12/2023  11:57                       1                       0   \n",
            "6717  31/12/2023  17:00                       1                       0   \n",
            "6719  31/12/2023  19:15                       1                       3   \n",
            "\n",
            "     DEPARTAMENTO  CODRUTA               MODALIDAD JERARQUIA SUPERFICIE  \n",
            "0            LIMA   LM-671                DESPISTE   VECINAL     TROCHA  \n",
            "2     LA LIBERTAD  LI-1150          ATROPELLO FUGA   VECINAL  ASFALTADA  \n",
            "3     LA LIBERTAD    PE-1N                  CHOQUE  NACIONAL  ASFALTADA  \n",
            "6      LAMBAYEQUE    PE-1N  CHOQUE CON OBJETO FIJO  NACIONAL  ASFALTADA  \n",
            "7           CUSCO   PE-34F                  CHOQUE  NACIONAL  ASFALTADA  \n",
            "...           ...      ...                     ...       ...        ...  \n",
            "6714         LIMA    PE-1N          ATROPELLO FUGA  NACIONAL        NaN  \n",
            "6715         LIMA    PE-1N          ATROPELLO FUGA  NACIONAL  ASFALTADA  \n",
            "6716        JUNIN    PE-3S               ATROPELLO  NACIONAL  ASFALTADA  \n",
            "6717  LA LIBERTAD    PE-1N               ATROPELLO  NACIONAL  ASFALTADA  \n",
            "6719         PUNO    PE-3S                DESPISTE  NACIONAL  ASFALTADA  \n",
            "\n",
            "[5034 rows x 9 columns]\n"
          ]
        }
      ]
    },
    {
      "cell_type": "code",
      "source": [
        "# Hacer merge manteniendo el departamento del siniestro, no el del tramo vial\n",
        "df_sutran_completo = df_sutran_sel.merge(df_RedVial, on=[\"CODRUTA\", \"DEPARTAMENTO\"], how=\"right\", suffixes=('', '_RV'))\n",
        "\n",
        "# Eliminar la columna DEPARTAMENTO_RV porque queremos usar solo el del siniestro\n",
        "if \"DEPARTAMENTO_RV\" in df_sutran_completo.columns:\n",
        "    df_sutran_completo = df_sutran_completo.drop(columns=[\"DEPARTAMENTO_RV\"])\n",
        "\n"
      ],
      "metadata": {
        "id": "83VzkA-KLgv5"
      },
      "execution_count": null,
      "outputs": []
    },
    {
      "cell_type": "code",
      "source": [
        "print(df_sutran_completo)"
      ],
      "metadata": {
        "colab": {
          "base_uri": "https://localhost:8080/"
        },
        "id": "HAUzhZoEwu2J",
        "outputId": "839795c4-328b-4295-a226-5c44e83c3a33"
      },
      "execution_count": 346,
      "outputs": [
        {
          "output_type": "stream",
          "name": "stdout",
          "text": [
            "            FECHA   HORA  CANTIDAD_DE_FALLECIDOS  CANTIDAD_DE_LESIONADOS  \\\n",
            "0      03/02/2020  19:30                     0.0                     2.0   \n",
            "1      17/08/2020  18:00                     0.0                     0.0   \n",
            "2      25/08/2020  06:34                     0.0                     1.0   \n",
            "3      20/09/2020  23:30                     2.0                     0.0   \n",
            "4      14/10/2020  18:50                     0.0                     2.0   \n",
            "...           ...    ...                     ...                     ...   \n",
            "57943  21/09/2021  11:00                     0.0                     4.0   \n",
            "57944  22/09/2021  09:40                     0.0                     0.0   \n",
            "57945  24/09/2021  10:40                     0.0                     0.0   \n",
            "57946  20/04/2021  18:30                     0.0                     1.0   \n",
            "57947  27/05/2021  19:00                     0.0                     1.0   \n",
            "\n",
            "      DEPARTAMENTO CODRUTA MODALIDAD   INICIO    FINAL  LONGITUD  NROCARRIL  \\\n",
            "0            PIURA   PE-02  DESPISTE    0.000   49.058   147.174          2   \n",
            "1            PIURA   PE-02  DESPISTE    0.000   49.058   147.174          2   \n",
            "2            PIURA   PE-02  DESPISTE    0.000   49.058   147.174          2   \n",
            "3            PIURA   PE-02    CHOQUE    0.000   49.058   147.174          2   \n",
            "4            PIURA   PE-02    CHOQUE    0.000   49.058   147.174          2   \n",
            "...            ...     ...       ...      ...      ...       ...        ...   \n",
            "57943        JUNIN   PE-5S  DESPISTE  174.922  194.489    58.590          2   \n",
            "57944        JUNIN   PE-5S    CHOQUE  174.922  194.489    58.590          2   \n",
            "57945        JUNIN   PE-5S    CHOQUE  174.922  194.489    58.590          2   \n",
            "57946        JUNIN  PE-5SA  DESPISTE    0.000   24.164    72.208          2   \n",
            "57947        JUNIN  PE-5SA    CHOQUE    0.000   24.164    72.208          2   \n",
            "\n",
            "        SUPERFICIE JERARQUIA  \n",
            "0      PAVIMENTADO        RN  \n",
            "1      PAVIMENTADO        RN  \n",
            "2      PAVIMENTADO        RN  \n",
            "3      PAVIMENTADO        RN  \n",
            "4      PAVIMENTADO        RN  \n",
            "...            ...       ...  \n",
            "57943     AFIRMADO        RN  \n",
            "57944     AFIRMADO        RN  \n",
            "57945     AFIRMADO        RN  \n",
            "57946     AFIRMADO        RN  \n",
            "57947     AFIRMADO        RN  \n",
            "\n",
            "[57948 rows x 13 columns]\n"
          ]
        }
      ]
    },
    {
      "cell_type": "code",
      "source": [
        "# Unificación general\n",
        "siniestros = pd.concat([df_sutran_completo], ignore_index=True)"
      ],
      "metadata": {
        "id": "b3wb_DRmv2-n"
      },
      "execution_count": null,
      "outputs": []
    },
    {
      "cell_type": "code",
      "source": [
        "print(df_sutran_completo)"
      ],
      "metadata": {
        "colab": {
          "base_uri": "https://localhost:8080/"
        },
        "id": "OfBDPmWLt7fH",
        "outputId": "fa410f1d-56d0-4f68-a3c2-88ac449094c5"
      },
      "execution_count": 348,
      "outputs": [
        {
          "output_type": "stream",
          "name": "stdout",
          "text": [
            "            FECHA   HORA  CANTIDAD_DE_FALLECIDOS  CANTIDAD_DE_LESIONADOS  \\\n",
            "0      03/02/2020  19:30                     0.0                     2.0   \n",
            "1      17/08/2020  18:00                     0.0                     0.0   \n",
            "2      25/08/2020  06:34                     0.0                     1.0   \n",
            "3      20/09/2020  23:30                     2.0                     0.0   \n",
            "4      14/10/2020  18:50                     0.0                     2.0   \n",
            "...           ...    ...                     ...                     ...   \n",
            "57943  21/09/2021  11:00                     0.0                     4.0   \n",
            "57944  22/09/2021  09:40                     0.0                     0.0   \n",
            "57945  24/09/2021  10:40                     0.0                     0.0   \n",
            "57946  20/04/2021  18:30                     0.0                     1.0   \n",
            "57947  27/05/2021  19:00                     0.0                     1.0   \n",
            "\n",
            "      DEPARTAMENTO CODRUTA MODALIDAD   INICIO    FINAL  LONGITUD  NROCARRIL  \\\n",
            "0            PIURA   PE-02  DESPISTE    0.000   49.058   147.174          2   \n",
            "1            PIURA   PE-02  DESPISTE    0.000   49.058   147.174          2   \n",
            "2            PIURA   PE-02  DESPISTE    0.000   49.058   147.174          2   \n",
            "3            PIURA   PE-02    CHOQUE    0.000   49.058   147.174          2   \n",
            "4            PIURA   PE-02    CHOQUE    0.000   49.058   147.174          2   \n",
            "...            ...     ...       ...      ...      ...       ...        ...   \n",
            "57943        JUNIN   PE-5S  DESPISTE  174.922  194.489    58.590          2   \n",
            "57944        JUNIN   PE-5S    CHOQUE  174.922  194.489    58.590          2   \n",
            "57945        JUNIN   PE-5S    CHOQUE  174.922  194.489    58.590          2   \n",
            "57946        JUNIN  PE-5SA  DESPISTE    0.000   24.164    72.208          2   \n",
            "57947        JUNIN  PE-5SA    CHOQUE    0.000   24.164    72.208          2   \n",
            "\n",
            "        SUPERFICIE JERARQUIA  \n",
            "0      PAVIMENTADO        RN  \n",
            "1      PAVIMENTADO        RN  \n",
            "2      PAVIMENTADO        RN  \n",
            "3      PAVIMENTADO        RN  \n",
            "4      PAVIMENTADO        RN  \n",
            "...            ...       ...  \n",
            "57943     AFIRMADO        RN  \n",
            "57944     AFIRMADO        RN  \n",
            "57945     AFIRMADO        RN  \n",
            "57946     AFIRMADO        RN  \n",
            "57947     AFIRMADO        RN  \n",
            "\n",
            "[57948 rows x 13 columns]\n"
          ]
        }
      ]
    },
    {
      "cell_type": "code",
      "source": [
        "# Limpieza de tipos\n",
        "siniestros[\"CANTIDAD_DE_FALLECIDOS\"] = pd.to_numeric(siniestros[\"CANTIDAD_DE_FALLECIDOS\"], errors=\"coerce\")\n",
        "\n",
        "df_concat = pd.concat([df_onsv_sel, siniestros], axis=0, ignore_index=True)\n",
        "\n",
        "# Eliminar duplicados\n",
        "siniestros_unicos = df_concat.drop_duplicates(\n",
        "    subset=[\"CODRUTA\", \"FECHA\", \"HORA\", \"CANTIDAD_DE_FALLECIDOS\"]\n",
        ")"
      ],
      "metadata": {
        "id": "DrilM2dlLjeA"
      },
      "execution_count": 349,
      "outputs": []
    },
    {
      "cell_type": "code",
      "source": [
        "print(siniestros_unicos)"
      ],
      "metadata": {
        "colab": {
          "base_uri": "https://localhost:8080/"
        },
        "id": "S0ZoJhdKlImL",
        "outputId": "87b35800-7502-4602-adc9-9d9fdf3a5b0f"
      },
      "execution_count": 350,
      "outputs": [
        {
          "output_type": "stream",
          "name": "stdout",
          "text": [
            "            FECHA   HORA  CANTIDAD_DE_FALLECIDOS  CANTIDAD_DE_LESIONADOS  \\\n",
            "0      01/01/2021  04:40                     1.0                     0.0   \n",
            "1      01/01/2021  06:00                     2.0                     0.0   \n",
            "2      01/01/2021  07:00                     1.0                     0.0   \n",
            "3      01/01/2021  21:00                     1.0                     0.0   \n",
            "4      01/01/2022  04:30                     1.0                     1.0   \n",
            "...           ...    ...                     ...                     ...   \n",
            "62672  21/09/2021  11:00                     0.0                     4.0   \n",
            "62673  22/09/2021  09:40                     0.0                     0.0   \n",
            "62674  24/09/2021  10:40                     0.0                     0.0   \n",
            "62980  20/04/2021  18:30                     0.0                     1.0   \n",
            "62981  27/05/2021  19:00                     0.0                     1.0   \n",
            "\n",
            "      DEPARTAMENTO  CODRUTA               MODALIDAD JERARQUIA   SUPERFICIE  \\\n",
            "0             LIMA   LM-671                DESPISTE   VECINAL       TROCHA   \n",
            "1      LA LIBERTAD  LI-1150          ATROPELLO FUGA   VECINAL    ASFALTADA   \n",
            "2      LA LIBERTAD    PE-1N                  CHOQUE  NACIONAL    ASFALTADA   \n",
            "3       LAMBAYEQUE    PE-1N  CHOQUE CON OBJETO FIJO  NACIONAL    ASFALTADA   \n",
            "4            CUSCO   PE-34F                  CHOQUE  NACIONAL    ASFALTADA   \n",
            "...            ...      ...                     ...       ...          ...   \n",
            "62672        JUNIN    PE-5S                DESPISTE        RN  PAVIMENTADO   \n",
            "62673        JUNIN    PE-5S                  CHOQUE        RN  PAVIMENTADO   \n",
            "62674        JUNIN    PE-5S                  CHOQUE        RN  PAVIMENTADO   \n",
            "62980        JUNIN   PE-5SA                DESPISTE        RN     AFIRMADO   \n",
            "62981        JUNIN   PE-5SA                  CHOQUE        RN     AFIRMADO   \n",
            "\n",
            "       INICIO   FINAL  LONGITUD  NROCARRIL  \n",
            "0         NaN     NaN       NaN        NaN  \n",
            "1         NaN     NaN       NaN        NaN  \n",
            "2         NaN     NaN       NaN        NaN  \n",
            "3         NaN     NaN       NaN        NaN  \n",
            "4         NaN     NaN       NaN        NaN  \n",
            "...       ...     ...       ...        ...  \n",
            "62672     0.0  58.784   176.352        2.0  \n",
            "62673     0.0  58.784   176.352        2.0  \n",
            "62674     0.0  58.784   176.352        2.0  \n",
            "62980     0.0  24.164    72.208        2.0  \n",
            "62981     0.0  24.164    72.208        2.0  \n",
            "\n",
            "[12724 rows x 13 columns]\n"
          ]
        }
      ]
    },
    {
      "cell_type": "code",
      "source": [
        "def es_noche(hora):\n",
        "    try:\n",
        "        if pd.isnull(hora): return False\n",
        "        hora_str = str(hora).strip()\n",
        "        h = int(hora_str.split(\":\")[0]) if \":\" in hora_str else int(hora_str[:2])\n",
        "        return h >= 19 or h < 6\n",
        "    except:\n",
        "        return False"
      ],
      "metadata": {
        "id": "b0c79qR0Lk89"
      },
      "execution_count": 351,
      "outputs": []
    },
    {
      "cell_type": "code",
      "source": [
        "# Asegurarse de que los campos booleanos están calculados\n",
        "siniestros_unicos = siniestros_unicos.copy()\n",
        "siniestros_unicos[\"es_noche\"] = siniestros_unicos[\"HORA\"].apply(es_noche)\n",
        "\n",
        "# Visualizar algunos registros\n",
        "print(siniestros_unicos)\n",
        "print(len(siniestros_unicos))\n"
      ],
      "metadata": {
        "colab": {
          "base_uri": "https://localhost:8080/"
        },
        "id": "bvP8yY8mWNWt",
        "outputId": "522b7dad-bd5a-4dee-8de8-b21ab6d848a3"
      },
      "execution_count": 352,
      "outputs": [
        {
          "output_type": "stream",
          "name": "stdout",
          "text": [
            "            FECHA   HORA  CANTIDAD_DE_FALLECIDOS  CANTIDAD_DE_LESIONADOS  \\\n",
            "0      01/01/2021  04:40                     1.0                     0.0   \n",
            "1      01/01/2021  06:00                     2.0                     0.0   \n",
            "2      01/01/2021  07:00                     1.0                     0.0   \n",
            "3      01/01/2021  21:00                     1.0                     0.0   \n",
            "4      01/01/2022  04:30                     1.0                     1.0   \n",
            "...           ...    ...                     ...                     ...   \n",
            "62672  21/09/2021  11:00                     0.0                     4.0   \n",
            "62673  22/09/2021  09:40                     0.0                     0.0   \n",
            "62674  24/09/2021  10:40                     0.0                     0.0   \n",
            "62980  20/04/2021  18:30                     0.0                     1.0   \n",
            "62981  27/05/2021  19:00                     0.0                     1.0   \n",
            "\n",
            "      DEPARTAMENTO  CODRUTA               MODALIDAD JERARQUIA   SUPERFICIE  \\\n",
            "0             LIMA   LM-671                DESPISTE   VECINAL       TROCHA   \n",
            "1      LA LIBERTAD  LI-1150          ATROPELLO FUGA   VECINAL    ASFALTADA   \n",
            "2      LA LIBERTAD    PE-1N                  CHOQUE  NACIONAL    ASFALTADA   \n",
            "3       LAMBAYEQUE    PE-1N  CHOQUE CON OBJETO FIJO  NACIONAL    ASFALTADA   \n",
            "4            CUSCO   PE-34F                  CHOQUE  NACIONAL    ASFALTADA   \n",
            "...            ...      ...                     ...       ...          ...   \n",
            "62672        JUNIN    PE-5S                DESPISTE        RN  PAVIMENTADO   \n",
            "62673        JUNIN    PE-5S                  CHOQUE        RN  PAVIMENTADO   \n",
            "62674        JUNIN    PE-5S                  CHOQUE        RN  PAVIMENTADO   \n",
            "62980        JUNIN   PE-5SA                DESPISTE        RN     AFIRMADO   \n",
            "62981        JUNIN   PE-5SA                  CHOQUE        RN     AFIRMADO   \n",
            "\n",
            "       INICIO   FINAL  LONGITUD  NROCARRIL  es_noche  \n",
            "0         NaN     NaN       NaN        NaN      True  \n",
            "1         NaN     NaN       NaN        NaN     False  \n",
            "2         NaN     NaN       NaN        NaN     False  \n",
            "3         NaN     NaN       NaN        NaN      True  \n",
            "4         NaN     NaN       NaN        NaN      True  \n",
            "...       ...     ...       ...        ...       ...  \n",
            "62672     0.0  58.784   176.352        2.0     False  \n",
            "62673     0.0  58.784   176.352        2.0     False  \n",
            "62674     0.0  58.784   176.352        2.0     False  \n",
            "62980     0.0  24.164    72.208        2.0     False  \n",
            "62981     0.0  24.164    72.208        2.0      True  \n",
            "\n",
            "[12724 rows x 14 columns]\n",
            "12724\n"
          ]
        }
      ]
    },
    {
      "cell_type": "code",
      "source": [
        "\n",
        "adicionales = siniestros_unicos.groupby(\"CODRUTA\").agg(\n",
        "    porcentaje_noche=(\"es_noche\", lambda x: round(100 * x.sum() / len(x), 2)),\n",
        ").reset_index()\n",
        "\n"
      ],
      "metadata": {
        "id": "8rb6Z_kdLmP7"
      },
      "execution_count": 353,
      "outputs": []
    },
    {
      "cell_type": "code",
      "source": [
        "resumen_completo = siniestros_unicos.merge(adicionales, on=\"CODRUTA\", how=\"left\")"
      ],
      "metadata": {
        "id": "1Rp6-KOSLob6"
      },
      "execution_count": 354,
      "outputs": []
    },
    {
      "cell_type": "code",
      "source": [
        "resumen_completo['FECHA'] = pd.to_datetime(resumen_completo['FECHA'], format='%d/%m/%Y', errors='coerce')\n",
        "resumen_completo[\"HORA\"] = resumen_completo[\"HORA\"].fillna(\"NO DISPONIBLE\")"
      ],
      "metadata": {
        "id": "gAhKk_VX8HQK"
      },
      "execution_count": 355,
      "outputs": []
    },
    {
      "cell_type": "code",
      "source": [
        "print(\"Tipos de datos por columna:\")\n",
        "print(resumen_completo.dtypes)\n",
        "print(resumen_completo.isnull().sum())\n",
        "print(resumen_completo)\n"
      ],
      "metadata": {
        "colab": {
          "base_uri": "https://localhost:8080/"
        },
        "id": "6StYiv7K0A9j",
        "outputId": "1895184a-a758-4abf-f423-bd9db19699ff"
      },
      "execution_count": 356,
      "outputs": [
        {
          "output_type": "stream",
          "name": "stdout",
          "text": [
            "Tipos de datos por columna:\n",
            "FECHA                     datetime64[ns]\n",
            "HORA                              object\n",
            "CANTIDAD_DE_FALLECIDOS           float64\n",
            "CANTIDAD_DE_LESIONADOS           float64\n",
            "DEPARTAMENTO                      object\n",
            "CODRUTA                           object\n",
            "MODALIDAD                         object\n",
            "JERARQUIA                         object\n",
            "SUPERFICIE                        object\n",
            "INICIO                           float64\n",
            "FINAL                            float64\n",
            "LONGITUD                         float64\n",
            "NROCARRIL                        float64\n",
            "es_noche                            bool\n",
            "porcentaje_noche                 float64\n",
            "dtype: object\n",
            "FECHA                       58\n",
            "HORA                         0\n",
            "CANTIDAD_DE_FALLECIDOS      58\n",
            "CANTIDAD_DE_LESIONADOS      58\n",
            "DEPARTAMENTO                 0\n",
            "CODRUTA                      0\n",
            "MODALIDAD                   58\n",
            "JERARQUIA                    0\n",
            "SUPERFICIE                 205\n",
            "INICIO                    5028\n",
            "FINAL                     5028\n",
            "LONGITUD                  5028\n",
            "NROCARRIL                 5028\n",
            "es_noche                     0\n",
            "porcentaje_noche             0\n",
            "dtype: int64\n",
            "           FECHA   HORA  CANTIDAD_DE_FALLECIDOS  CANTIDAD_DE_LESIONADOS  \\\n",
            "0     2021-01-01  04:40                     1.0                     0.0   \n",
            "1     2021-01-01  06:00                     2.0                     0.0   \n",
            "2     2021-01-01  07:00                     1.0                     0.0   \n",
            "3     2021-01-01  21:00                     1.0                     0.0   \n",
            "4     2022-01-01  04:30                     1.0                     1.0   \n",
            "...          ...    ...                     ...                     ...   \n",
            "12719 2021-09-21  11:00                     0.0                     4.0   \n",
            "12720 2021-09-22  09:40                     0.0                     0.0   \n",
            "12721 2021-09-24  10:40                     0.0                     0.0   \n",
            "12722 2021-04-20  18:30                     0.0                     1.0   \n",
            "12723 2021-05-27  19:00                     0.0                     1.0   \n",
            "\n",
            "      DEPARTAMENTO  CODRUTA               MODALIDAD JERARQUIA   SUPERFICIE  \\\n",
            "0             LIMA   LM-671                DESPISTE   VECINAL       TROCHA   \n",
            "1      LA LIBERTAD  LI-1150          ATROPELLO FUGA   VECINAL    ASFALTADA   \n",
            "2      LA LIBERTAD    PE-1N                  CHOQUE  NACIONAL    ASFALTADA   \n",
            "3       LAMBAYEQUE    PE-1N  CHOQUE CON OBJETO FIJO  NACIONAL    ASFALTADA   \n",
            "4            CUSCO   PE-34F                  CHOQUE  NACIONAL    ASFALTADA   \n",
            "...            ...      ...                     ...       ...          ...   \n",
            "12719        JUNIN    PE-5S                DESPISTE        RN  PAVIMENTADO   \n",
            "12720        JUNIN    PE-5S                  CHOQUE        RN  PAVIMENTADO   \n",
            "12721        JUNIN    PE-5S                  CHOQUE        RN  PAVIMENTADO   \n",
            "12722        JUNIN   PE-5SA                DESPISTE        RN     AFIRMADO   \n",
            "12723        JUNIN   PE-5SA                  CHOQUE        RN     AFIRMADO   \n",
            "\n",
            "       INICIO   FINAL  LONGITUD  NROCARRIL  es_noche  porcentaje_noche  \n",
            "0         NaN     NaN       NaN        NaN      True            100.00  \n",
            "1         NaN     NaN       NaN        NaN     False             50.00  \n",
            "2         NaN     NaN       NaN        NaN     False             45.75  \n",
            "3         NaN     NaN       NaN        NaN      True             45.75  \n",
            "4         NaN     NaN       NaN        NaN      True             41.67  \n",
            "...       ...     ...       ...        ...       ...               ...  \n",
            "12719     0.0  58.784   176.352        2.0     False             44.33  \n",
            "12720     0.0  58.784   176.352        2.0     False             44.33  \n",
            "12721     0.0  58.784   176.352        2.0     False             44.33  \n",
            "12722     0.0  24.164    72.208        2.0     False             50.00  \n",
            "12723     0.0  24.164    72.208        2.0      True             50.00  \n",
            "\n",
            "[12724 rows x 15 columns]\n"
          ]
        }
      ]
    },
    {
      "cell_type": "code",
      "source": [
        "# Paso 1: Unir siniestros con variables adicionales\n",
        "resumen_completo = siniestros_unicos.merge(adicionales, on=\"CODRUTA\", how=\"left\")\n",
        "\n",
        "# Paso 2: Filtrar siniestros que ocurren en vías nacionales (las que están en df_RedVial)\n",
        "# Solo mantenemos los siniestros que tienen un CODRUTA + DEPARTAMENTO que existe en la red vial nacional\n",
        "\n",
        "\n",
        "# Paso 3: Rellenar nulos con valores por defecto\n",
        "resumen_completo[\"CANTIDAD_DE_FALLECIDOS\"] = resumen_completo[\"CANTIDAD_DE_FALLECIDOS\"].fillna(0).astype(int)\n",
        "resumen_completo[\"CANTIDAD_DE_HERIDOS\"] = resumen_completo.get(\"CANTIDAD_DE_HERIDOS\", 0)\n",
        "resumen_completo[\"CANTIDAD_DE_HERIDOS\"] = resumen_completo[\"CANTIDAD_DE_HERIDOS\"].fillna(0).astype(int)\n",
        "\n",
        "# Textos por defecto\n",
        "for col_texto in [\"tipo_accidente_mas_frec\", \"zona_mas_frec\", \"causa_mas_comun\"]:\n",
        "    if col_texto in resumen_completo.columns:\n",
        "        resumen_completo[col_texto] = resumen_completo[col_texto].fillna(\"NO IDENTIFICADO\")\n",
        "\n",
        "# Porcentajes por defecto\n",
        "for col_porc in [\"porcentaje_noche\", \"porcentaje_clima_peligroso\"]:\n",
        "    if col_porc in resumen_completo.columns:\n",
        "        resumen_completo[col_porc] = resumen_completo[col_porc].fillna(0.0)\n",
        "\n",
        "# Este es tu dataset final con todos los siniestros de vías nacionales\n",
        "dataset_final = resumen_completo.copy()\n"
      ],
      "metadata": {
        "id": "CpZ_k4D1MSg4"
      },
      "execution_count": 357,
      "outputs": []
    },
    {
      "cell_type": "code",
      "source": [
        "print(\"dataset_final\",dataset_final.columns.tolist())"
      ],
      "metadata": {
        "colab": {
          "base_uri": "https://localhost:8080/"
        },
        "id": "wzzufBwBrLhi",
        "outputId": "b5327a30-ddd8-4a16-d267-441666a9fbd7"
      },
      "execution_count": 358,
      "outputs": [
        {
          "output_type": "stream",
          "name": "stdout",
          "text": [
            "dataset_final ['FECHA', 'HORA', 'CANTIDAD_DE_FALLECIDOS', 'CANTIDAD_DE_LESIONADOS', 'DEPARTAMENTO', 'CODRUTA', 'MODALIDAD', 'JERARQUIA', 'SUPERFICIE', 'INICIO', 'FINAL', 'LONGITUD', 'NROCARRIL', 'es_noche', 'porcentaje_noche', 'CANTIDAD_DE_HERIDOS']\n"
          ]
        }
      ]
    },
    {
      "cell_type": "code",
      "source": [
        "print(dataset_final)"
      ],
      "metadata": {
        "colab": {
          "base_uri": "https://localhost:8080/"
        },
        "id": "aEEdD9vIqh0O",
        "outputId": "d8eab5ac-6969-43cb-a08c-b77d36bc2401"
      },
      "execution_count": 359,
      "outputs": [
        {
          "output_type": "stream",
          "name": "stdout",
          "text": [
            "            FECHA   HORA  CANTIDAD_DE_FALLECIDOS  CANTIDAD_DE_LESIONADOS  \\\n",
            "0      01/01/2021  04:40                       1                     0.0   \n",
            "1      01/01/2021  06:00                       2                     0.0   \n",
            "2      01/01/2021  07:00                       1                     0.0   \n",
            "3      01/01/2021  21:00                       1                     0.0   \n",
            "4      01/01/2022  04:30                       1                     1.0   \n",
            "...           ...    ...                     ...                     ...   \n",
            "12719  21/09/2021  11:00                       0                     4.0   \n",
            "12720  22/09/2021  09:40                       0                     0.0   \n",
            "12721  24/09/2021  10:40                       0                     0.0   \n",
            "12722  20/04/2021  18:30                       0                     1.0   \n",
            "12723  27/05/2021  19:00                       0                     1.0   \n",
            "\n",
            "      DEPARTAMENTO  CODRUTA               MODALIDAD JERARQUIA   SUPERFICIE  \\\n",
            "0             LIMA   LM-671                DESPISTE   VECINAL       TROCHA   \n",
            "1      LA LIBERTAD  LI-1150          ATROPELLO FUGA   VECINAL    ASFALTADA   \n",
            "2      LA LIBERTAD    PE-1N                  CHOQUE  NACIONAL    ASFALTADA   \n",
            "3       LAMBAYEQUE    PE-1N  CHOQUE CON OBJETO FIJO  NACIONAL    ASFALTADA   \n",
            "4            CUSCO   PE-34F                  CHOQUE  NACIONAL    ASFALTADA   \n",
            "...            ...      ...                     ...       ...          ...   \n",
            "12719        JUNIN    PE-5S                DESPISTE        RN  PAVIMENTADO   \n",
            "12720        JUNIN    PE-5S                  CHOQUE        RN  PAVIMENTADO   \n",
            "12721        JUNIN    PE-5S                  CHOQUE        RN  PAVIMENTADO   \n",
            "12722        JUNIN   PE-5SA                DESPISTE        RN     AFIRMADO   \n",
            "12723        JUNIN   PE-5SA                  CHOQUE        RN     AFIRMADO   \n",
            "\n",
            "       INICIO   FINAL  LONGITUD  NROCARRIL  es_noche  porcentaje_noche  \\\n",
            "0         NaN     NaN       NaN        NaN      True            100.00   \n",
            "1         NaN     NaN       NaN        NaN     False             50.00   \n",
            "2         NaN     NaN       NaN        NaN     False             45.75   \n",
            "3         NaN     NaN       NaN        NaN      True             45.75   \n",
            "4         NaN     NaN       NaN        NaN      True             41.67   \n",
            "...       ...     ...       ...        ...       ...               ...   \n",
            "12719     0.0  58.784   176.352        2.0     False             44.33   \n",
            "12720     0.0  58.784   176.352        2.0     False             44.33   \n",
            "12721     0.0  58.784   176.352        2.0     False             44.33   \n",
            "12722     0.0  24.164    72.208        2.0     False             50.00   \n",
            "12723     0.0  24.164    72.208        2.0      True             50.00   \n",
            "\n",
            "       CANTIDAD_DE_HERIDOS  \n",
            "0                        0  \n",
            "1                        0  \n",
            "2                        0  \n",
            "3                        0  \n",
            "4                        0  \n",
            "...                    ...  \n",
            "12719                    0  \n",
            "12720                    0  \n",
            "12721                    0  \n",
            "12722                    0  \n",
            "12723                    0  \n",
            "\n",
            "[12724 rows x 16 columns]\n"
          ]
        }
      ]
    },
    {
      "cell_type": "code",
      "source": [
        "nulos= dataset_final.isnull().sum()\n",
        "\n",
        "porcentaje = (nulos / len(dataset_final)) * 100\n",
        "\n",
        "reporte = pd.DataFrame({\n",
        "    \"NULOS\": nulos,\n",
        "    \"PORCENTAJE (%)\": porcentaje.round(2)\n",
        "})\n",
        "\n",
        "print(reporte)"
      ],
      "metadata": {
        "colab": {
          "base_uri": "https://localhost:8080/"
        },
        "id": "I1pAsiVUtCPU",
        "outputId": "ecc790c1-714a-42fb-aeb9-40569d358ad6"
      },
      "execution_count": 386,
      "outputs": [
        {
          "output_type": "stream",
          "name": "stdout",
          "text": [
            "                        NULOS  PORCENTAJE (%)\n",
            "FECHA                      58            0.46\n",
            "HORA                      137            1.08\n",
            "CANTIDAD_DE_FALLECIDOS      0            0.00\n",
            "CANTIDAD_DE_LESIONADOS      0            0.00\n",
            "DEPARTAMENTO                0            0.00\n",
            "CODRUTA                     0            0.00\n",
            "MODALIDAD                   0            0.00\n",
            "JERARQUIA                   0            0.00\n",
            "SUPERFICIE                  0            0.00\n",
            "NROCARRIL                   0            0.00\n",
            "es_noche                    0            0.00\n",
            "porcentaje_noche            0            0.00\n",
            "CANTIDAD_DE_HERIDOS         0            0.00\n"
          ]
        }
      ]
    },
    {
      "cell_type": "code",
      "source": [
        "dataset_final[\"CANTIDAD_DE_LESIONADOS\"] = dataset_final[\"CANTIDAD_DE_LESIONADOS\"].fillna(0)\n"
      ],
      "metadata": {
        "id": "GNjsd3-57MjO"
      },
      "execution_count": 362,
      "outputs": []
    },
    {
      "cell_type": "code",
      "source": [
        "dataset_final = dataset_final.drop(columns=[\"INICIO\", \"FINAL\", \"LONGITUD\"])"
      ],
      "metadata": {
        "id": "r0lq2HUs-fW_"
      },
      "execution_count": 363,
      "outputs": []
    },
    {
      "cell_type": "code",
      "source": [
        "print(dataset_final.dtypes)\n"
      ],
      "metadata": {
        "colab": {
          "base_uri": "https://localhost:8080/"
        },
        "id": "VRrkBX6C7YAu",
        "outputId": "e0069e6a-fa9e-4d6c-d13a-ea35668298d9"
      },
      "execution_count": 364,
      "outputs": [
        {
          "output_type": "stream",
          "name": "stdout",
          "text": [
            "FECHA                      object\n",
            "HORA                       object\n",
            "CANTIDAD_DE_FALLECIDOS      int64\n",
            "CANTIDAD_DE_LESIONADOS    float64\n",
            "DEPARTAMENTO               object\n",
            "CODRUTA                    object\n",
            "MODALIDAD                  object\n",
            "JERARQUIA                  object\n",
            "SUPERFICIE                 object\n",
            "NROCARRIL                 float64\n",
            "es_noche                     bool\n",
            "porcentaje_noche          float64\n",
            "CANTIDAD_DE_HERIDOS         int64\n",
            "dtype: object\n"
          ]
        }
      ]
    },
    {
      "cell_type": "code",
      "source": [
        "for col in [\"MODALIDAD\", \"JERARQUIA\", \"SUPERFICIE\"]:\n",
        "    print(f\"\\nValores únicos en '{col}':\")\n",
        "    print(dataset_final[col].value_counts(dropna=False))"
      ],
      "metadata": {
        "colab": {
          "base_uri": "https://localhost:8080/"
        },
        "id": "ZpTGmikh-1rT",
        "outputId": "dad6338a-0c96-4362-b8cf-0fd11ee63622"
      },
      "execution_count": 365,
      "outputs": [
        {
          "output_type": "stream",
          "name": "stdout",
          "text": [
            "\n",
            "Valores únicos en 'MODALIDAD':\n",
            "MODALIDAD\n",
            "CHOQUE                    5201\n",
            "DESPISTE                  5031\n",
            "ATROPELLO                 1152\n",
            "ATROPELLO FUGA             504\n",
            "VOLCADURA                  270\n",
            "ESPECIAL                   209\n",
            "CHOQUE FUGA                162\n",
            "CHOQUE CON OBJETO FIJO      64\n",
            "NaN                         58\n",
            "CAIDA DE PASAJERO           47\n",
            "NO IDENTIFICADA             23\n",
            "FERROVIARIO                  2\n",
            "INCENDIO                     1\n",
            "Name: count, dtype: int64\n",
            "\n",
            "Valores únicos en 'JERARQUIA':\n",
            "JERARQUIA\n",
            "RN               7696\n",
            "NACIONAL         3783\n",
            "VECINAL           679\n",
            "DEPARTAMENTAL     566\n",
            "Name: count, dtype: int64\n",
            "\n",
            "Valores únicos en 'SUPERFICIE':\n",
            "SUPERFICIE\n",
            "PAVIMENTADO            6889\n",
            "ASFALTADA              4056\n",
            "ASFALTADO ECONÓMICO     546\n",
            "AFIRMADO                490\n",
            "TROCHA                  318\n",
            "NaN                     205\n",
            "PROYECTADO               94\n",
            "CONCRETO                 73\n",
            "CASCAJO/RIPIO            25\n",
            "SIN AFIRMAR              22\n",
            "EMPEDRADO                 4\n",
            "ADOQUINADO                2\n",
            "Name: count, dtype: int64\n"
          ]
        }
      ]
    },
    {
      "cell_type": "code",
      "source": [
        "def agrupar_modalidad(val):\n",
        "    if pd.isnull(val):\n",
        "        return \"NO ESPECIFICADO\"\n",
        "    val = val.upper()\n",
        "    if \"CHOQUE\" in val:\n",
        "        return \"CHOQUE\"\n",
        "    elif \"ATROPELLO\" in val:\n",
        "        return \"ATROPELLO\"\n",
        "    elif \"VOLCADURA\" in val:\n",
        "        return \"VOLCADURA\"\n",
        "    elif \"CAIDA\" in val:\n",
        "        return \"CAIDA DE PASAJERO\"\n",
        "    elif val in [\"DESPISTE\", \"ESPECIAL\", \"FERROVIARIO\", \"INCENDIO\", \"NO IDENTIFICADA\"]:\n",
        "        return val\n",
        "    else:\n",
        "        return \"OTROS\"\n",
        "\n",
        "dataset_final[\"MODALIDAD\"] = dataset_final[\"MODALIDAD\"].apply(agrupar_modalidad)\n",
        "\n",
        "dataset_final[\"MODALIDAD\"] = dataset_final[\"MODALIDAD\"].fillna(\"NO ESPECIFICADO\")"
      ],
      "metadata": {
        "id": "gJ_o381v_AKE"
      },
      "execution_count": 366,
      "outputs": []
    },
    {
      "cell_type": "code",
      "source": [
        "def agrupar_superficie(valor):\n",
        "    if valor == \"NO DISPONIBLE\":\n",
        "        return \"SIN INFORMACIÓN\"\n",
        "    elif valor in [\"PAVIMENTADO\", \"ASFALTADO ECONÓMICO\"]:\n",
        "        return \"PAVIMENTADO\"\n",
        "    elif valor in [\"AFIRMADO\", \"PROYECTADO\", \"SIN AFIRMAR\", \"TROCHA\"]:\n",
        "        return \"NO PAVIMENTADO\"\n",
        "    else:\n",
        "        return \"OTROS\"\n",
        "\n",
        "dataset_final[\"SUPERFICIE\"] = dataset_final[\"SUPERFICIE\"].apply(agrupar_superficie)\n"
      ],
      "metadata": {
        "id": "QTRx02ca_pBV"
      },
      "execution_count": 367,
      "outputs": []
    },
    {
      "cell_type": "code",
      "source": [
        "\n",
        "nulos= dataset_final.isnull().sum()\n",
        "\n",
        "porcentaje = (nulos / len(dataset_final)) * 100\n",
        "\n",
        "reporte = pd.DataFrame({\n",
        "    \"NULOS\": nulos,\n",
        "    \"PORCENTAJE (%)\": porcentaje.round(2)\n",
        "})\n",
        "\n",
        "print(reporte)"
      ],
      "metadata": {
        "colab": {
          "base_uri": "https://localhost:8080/"
        },
        "id": "8RxD-wOQ_Zo_",
        "outputId": "537cb813-e0f9-450f-8d86-d79b9d3f02a3"
      },
      "execution_count": 368,
      "outputs": [
        {
          "output_type": "stream",
          "name": "stdout",
          "text": [
            "                        NULOS  PORCENTAJE (%)\n",
            "FECHA                      58            0.46\n",
            "HORA                      137            1.08\n",
            "CANTIDAD_DE_FALLECIDOS      0            0.00\n",
            "CANTIDAD_DE_LESIONADOS      0            0.00\n",
            "DEPARTAMENTO                0            0.00\n",
            "CODRUTA                     0            0.00\n",
            "MODALIDAD                   0            0.00\n",
            "JERARQUIA                   0            0.00\n",
            "SUPERFICIE                  0            0.00\n",
            "NROCARRIL                5028           39.52\n",
            "es_noche                    0            0.00\n",
            "porcentaje_noche            0            0.00\n",
            "CANTIDAD_DE_HERIDOS         0            0.00\n"
          ]
        }
      ]
    },
    {
      "cell_type": "code",
      "source": [
        "moda = dataset_final[\"NROCARRIL\"].mode()[0]\n",
        "dataset_final[\"NROCARRIL\"] = dataset_final[\"NROCARRIL\"].fillna(moda).astype(int)\n",
        "print(dataset_final.dtypes)\n"
      ],
      "metadata": {
        "colab": {
          "base_uri": "https://localhost:8080/"
        },
        "id": "UxrUDN7W_1FE",
        "outputId": "8e06d1c9-fbb1-41b9-885d-b3563a6a2c9e"
      },
      "execution_count": 369,
      "outputs": [
        {
          "output_type": "stream",
          "name": "stdout",
          "text": [
            "FECHA                      object\n",
            "HORA                       object\n",
            "CANTIDAD_DE_FALLECIDOS      int64\n",
            "CANTIDAD_DE_LESIONADOS    float64\n",
            "DEPARTAMENTO               object\n",
            "CODRUTA                    object\n",
            "MODALIDAD                  object\n",
            "JERARQUIA                  object\n",
            "SUPERFICIE                 object\n",
            "NROCARRIL                   int64\n",
            "es_noche                     bool\n",
            "porcentaje_noche          float64\n",
            "CANTIDAD_DE_HERIDOS         int64\n",
            "dtype: object\n"
          ]
        }
      ]
    },
    {
      "cell_type": "code",
      "source": [
        "siniestralidad_por_ruta = dataset_final.groupby(\"CODRUTA\").agg({\n",
        "    \"CANTIDAD_DE_FALLECIDOS\": \"sum\",\n",
        "    \"CODRUTA\": \"count\",\n",
        "    \"es_noche\": \"mean\",\n",
        "}).rename(columns={\n",
        "    \"CODRUTA\": \"TOTAL_ACCIDENTES\",\n",
        "    \"CANTIDAD_DE_FALLECIDOS\": \"TOTAL_FALLECIDOS\",\n",
        "    \"es_noche\": \"porcentaje_noche\",\n",
        "})\n",
        "\n",
        "# Calcular grado de siniestralidad\n",
        "siniestralidad_por_ruta[\"GRADO_SINIESTRALIDAD (%)\"] = (\n",
        "    siniestralidad_por_ruta[\"TOTAL_FALLECIDOS\"] / siniestralidad_por_ruta[\"TOTAL_ACCIDENTES\"]\n",
        ") * 100\n",
        "\n",
        "# Convertir proporciones a porcentaje y redondear\n",
        "siniestralidad_por_ruta[[\"porcentaje_noche\", \"GRADO_SINIESTRALIDAD (%)\"]] = \\\n",
        "    siniestralidad_por_ruta[[\"porcentaje_noche\", \"GRADO_SINIESTRALIDAD (%)\"]].round(2)\n",
        "\n",
        "# Reset index\n",
        "siniestralidad_por_ruta = siniestralidad_por_ruta.reset_index()\n"
      ],
      "metadata": {
        "id": "DufpxMCBDazo"
      },
      "execution_count": 370,
      "outputs": []
    },
    {
      "cell_type": "code",
      "source": [
        "# Unir con la red vial solo una vez y evitando duplicados\n",
        "df_info_ruta = df_RedVial[[\n",
        "    \"CODRUTA\", \"INICIO\", \"FINAL\", \"LONGITUD\", \"NROCARRIL\", \"SUPERFICIE\", \"DEPARTAMENTO\", \"JERARQUIA\"\n",
        "]].drop_duplicates()\n",
        "\n",
        "\n",
        "df_info_ruta = df_onsv_sel[[\n",
        "    \"CODRUTA\", \"SUPERFICIE\", \"DEPARTAMENTO\", \"JERARQUIA\"\n",
        "]].drop_duplicates()\n",
        "\n",
        "# Hacer merge sin duplicar columnas\n",
        "resumen_final = siniestralidad_por_ruta.merge(df_info_ruta, on=\"CODRUTA\", how=\"left\")\n",
        "\n",
        "# Primero obtener NROCARRIL de df_RedVial\n",
        "df_nrocarril = df_RedVial[[\"CODRUTA\", \"NROCARRIL\"]].drop_duplicates()\n",
        "\n",
        "# Hacer merge en dos pasos\n",
        "resumen_final = (\n",
        "    siniestralidad_por_ruta\n",
        "    .merge(df_onsv_sel[[\"CODRUTA\", \"SUPERFICIE\", \"DEPARTAMENTO\", \"JERARQUIA\"]].drop_duplicates(),\n",
        "           on=\"CODRUTA\", how=\"left\")\n",
        "    .merge(df_nrocarril, on=\"CODRUTA\", how=\"left\")\n",
        ")\n",
        "\n",
        "\n",
        "# Reordenar columnas si deseas\n",
        "cols = [\n",
        "    \"CODRUTA\",\"SUPERFICIE\", \"DEPARTAMENTO\", \"JERARQUIA\",\n",
        "    \"TOTAL_ACCIDENTES\", \"TOTAL_FALLECIDOS\",\n",
        "    \"GRADO_SINIESTRALIDAD (%)\", \"porcentaje_noche\", \"NROCARRIL\"\n",
        "]\n",
        "resumen_final = resumen_final[cols]\n"
      ],
      "metadata": {
        "id": "q-jnepJaDdsB"
      },
      "execution_count": 371,
      "outputs": []
    },
    {
      "cell_type": "code",
      "source": [
        "\n",
        "nulos= resumen_final.isnull().sum()\n",
        "\n",
        "porcentaje = (nulos / len(resumen_final)) * 100\n",
        "\n",
        "reporte = pd.DataFrame({\n",
        "    \"NULOS\": nulos,\n",
        "    \"PORCENTAJE (%)\": porcentaje.round(2)\n",
        "})\n",
        "\n",
        "print(reporte)"
      ],
      "metadata": {
        "colab": {
          "base_uri": "https://localhost:8080/"
        },
        "id": "qahV2R0WDvr8",
        "outputId": "08be47de-d0dd-4f96-b49c-f770823a4e3c"
      },
      "execution_count": 372,
      "outputs": [
        {
          "output_type": "stream",
          "name": "stdout",
          "text": [
            "                          NULOS  PORCENTAJE (%)\n",
            "CODRUTA                       0            0.00\n",
            "SUPERFICIE                  216           11.54\n",
            "DEPARTAMENTO                 22            1.18\n",
            "JERARQUIA                    22            1.18\n",
            "TOTAL_ACCIDENTES              0            0.00\n",
            "TOTAL_FALLECIDOS              0            0.00\n",
            "GRADO_SINIESTRALIDAD (%)      0            0.00\n",
            "porcentaje_noche              0            0.00\n",
            "NROCARRIL                   889           47.49\n"
          ]
        }
      ]
    },
    {
      "cell_type": "code",
      "source": [
        "for col in [\"DEPARTAMENTO\", \"JERARQUIA\", \"SUPERFICIE\"]:\n",
        "    print(f\"\\nValores únicos en '{col}':\")\n",
        "    print(dataset_final[col].value_counts(dropna=False))"
      ],
      "metadata": {
        "colab": {
          "base_uri": "https://localhost:8080/"
        },
        "id": "UldyTXbsLI0D",
        "outputId": "3b54f488-70e9-4de1-d7a4-dd530101e366"
      },
      "execution_count": 373,
      "outputs": [
        {
          "output_type": "stream",
          "name": "stdout",
          "text": [
            "\n",
            "Valores únicos en 'DEPARTAMENTO':\n",
            "DEPARTAMENTO\n",
            "LIMA             2752\n",
            "PUNO             1696\n",
            "TACNA            1489\n",
            "PIURA             998\n",
            "CAJAMARCA         886\n",
            "CUSCO             664\n",
            "LA LIBERTAD       580\n",
            "ICA               563\n",
            "JUNIN             511\n",
            "AREQUIPA          361\n",
            "LAMBAYEQUE        282\n",
            "SAN MARTIN        264\n",
            "ANCASH            253\n",
            "MADRE DE DIOS     238\n",
            "MOQUEGUA          235\n",
            "HUANUCO           197\n",
            "UCAYALI           133\n",
            "HUANCAVELICA      124\n",
            "APURIMAC          113\n",
            "AYACUCHO           96\n",
            "CALLAO             72\n",
            "PASCO              71\n",
            "TUMBES             67\n",
            "AMAZONAS           46\n",
            "LORETO             33\n",
            "Name: count, dtype: int64\n",
            "\n",
            "Valores únicos en 'JERARQUIA':\n",
            "JERARQUIA\n",
            "RN               7696\n",
            "NACIONAL         3783\n",
            "VECINAL           679\n",
            "DEPARTAMENTAL     566\n",
            "Name: count, dtype: int64\n",
            "\n",
            "Valores únicos en 'SUPERFICIE':\n",
            "SUPERFICIE\n",
            "PAVIMENTADO       7435\n",
            "OTROS             4365\n",
            "NO PAVIMENTADO     924\n",
            "Name: count, dtype: int64\n"
          ]
        }
      ]
    },
    {
      "cell_type": "code",
      "source": [
        "def agrupar_superficie(valor):\n",
        "    if valor == \"NO DISPONIBLE\":\n",
        "        return \"SIN INFORMACIÓN\"\n",
        "    elif valor in [\"PAVIMENTADO\", \"ASFALTADO ECONÓMICO\"]:\n",
        "        return \"PAVIMENTADO\"\n",
        "    elif valor in [\"AFIRMADO\", \"PROYECTADO\", \"SIN AFIRMAR\", \"TROCHA\"]:\n",
        "        return \"NO PAVIMENTADO\"\n",
        "    else:\n",
        "        return \"OTROS\"\n",
        "\n",
        "resumen_final[\"SUPERFICIE\"] = resumen_final[\"SUPERFICIE\"].apply(agrupar_superficie)"
      ],
      "metadata": {
        "id": "lut8ZWGDK81l"
      },
      "execution_count": 374,
      "outputs": []
    },
    {
      "cell_type": "code",
      "source": [
        "dataset_final[\"JERARQUIA\"] = dataset_final[\"JERARQUIA\"].replace(\"RN\", \"NACIONAL\")\n"
      ],
      "metadata": {
        "id": "04yZRJBhLiBD"
      },
      "execution_count": 381,
      "outputs": []
    },
    {
      "cell_type": "code",
      "source": [
        "\n",
        "nulos= resumen_final.isnull().sum()\n",
        "\n",
        "porcentaje = (nulos / len(resumen_final)) * 100\n",
        "\n",
        "reporte = pd.DataFrame({\n",
        "    \"NULOS\": nulos,\n",
        "    \"PORCENTAJE (%)\": porcentaje.round(2)\n",
        "})\n",
        "print(reporte)"
      ],
      "metadata": {
        "colab": {
          "base_uri": "https://localhost:8080/"
        },
        "id": "z--6385bF-Jt",
        "outputId": "c55b57d4-51d7-4294-eb99-1582d36a9f62"
      },
      "execution_count": 382,
      "outputs": [
        {
          "output_type": "stream",
          "name": "stdout",
          "text": [
            "                          NULOS  PORCENTAJE (%)\n",
            "CODRUTA                       0            0.00\n",
            "SUPERFICIE                    0            0.00\n",
            "DEPARTAMENTO                 11            0.59\n",
            "JERARQUIA                    22            1.18\n",
            "TOTAL_ACCIDENTES              0            0.00\n",
            "TOTAL_FALLECIDOS              0            0.00\n",
            "GRADO_SINIESTRALIDAD (%)      0            0.00\n",
            "porcentaje_noche              0            0.00\n",
            "NROCARRIL                   889           47.49\n"
          ]
        }
      ]
    },
    {
      "cell_type": "code",
      "source": [
        "# 1. Crear el mapa desde df_sutran\n",
        "mapa_codruta_departamento = (\n",
        "    df_sutran[['CODRUTA', 'DEPARTAMENTO']]\n",
        "    .dropna()\n",
        "    .drop_duplicates()\n",
        "    .set_index('CODRUTA')['DEPARTAMENTO']\n",
        "    .to_dict()\n",
        ")\n",
        "\n",
        "# 2. Completar valores nulos en resumen_final['DEPARTAMENTO'] usando el mapa\n",
        "resumen_final['DEPARTAMENTO'] = resumen_final.apply(\n",
        "    lambda row: mapa_codruta_departamento.get(row['CODRUTA'], row['DEPARTAMENTO']),\n",
        "    axis=1\n",
        ")\n",
        "\n",
        "# 3. Verificar nuevamente las filas con DEPARTAMENTO nulo\n",
        "filas_sin_departamento = resumen_final[resumen_final[\"DEPARTAMENTO\"].isnull()]"
      ],
      "metadata": {
        "id": "Ht4NKZyvP85J"
      },
      "execution_count": 383,
      "outputs": []
    },
    {
      "cell_type": "code",
      "source": [
        "print(resumen_final)"
      ],
      "metadata": {
        "colab": {
          "base_uri": "https://localhost:8080/"
        },
        "id": "7pgc99TIRdxN",
        "outputId": "cfaccafc-5332-4f14-abde-371adbea8a84"
      },
      "execution_count": 385,
      "outputs": [
        {
          "output_type": "stream",
          "name": "stdout",
          "text": [
            "     CODRUTA      SUPERFICIE DEPARTAMENTO      JERARQUIA  TOTAL_ACCIDENTES  \\\n",
            "0     AM-101           OTROS     AMAZONAS  DEPARTAMENTAL                 2   \n",
            "1     AM-102           OTROS     AMAZONAS  DEPARTAMENTAL                 2   \n",
            "2     AM-103  NO PAVIMENTADO     AMAZONAS  DEPARTAMENTAL                 1   \n",
            "3     AM-109           OTROS     AMAZONAS  DEPARTAMENTAL                 1   \n",
            "4     AM-637           OTROS     AMAZONAS        VECINAL                 1   \n",
            "...      ...             ...          ...            ...               ...   \n",
            "1867  TU-524  NO PAVIMENTADO       TUMBES        VECINAL                 1   \n",
            "1868  TU-548  NO PAVIMENTADO       TUMBES        VECINAL                 1   \n",
            "1869  UC-102           OTROS      UCAYALI  DEPARTAMENTAL                 1   \n",
            "1870  UC-103  NO PAVIMENTADO      UCAYALI  DEPARTAMENTAL                 4   \n",
            "1871  UC-103           OTROS      UCAYALI  DEPARTAMENTAL                 4   \n",
            "\n",
            "      TOTAL_FALLECIDOS  GRADO_SINIESTRALIDAD (%)  porcentaje_noche  NROCARRIL  \n",
            "0                    2                     100.0               0.5        NaN  \n",
            "1                    2                     100.0               0.0        NaN  \n",
            "2                    5                     500.0               0.0        NaN  \n",
            "3                    2                     200.0               1.0        NaN  \n",
            "4                    1                     100.0               0.0        NaN  \n",
            "...                ...                       ...               ...        ...  \n",
            "1867                 1                     100.0               1.0        NaN  \n",
            "1868                 1                     100.0               1.0        NaN  \n",
            "1869                 1                     100.0               0.0        NaN  \n",
            "1870                 4                     100.0               0.5        NaN  \n",
            "1871                 4                     100.0               0.5        NaN  \n",
            "\n",
            "[1872 rows x 9 columns]\n"
          ]
        }
      ]
    },
    {
      "cell_type": "code",
      "source": [
        "resumen_final.to_csv(\"resumen_final.csv\", index=False, encoding='utf-8')"
      ],
      "metadata": {
        "id": "jkOY6YbTs_vy"
      },
      "execution_count": 387,
      "outputs": []
    },
    {
      "cell_type": "code",
      "source": [
        "from sklearn.ensemble import RandomForestRegressor\n",
        "from sklearn.model_selection import train_test_split, cross_val_score, KFold\n",
        "from sklearn.metrics import r2_score, mean_squared_error\n",
        "from math import sqrt\n",
        "import matplotlib.pyplot as plt\n",
        "import seaborn as sns\n",
        "\n",
        "# Selección de variables\n",
        "df_modelo = resumen_final[[\n",
        "    \"NROCARRIL\", \"SUPERFICIE\",\n",
        "    \"porcentaje_noche\", \"porcentaje_clima_peligroso\",\n",
        "    \"GRADO_SINIESTRALIDAD (%)\"\n",
        "]].dropna()\n",
        "\n",
        "# Codificación de variable categórica\n",
        "df_modelo = pd.get_dummies(df_modelo, columns=[\"SUPERFICIE\"], drop_first=True)\n",
        "\n",
        "# Separar variables X e y\n",
        "X = df_modelo.drop(\"GRADO_SINIESTRALIDAD (%)\", axis=1)\n",
        "y = df_modelo[\"GRADO_SINIESTRALIDAD (%)\"]\n",
        "\n",
        "# División entrenamiento/prueba\n",
        "X_train, X_test, y_train, y_test = train_test_split(X, y, test_size=0.2, random_state=42)\n",
        "\n",
        "# Crear modelo RF\n",
        "modelo = RandomForestRegressor(n_estimators=100, random_state=42)\n",
        "modelo.fit(X_train, y_train)\n",
        "\n",
        "# Predicción\n",
        "y_pred = modelo.predict(X_test)\n",
        "\n",
        "# Métricas\n",
        "r2 = r2_score(y_test, y_pred)\n",
        "rmse = sqrt(mean_squared_error(y_test, y_pred))\n",
        "\n",
        "print(f\"✅ R² del modelo: {r2:.4f}\")\n",
        "print(f\"✅ RMSE: {rmse:.2f}\")\n",
        "\n",
        "# Validación cruzada k-fold\n",
        "kfold = KFold(n_splits=5, shuffle=True, random_state=42)\n",
        "scores = cross_val_score(modelo, X, y, cv=kfold, scoring=\"r2\")\n",
        "print(f\"✅ R² promedio validación cruzada (5-fold): {scores.mean():.4f} ± {scores.std():.4f}\")\n",
        "\n",
        "# Importancia de variables\n",
        "importancias = pd.Series(modelo.feature_importances_, index=X.columns)\n",
        "importancias.sort_values(ascending=True).plot(kind=\"barh\", title=\"Importancia de variables\")\n",
        "plt.tight_layout()\n",
        "plt.show()\n",
        "\n"
      ],
      "metadata": {
        "id": "IPXIfGIDGRWi",
        "colab": {
          "base_uri": "https://localhost:8080/",
          "height": 356
        },
        "outputId": "e5231f0e-3ea6-4b1b-e3e5-9412675fe091"
      },
      "execution_count": 380,
      "outputs": [
        {
          "output_type": "error",
          "ename": "KeyError",
          "evalue": "\"['porcentaje_clima_peligroso'] not in index\"",
          "traceback": [
            "\u001b[0;31m---------------------------------------------------------------------------\u001b[0m",
            "\u001b[0;31mKeyError\u001b[0m                                  Traceback (most recent call last)",
            "\u001b[0;32m/tmp/ipython-input-380-764361044.py\u001b[0m in \u001b[0;36m<cell line: 0>\u001b[0;34m()\u001b[0m\n\u001b[1;32m      7\u001b[0m \u001b[0;34m\u001b[0m\u001b[0m\n\u001b[1;32m      8\u001b[0m \u001b[0;31m# Selección de variables\u001b[0m\u001b[0;34m\u001b[0m\u001b[0;34m\u001b[0m\u001b[0m\n\u001b[0;32m----> 9\u001b[0;31m df_modelo = resumen_final[[\n\u001b[0m\u001b[1;32m     10\u001b[0m     \u001b[0;34m\"NROCARRIL\"\u001b[0m\u001b[0;34m,\u001b[0m \u001b[0;34m\"SUPERFICIE\"\u001b[0m\u001b[0;34m,\u001b[0m\u001b[0;34m\u001b[0m\u001b[0;34m\u001b[0m\u001b[0m\n\u001b[1;32m     11\u001b[0m     \u001b[0;34m\"porcentaje_noche\"\u001b[0m\u001b[0;34m,\u001b[0m \u001b[0;34m\"porcentaje_clima_peligroso\"\u001b[0m\u001b[0;34m,\u001b[0m\u001b[0;34m\u001b[0m\u001b[0;34m\u001b[0m\u001b[0m\n",
            "\u001b[0;32m/usr/local/lib/python3.11/dist-packages/pandas/core/frame.py\u001b[0m in \u001b[0;36m__getitem__\u001b[0;34m(self, key)\u001b[0m\n\u001b[1;32m   4106\u001b[0m             \u001b[0;32mif\u001b[0m \u001b[0mis_iterator\u001b[0m\u001b[0;34m(\u001b[0m\u001b[0mkey\u001b[0m\u001b[0;34m)\u001b[0m\u001b[0;34m:\u001b[0m\u001b[0;34m\u001b[0m\u001b[0;34m\u001b[0m\u001b[0m\n\u001b[1;32m   4107\u001b[0m                 \u001b[0mkey\u001b[0m \u001b[0;34m=\u001b[0m \u001b[0mlist\u001b[0m\u001b[0;34m(\u001b[0m\u001b[0mkey\u001b[0m\u001b[0;34m)\u001b[0m\u001b[0;34m\u001b[0m\u001b[0;34m\u001b[0m\u001b[0m\n\u001b[0;32m-> 4108\u001b[0;31m             \u001b[0mindexer\u001b[0m \u001b[0;34m=\u001b[0m \u001b[0mself\u001b[0m\u001b[0;34m.\u001b[0m\u001b[0mcolumns\u001b[0m\u001b[0;34m.\u001b[0m\u001b[0m_get_indexer_strict\u001b[0m\u001b[0;34m(\u001b[0m\u001b[0mkey\u001b[0m\u001b[0;34m,\u001b[0m \u001b[0;34m\"columns\"\u001b[0m\u001b[0;34m)\u001b[0m\u001b[0;34m[\u001b[0m\u001b[0;36m1\u001b[0m\u001b[0;34m]\u001b[0m\u001b[0;34m\u001b[0m\u001b[0;34m\u001b[0m\u001b[0m\n\u001b[0m\u001b[1;32m   4109\u001b[0m \u001b[0;34m\u001b[0m\u001b[0m\n\u001b[1;32m   4110\u001b[0m         \u001b[0;31m# take() does not accept boolean indexers\u001b[0m\u001b[0;34m\u001b[0m\u001b[0;34m\u001b[0m\u001b[0m\n",
            "\u001b[0;32m/usr/local/lib/python3.11/dist-packages/pandas/core/indexes/base.py\u001b[0m in \u001b[0;36m_get_indexer_strict\u001b[0;34m(self, key, axis_name)\u001b[0m\n\u001b[1;32m   6198\u001b[0m             \u001b[0mkeyarr\u001b[0m\u001b[0;34m,\u001b[0m \u001b[0mindexer\u001b[0m\u001b[0;34m,\u001b[0m \u001b[0mnew_indexer\u001b[0m \u001b[0;34m=\u001b[0m \u001b[0mself\u001b[0m\u001b[0;34m.\u001b[0m\u001b[0m_reindex_non_unique\u001b[0m\u001b[0;34m(\u001b[0m\u001b[0mkeyarr\u001b[0m\u001b[0;34m)\u001b[0m\u001b[0;34m\u001b[0m\u001b[0;34m\u001b[0m\u001b[0m\n\u001b[1;32m   6199\u001b[0m \u001b[0;34m\u001b[0m\u001b[0m\n\u001b[0;32m-> 6200\u001b[0;31m         \u001b[0mself\u001b[0m\u001b[0;34m.\u001b[0m\u001b[0m_raise_if_missing\u001b[0m\u001b[0;34m(\u001b[0m\u001b[0mkeyarr\u001b[0m\u001b[0;34m,\u001b[0m \u001b[0mindexer\u001b[0m\u001b[0;34m,\u001b[0m \u001b[0maxis_name\u001b[0m\u001b[0;34m)\u001b[0m\u001b[0;34m\u001b[0m\u001b[0;34m\u001b[0m\u001b[0m\n\u001b[0m\u001b[1;32m   6201\u001b[0m \u001b[0;34m\u001b[0m\u001b[0m\n\u001b[1;32m   6202\u001b[0m         \u001b[0mkeyarr\u001b[0m \u001b[0;34m=\u001b[0m \u001b[0mself\u001b[0m\u001b[0;34m.\u001b[0m\u001b[0mtake\u001b[0m\u001b[0;34m(\u001b[0m\u001b[0mindexer\u001b[0m\u001b[0;34m)\u001b[0m\u001b[0;34m\u001b[0m\u001b[0;34m\u001b[0m\u001b[0m\n",
            "\u001b[0;32m/usr/local/lib/python3.11/dist-packages/pandas/core/indexes/base.py\u001b[0m in \u001b[0;36m_raise_if_missing\u001b[0;34m(self, key, indexer, axis_name)\u001b[0m\n\u001b[1;32m   6250\u001b[0m \u001b[0;34m\u001b[0m\u001b[0m\n\u001b[1;32m   6251\u001b[0m             \u001b[0mnot_found\u001b[0m \u001b[0;34m=\u001b[0m \u001b[0mlist\u001b[0m\u001b[0;34m(\u001b[0m\u001b[0mensure_index\u001b[0m\u001b[0;34m(\u001b[0m\u001b[0mkey\u001b[0m\u001b[0;34m)\u001b[0m\u001b[0;34m[\u001b[0m\u001b[0mmissing_mask\u001b[0m\u001b[0;34m.\u001b[0m\u001b[0mnonzero\u001b[0m\u001b[0;34m(\u001b[0m\u001b[0;34m)\u001b[0m\u001b[0;34m[\u001b[0m\u001b[0;36m0\u001b[0m\u001b[0;34m]\u001b[0m\u001b[0;34m]\u001b[0m\u001b[0;34m.\u001b[0m\u001b[0munique\u001b[0m\u001b[0;34m(\u001b[0m\u001b[0;34m)\u001b[0m\u001b[0;34m)\u001b[0m\u001b[0;34m\u001b[0m\u001b[0;34m\u001b[0m\u001b[0m\n\u001b[0;32m-> 6252\u001b[0;31m             \u001b[0;32mraise\u001b[0m \u001b[0mKeyError\u001b[0m\u001b[0;34m(\u001b[0m\u001b[0;34mf\"{not_found} not in index\"\u001b[0m\u001b[0;34m)\u001b[0m\u001b[0;34m\u001b[0m\u001b[0;34m\u001b[0m\u001b[0m\n\u001b[0m\u001b[1;32m   6253\u001b[0m \u001b[0;34m\u001b[0m\u001b[0m\n\u001b[1;32m   6254\u001b[0m     \u001b[0;34m@\u001b[0m\u001b[0moverload\u001b[0m\u001b[0;34m\u001b[0m\u001b[0;34m\u001b[0m\u001b[0m\n",
            "\u001b[0;31mKeyError\u001b[0m: \"['porcentaje_clima_peligroso'] not in index\""
          ]
        }
      ]
    }
  ]
}