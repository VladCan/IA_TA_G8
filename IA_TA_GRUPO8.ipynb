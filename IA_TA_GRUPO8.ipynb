{
  "nbformat": 4,
  "nbformat_minor": 0,
  "metadata": {
    "colab": {
      "provenance": []
    },
    "kernelspec": {
      "name": "python3",
      "display_name": "Python 3"
    },
    "language_info": {
      "name": "python"
    }
  },
  "cells": [
    {
      "cell_type": "code",
      "execution_count": 230,
      "metadata": {
        "colab": {
          "base_uri": "https://localhost:8080/"
        },
        "id": "WilWn1Ab2W2J",
        "outputId": "e96ee036-ca5f-4881-9670-c37f74a773fd"
      },
      "outputs": [
        {
          "output_type": "stream",
          "name": "stdout",
          "text": [
            "Primeras filas:\n",
            "   ID_RVN  ID_DEPARTAMENTO DEPARTAMENTO CODIGO_RUTA  \\\n",
            "0       1               20        PIURA       PE-02   \n",
            "1       2               20        PIURA       PE-02   \n",
            "2       3               20        PIURA       PE-02   \n",
            "3       4               20        PIURA      PE-02A   \n",
            "4       5               20        PIURA      PE-02A   \n",
            "\n",
            "                                         TRAYECTORIA  INICIO   FINAL  \\\n",
            "0                     Emp. PE-1N (Dv. Paita) - Paita   0.000   7.918   \n",
            "1                     Emp. PE-1N (Dv. Paita) - Paita   7.918  40.095   \n",
            "2                     Emp. PE-1N (Dv. Paita) - Paita  40.095  49.058   \n",
            "3  Emp. PE-1N J (Dv. Huancabamba) - Buenos Aires ...   0.000  19.720   \n",
            "4  Emp. PE-1N J (Dv. Huancabamba) - Buenos Aires ...  19.720  27.345   \n",
            "\n",
            "  CLASIFICACION_EJE JERARQUIA  LONGITUD  NRO_CARRILES  SUPERFICIE  \\\n",
            "0       Transversal        RN     7.918             2           1   \n",
            "1       Transversal        RN    32.177             2           1   \n",
            "2       Transversal        RN     8.963             2           1   \n",
            "3       Transversal        RN    19.720             2           1   \n",
            "4       Transversal        RN     7.625             2           1   \n",
            "\n",
            "  SUPERFICIE_L  ESTADO ESTADO_L  CODIGO_CONCESION  \\\n",
            "0  Pavimentado       1    Bueno                 2   \n",
            "1  Pavimentado       1    Bueno                 2   \n",
            "2  Pavimentado       1    Bueno                 2   \n",
            "3  Pavimentado       1    Bueno                 7   \n",
            "4  Pavimentado       1    Bueno                 7   \n",
            "\n",
            "                     NOMBRE_CONCESION CODIGO_LOGISTICO  \\\n",
            "0       Eje Multimodal Amazonas Norte              C02   \n",
            "1       Eje Multimodal Amazonas Norte              C02   \n",
            "2       Eje Multimodal Amazonas Norte              C02   \n",
            "3  Emp.PE-1B-Buenos Aires - Canchaque            ALC02   \n",
            "4  Emp.PE-1B-Buenos Aires - Canchaque            ALC02   \n",
            "\n",
            "                      CORREDOR_LOGISTICO  FECHA_CORTE  \n",
            "0         CO 2: Paita - Piura- Dv. Olmos     20221231  \n",
            "1         CO 2: Paita - Piura- Dv. Olmos     20221231  \n",
            "2         CO 2: Paita - Piura- Dv. Olmos     20221231  \n",
            "3  Alimentador del corredor logístico 02     20221231  \n",
            "4  Alimentador del corredor logístico 02     20221231  \n",
            "Primeras filas:\n",
            "   ID_RVN  ID_DEPARTAMENTO DEPARTAMENTO CODIGO_RUTA  \\\n",
            "0       1               20        PIURA       PE-02   \n",
            "1       2               20        PIURA       PE-02   \n",
            "2       3               20        PIURA       PE-02   \n",
            "3       4               20        PIURA      PE-02A   \n",
            "4       5               20        PIURA      PE-02A   \n",
            "\n",
            "                                         TRAYECTORIA  INICIO   FINAL  \\\n",
            "0                     Emp. PE-1N (Dv. Paita) - Paita   0.000   7.918   \n",
            "1                     Emp. PE-1N (Dv. Paita) - Paita   7.918  40.095   \n",
            "2                     Emp. PE-1N (Dv. Paita) - Paita  40.095  49.058   \n",
            "3  Emp. PE-1N J (Dv. Huancabamba) - Buenos Aires ...   0.000  19.720   \n",
            "4  Emp. PE-1N J (Dv. Huancabamba) - Buenos Aires ...  19.720  27.345   \n",
            "\n",
            "  CLASIFICACION_EJE JERARQUIA  LONGITUD  NRO_CARRILES  SUPERFICIE  \\\n",
            "0       Transversal        RN     7.918             2           1   \n",
            "1       Transversal        RN    32.177             2           1   \n",
            "2       Transversal        RN     8.963             2           1   \n",
            "3       Transversal        RN    19.720             2           1   \n",
            "4       Transversal        RN     7.625             2           1   \n",
            "\n",
            "  SUPERFICIE_L  ESTADO ESTADO_L  CODIGO_CONCESION  \\\n",
            "0  Pavimentado       1    Bueno                 2   \n",
            "1  Pavimentado       1    Bueno                 2   \n",
            "2  Pavimentado       1    Bueno                 2   \n",
            "3  Pavimentado       1    Bueno                 7   \n",
            "4  Pavimentado       1    Bueno                 7   \n",
            "\n",
            "                     NOMBRE_CONCESION CODIGO_LOGISTICO  \\\n",
            "0       Eje Multimodal Amazonas Norte              C02   \n",
            "1       Eje Multimodal Amazonas Norte              C02   \n",
            "2       Eje Multimodal Amazonas Norte              C02   \n",
            "3  Emp.PE-1B-Buenos Aires - Canchaque            ALC02   \n",
            "4  Emp.PE-1B-Buenos Aires - Canchaque            ALC02   \n",
            "\n",
            "                      CORREDOR_LOGISTICO  FECHA_CORTE  \n",
            "0         CO 2: Paita - Piura- Dv. Olmos     20221231  \n",
            "1         CO 2: Paita - Piura- Dv. Olmos     20221231  \n",
            "2         CO 2: Paita - Piura- Dv. Olmos     20221231  \n",
            "3  Alimentador del corredor logístico 02     20221231  \n",
            "4  Alimentador del corredor logístico 02     20221231  \n"
          ]
        }
      ],
      "source": [
        "import pandas as pd\n",
        "import numpy as np\n",
        "import unicodedata\n",
        "df = pd.read_csv(\"1_Red_vial_nacional_2022-jul2024_0.csv\", encoding='utf-8')\n",
        "print(\"Primeras filas:\")\n",
        "print(df.head())\n",
        "\n",
        "df.columns = df.columns.str.strip().str.upper().str.replace(\" \", \"_\")\n",
        "\n",
        "print(\"Primeras filas:\")\n",
        "print(df.head())"
      ]
    },
    {
      "cell_type": "code",
      "source": [
        "df = df[[\n",
        "    \"CODIGO_RUTA\", \"INICIO\", \"FINAL\", \"LONGITUD\", \"NRO_CARRILES\",\n",
        "    \"SUPERFICIE_L\", \"ESTADO_L\", \"DEPARTAMENTO\", \"JERARQUIA\",\n",
        "    \"CODIGO_CONCESION\", \"NOMBRE_CONCESION\"\n",
        "]]\n",
        "df = df.rename(columns={\n",
        "    \"CODIGO_RUTA\": \"CODRUTA\",\n",
        "    \"NRO_CARRILES\": \"NROCARRIL\",\n",
        "    \"CODIGO_CONCESION\": \"CODCONCES\",\n",
        "    \"NOMBRE_CONCESION\": \"NOMCONCES\"\n",
        "})\n",
        "print(\"Primeras filas:\")\n",
        "print(df.head())"
      ],
      "metadata": {
        "colab": {
          "base_uri": "https://localhost:8080/"
        },
        "id": "q9GWdh6w4Iv6",
        "outputId": "ca0c0d25-234d-43ee-e7dc-a4751f700267"
      },
      "execution_count": 231,
      "outputs": [
        {
          "output_type": "stream",
          "name": "stdout",
          "text": [
            "Primeras filas:\n",
            "  CODRUTA  INICIO   FINAL  LONGITUD  NROCARRIL SUPERFICIE_L ESTADO_L  \\\n",
            "0   PE-02   0.000   7.918     7.918          2  Pavimentado    Bueno   \n",
            "1   PE-02   7.918  40.095    32.177          2  Pavimentado    Bueno   \n",
            "2   PE-02  40.095  49.058     8.963          2  Pavimentado    Bueno   \n",
            "3  PE-02A   0.000  19.720    19.720          2  Pavimentado    Bueno   \n",
            "4  PE-02A  19.720  27.345     7.625          2  Pavimentado    Bueno   \n",
            "\n",
            "  DEPARTAMENTO JERARQUIA  CODCONCES                           NOMCONCES  \n",
            "0        PIURA        RN          2       Eje Multimodal Amazonas Norte  \n",
            "1        PIURA        RN          2       Eje Multimodal Amazonas Norte  \n",
            "2        PIURA        RN          2       Eje Multimodal Amazonas Norte  \n",
            "3        PIURA        RN          7  Emp.PE-1B-Buenos Aires - Canchaque  \n",
            "4        PIURA        RN          7  Emp.PE-1B-Buenos Aires - Canchaque  \n"
          ]
        }
      ]
    },
    {
      "cell_type": "code",
      "source": [
        "print(\" Tipos de datos originales:\")\n",
        "print(df.dtypes)\n",
        "total_original = len(df)\n",
        "print(f\"\\n Total de registros originales: {total_original}\")"
      ],
      "metadata": {
        "colab": {
          "base_uri": "https://localhost:8080/"
        },
        "id": "JaO30LLl4nbo",
        "outputId": "84af786b-b534-42c2-cb20-c5ebb649c958"
      },
      "execution_count": 232,
      "outputs": [
        {
          "output_type": "stream",
          "name": "stdout",
          "text": [
            " Tipos de datos originales:\n",
            "CODRUTA          object\n",
            "INICIO          float64\n",
            "FINAL           float64\n",
            "LONGITUD        float64\n",
            "NROCARRIL         int64\n",
            "SUPERFICIE_L     object\n",
            "ESTADO_L         object\n",
            "DEPARTAMENTO     object\n",
            "JERARQUIA        object\n",
            "CODCONCES         int64\n",
            "NOMCONCES        object\n",
            "dtype: object\n",
            "\n",
            " Total de registros originales: 20255\n"
          ]
        }
      ]
    },
    {
      "cell_type": "code",
      "source": [
        "eliminados_carril = (df[\"NROCARRIL\"] == -1).sum()\n",
        "print(f\" Registros con NROCARRIL = -1 eliminados: {eliminados_carril}\")\n",
        "df = df[df[\"NROCARRIL\"] != -1]\n"
      ],
      "metadata": {
        "colab": {
          "base_uri": "https://localhost:8080/"
        },
        "id": "s6OUTlYX4jLk",
        "outputId": "cff0a653-0200-4878-cce1-4fe7cc52ce73"
      },
      "execution_count": 233,
      "outputs": [
        {
          "output_type": "stream",
          "name": "stdout",
          "text": [
            " Registros con NROCARRIL = -1 eliminados: 3244\n"
          ]
        }
      ]
    },
    {
      "cell_type": "code",
      "source": [
        "# Normalizar texto en columnas clave\n",
        "for col in [\"SUPERFICIE_L\", \"ESTADO_L\", \"DEPARTAMENTO\", \"JERARQUIA\", \"NOMCONCES\"]:\n",
        "    df[col] = df[col].astype(str).str.strip().str.upper()\n",
        "\n",
        "# Filtrar solo jerarquía RN y hacer copia explícita\n",
        "df_rn = df[df[\"JERARQUIA\"] == \"RN\"].copy()\n",
        "print(f\"Registros con JERARQUIA = 'RN': {len(df_rn)} (de {len(df)})\")\n",
        "\n",
        "# Eliminar duplicados\n",
        "df_rn = df_rn.drop_duplicates()\n",
        "\n"
      ],
      "metadata": {
        "colab": {
          "base_uri": "https://localhost:8080/"
        },
        "id": "x_bNZpko5SZB",
        "outputId": "59a99888-a124-4682-bab5-31c5e035e51f"
      },
      "execution_count": 234,
      "outputs": [
        {
          "output_type": "stream",
          "name": "stdout",
          "text": [
            "Registros con JERARQUIA = 'RN': 17011 (de 17011)\n"
          ]
        }
      ]
    },
    {
      "cell_type": "code",
      "source": [
        "nulos= df.isnull().sum()\n",
        "porcentaje_antes = (nulos / len(df)) * 100\n",
        "\n",
        "reporte_antes = pd.DataFrame({\n",
        "    \"NULOS\": nulos,\n",
        "    \"PORCENTAJE (%)\": porcentaje_antes.round(2)\n",
        "})\n",
        "\n",
        "print(\"NULOS ANTES DE LIMPIAR:\\n\")\n",
        "print(reporte_antes)"
      ],
      "metadata": {
        "colab": {
          "base_uri": "https://localhost:8080/"
        },
        "id": "hBnZpMSsFFT7",
        "outputId": "eb147c00-0fac-4330-b6aa-386bd8f9069b"
      },
      "execution_count": 235,
      "outputs": [
        {
          "output_type": "stream",
          "name": "stdout",
          "text": [
            "NULOS ANTES DE LIMPIAR:\n",
            "\n",
            "              NULOS  PORCENTAJE (%)\n",
            "CODRUTA           0             0.0\n",
            "INICIO            0             0.0\n",
            "FINAL             0             0.0\n",
            "LONGITUD          0             0.0\n",
            "NROCARRIL         0             0.0\n",
            "SUPERFICIE_L      0             0.0\n",
            "ESTADO_L          0             0.0\n",
            "DEPARTAMENTO      0             0.0\n",
            "JERARQUIA         0             0.0\n",
            "CODCONCES         0             0.0\n",
            "NOMCONCES         0             0.0\n"
          ]
        }
      ]
    },
    {
      "cell_type": "code",
      "source": [
        "df2 = pd.read_excel(\"BBDD ONSV - SINIESTROS 2021-2023.xlsx\", skiprows=3)\n",
        "\n",
        "# Mostrar columnas disponibles\n",
        "print(\"Columnas encontradas:\")\n",
        "print(df2.columns.tolist())\n"
      ],
      "metadata": {
        "colab": {
          "base_uri": "https://localhost:8080/"
        },
        "id": "--JctIeA5uHp",
        "outputId": "8f684c5c-2025-427b-9cf4-83df8ac21c73"
      },
      "execution_count": 236,
      "outputs": [
        {
          "output_type": "stream",
          "name": "stdout",
          "text": [
            "Columnas encontradas:\n",
            "['CÓDIGO SINIESTRO', 'FECHA SINIESTRO', 'HORA SINIESTRO', 'CLASE SINIESTRO', 'CANTIDAD DE FALLECIDOS', 'CANTIDAD DE LESIONADOS', 'CANTIDAD DE VEHICULOS DAÑADOS', 'DEPARTAMENTO', 'PROVINCIA', 'DISTRITO', 'ZONA', 'TIPO DE VÍA', 'RED VIAL', 'COD CARRETERA', 'EXISTE CICLOVÍA', 'COORDENADAS LATITUD', 'COORDENADAS  LONGITUD', 'CONDICIÓN CLIMÁTICA', 'ZONIFICACIÓN', 'CARACTERÍSTICAS DE VÍA', 'PERFIL LONGITUDINAL VÍA', 'SUPERFICIE DE CALZADA', '¿EXISTE SEÑAL VERTICAL?', 'CLASIFICACIÓN DE LA SEÑAL VERTICAL Nº 1', 'CLASIFICACIÓN DE LA SEÑAL VERTICAL Nº 2', '¿EXISTE SEÑAL HORIZONTAL?', 'CAUSA FACTOR PRINCIPAL', 'CAUSA ESPECÍFICA']\n"
          ]
        }
      ]
    },
    {
      "cell_type": "code",
      "source": [
        "df2 = df2[[\n",
        "    \"FECHA SINIESTRO\",\n",
        "    \"CANTIDAD DE FALLECIDOS\",\n",
        "    \"DEPARTAMENTO\",\n",
        "    \"PROVINCIA\",\n",
        "    \"DISTRITO\",\n",
        "    \"COD CARRETERA\",\n",
        "    \"COORDENADAS LATITUD\",\n",
        "    \"COORDENADAS  LONGITUD\",\n",
        "    \"TIPO DE VÍA\",\n",
        "    \"SUPERFICIE DE CALZADA\",\n",
        "    \"CONDICIÓN CLIMÁTICA\",\n",
        "    \"ZONA\",\n",
        "    \"¿EXISTE SEÑAL VERTICAL?\",\n",
        "    \"¿EXISTE SEÑAL HORIZONTAL?\",\n",
        "    \"CAUSA FACTOR PRINCIPAL\",\n",
        "    \"CAUSA ESPECÍFICA\"\n",
        "]]\n",
        "\n",
        "df2.columns = df2.columns.str.strip().str.upper().str.replace(\" \", \"_\")"
      ],
      "metadata": {
        "id": "HEiXwyWk7Laz"
      },
      "execution_count": 237,
      "outputs": []
    },
    {
      "cell_type": "code",
      "source": [
        "# Eliminar filas sin coordenadas (opcional, para mapas)\n",
        "coordenadas_incompletas = df2[\"COORDENADAS_LATITUD\"].isna() | df2[\"COORDENADAS__LONGITUD\"].isna()\n",
        "print(f\" Registros eliminados por falta de coordenadas: {coordenadas_incompletas.sum()}\")\n",
        "df2 = df2[~coordenadas_incompletas]"
      ],
      "metadata": {
        "colab": {
          "base_uri": "https://localhost:8080/"
        },
        "id": "3gbA77wh7ic5",
        "outputId": "c0203d8a-2833-4373-971f-4827d08d2aa1"
      },
      "execution_count": 238,
      "outputs": [
        {
          "output_type": "stream",
          "name": "stdout",
          "text": [
            " Registros eliminados por falta de coordenadas: 0\n"
          ]
        }
      ]
    },
    {
      "cell_type": "code",
      "source": [
        "# Crear variable binaria de siniestro grave\n",
        "df2[\"SINIESTRO_GRAVE\"] = df2[\"CANTIDAD_DE_FALLECIDOS\"].apply(lambda x: 1 if x > 0 else 0)\n"
      ],
      "metadata": {
        "id": "EhYDUJC57roL"
      },
      "execution_count": 239,
      "outputs": []
    },
    {
      "cell_type": "code",
      "source": [
        "def normalizar_texto(texto):\n",
        "    if not isinstance(texto, str):\n",
        "        return texto\n",
        "    texto = unicodedata.normalize('NFKD', texto).encode('ascii', 'ignore').decode('utf-8')\n",
        "    return texto.strip().upper()"
      ],
      "metadata": {
        "id": "oczQ--cn7v4r"
      },
      "execution_count": 240,
      "outputs": []
    },
    {
      "cell_type": "code",
      "source": [
        "columnas_texto = [\n",
        "    \"DEPARTAMENTO\", \"PROVINCIA\", \"DISTRITO\", \"TIPO_DE_VÍA\", \"SUPERFICIE_DE_CALZADA\",\n",
        "    \"CONDICIÓN_CLIMÁTICA\", \"ZONA\", \"¿EXISTE_SEÑAL_VERTICAL?\", \"¿EXISTE_SEÑAL_HORIZONTAL?\",\n",
        "    \"CAUSA_FACTOR_PRINCIPAL\", \"CAUSA_ESPECÍFICA\"\n",
        "]"
      ],
      "metadata": {
        "id": "xibqU1eo7_sR"
      },
      "execution_count": 241,
      "outputs": []
    },
    {
      "cell_type": "code",
      "source": [
        "for col in columnas_texto:\n",
        "    df2[col] = df2[col].apply(normalizar_texto)\n",
        "\n",
        "print(\"Primeras filas:\")\n",
        "print(df2.head())"
      ],
      "metadata": {
        "colab": {
          "base_uri": "https://localhost:8080/"
        },
        "id": "ujdwFMTe8FmK",
        "outputId": "6128aa78-7418-4c9c-f12d-4f71a3291978"
      },
      "execution_count": 242,
      "outputs": [
        {
          "output_type": "stream",
          "name": "stdout",
          "text": [
            "Primeras filas:\n",
            "  FECHA_SINIESTRO  CANTIDAD_DE_FALLECIDOS DEPARTAMENTO PROVINCIA  \\\n",
            "0      01/01/2021                       1         LIMA    HUARAL   \n",
            "1      01/01/2021                       1         LIMA      LIMA   \n",
            "2      01/01/2021                       2  LA LIBERTAD      VIRU   \n",
            "3      01/01/2021                       1  LA LIBERTAD      VIRU   \n",
            "4      01/01/2021                       1         LIMA      LIMA   \n",
            "\n",
            "                  DISTRITO   COD_CARRETERA  COORDENADAS_LATITUD  \\\n",
            "0                   HUARAL          LM-671           -11.482879   \n",
            "1               PACHACAMAC  NO CORRESPONDE           -12.229400   \n",
            "2                     VIRU         LI-1150            -8.414865   \n",
            "3                     VIRU           PE-1N            -8.432617   \n",
            "4  VILLA MARIA DEL TRIUNFO  NO CORRESPONDE           -12.164406   \n",
            "\n",
            "   COORDENADAS__LONGITUD TIPO_DE_VÍA SUPERFICIE_DE_CALZADA  \\\n",
            "0             -77.255547   CARRETERA                TROCHA   \n",
            "1             -76.859412     AVENIDA             ASFALTADA   \n",
            "2             -78.754544   CARRETERA             ASFALTADA   \n",
            "3             -78.772242   CARRETERA             ASFALTADA   \n",
            "4             -76.953426     AVENIDA             ASFALTADA   \n",
            "\n",
            "  CONDICIÓN_CLIMÁTICA    ZONA ¿EXISTE_SEÑAL_VERTICAL?  \\\n",
            "0           DESPEJADO   RURAL                     NaN   \n",
            "1           DESPEJADO  URBANA                     NaN   \n",
            "2           DESPEJADO  URBANA                     NaN   \n",
            "3           DESPEJADO   RURAL                     NaN   \n",
            "4           DESPEJADO  URBANA                     NaN   \n",
            "\n",
            "  ¿EXISTE_SEÑAL_HORIZONTAL?     CAUSA_FACTOR_PRINCIPAL  \\\n",
            "0                       NaN     NO IDENTIFICA LA CAUSA   \n",
            "1                       NaN  IMPRUDENCIA DEL CONDUCTOR   \n",
            "2                       NaN     NO IDENTIFICA LA CAUSA   \n",
            "3                       NaN  IMPRUDENCIA DEL CONDUCTOR   \n",
            "4                       NaN  IMPRUDENCIA DEL CONDUCTOR   \n",
            "\n",
            "                                  CAUSA_ESPECÍFICA  SINIESTRO_GRAVE  \n",
            "0                                              NaN                1  \n",
            "1  CONDUCIR EN ESTADO DE EBRIEDAD Y/O DROGADICCION                1  \n",
            "2                                              NaN                1  \n",
            "3                            GIRAR IMPRUDENTEMENTE                1  \n",
            "4  CONDUCIR EN ESTADO DE EBRIEDAD Y/O DROGADICCION                1  \n"
          ]
        }
      ]
    },
    {
      "cell_type": "code",
      "source": [
        "# Convertir valores de 'COD_CARRETERA' en nulos\n",
        "df2[\"COD_CARRETERA\"] = df2[\"COD_CARRETERA\"].replace(\n",
        "    [\"NO CORRESPONDE\", \"SIN CLASIFICAR\"],\n",
        "    np.nan\n",
        ")\n",
        "\n",
        "# Convertir valores de 'CAUSA_FACTOR_PRINCIPAL' en nulos\n",
        "df2[\"CAUSA_FACTOR_PRINCIPAL\"] = df2[\"CAUSA_FACTOR_PRINCIPAL\"].replace(\n",
        "    [\"NO IDENTIFICA LA CAUSA\"],\n",
        "    np.nan\n",
        ")"
      ],
      "metadata": {
        "id": "DshTjeLy_vXn"
      },
      "execution_count": 243,
      "outputs": []
    },
    {
      "cell_type": "code",
      "source": [
        "# Reporte inicial de nulos y porcentaje\n",
        "nulos= df2.isnull().sum()\n",
        "porcentaje_antes = (nulos / len(df2)) * 100\n",
        "\n",
        "reporte_antes = pd.DataFrame({\n",
        "    \"NULOS\": nulos,\n",
        "    \"PORCENTAJE (%)\": porcentaje_antes.round(2)\n",
        "})\n",
        "\n",
        "print(\"NULOS ANTES DE LIMPIAR:\\n\")\n",
        "print(reporte_antes)"
      ],
      "metadata": {
        "colab": {
          "base_uri": "https://localhost:8080/"
        },
        "id": "TXQ3Ltp69W3S",
        "outputId": "ac6b627a-fe62-4345-b7ce-af1eb2b7dce1"
      },
      "execution_count": 244,
      "outputs": [
        {
          "output_type": "stream",
          "name": "stdout",
          "text": [
            "NULOS ANTES DE LIMPIAR:\n",
            "\n",
            "                           NULOS  PORCENTAJE (%)\n",
            "FECHA_SINIESTRO                0            0.00\n",
            "CANTIDAD_DE_FALLECIDOS         0            0.00\n",
            "DEPARTAMENTO                   0            0.00\n",
            "PROVINCIA                      0            0.00\n",
            "DISTRITO                       0            0.00\n",
            "COD_CARRETERA               1687           25.10\n",
            "COORDENADAS_LATITUD            0            0.00\n",
            "COORDENADAS__LONGITUD          0            0.00\n",
            "TIPO_DE_VÍA                    0            0.00\n",
            "SUPERFICIE_DE_CALZADA        313            4.66\n",
            "CONDICIÓN_CLIMÁTICA          313            4.66\n",
            "ZONA                          22            0.33\n",
            "¿EXISTE_SEÑAL_VERTICAL?     5191           77.24\n",
            "¿EXISTE_SEÑAL_HORIZONTAL?   5191           77.24\n",
            "CAUSA_FACTOR_PRINCIPAL      3152           46.90\n",
            "CAUSA_ESPECÍFICA            3218           47.88\n",
            "SINIESTRO_GRAVE                0            0.00\n"
          ]
        }
      ]
    },
    {
      "cell_type": "code",
      "source": [
        "df2 = df2.drop(columns=['¿EXISTE_SEÑAL_VERTICAL?', '¿EXISTE_SEÑAL_HORIZONTAL?'])"
      ],
      "metadata": {
        "id": "HR6uxTM_-7kC"
      },
      "execution_count": 245,
      "outputs": []
    },
    {
      "cell_type": "code",
      "source": [
        "# Reporte final de nulos y porcentaje\n",
        "nulos= df2.isnull().sum()\n",
        "porcentaje = (nulos / len(df2)) * 100\n",
        "\n",
        "reporte_despues = pd.DataFrame({\n",
        "    \"NULOS\": nulos,\n",
        "    \"PORCENTAJE (%)\": porcentaje.round(2)\n",
        "})\n",
        "\n",
        "print(\"NULOS DESPUES DE LIMPIAR:\\n\")\n",
        "print(reporte_despues)"
      ],
      "metadata": {
        "colab": {
          "base_uri": "https://localhost:8080/"
        },
        "id": "37sWkq9N_NQS",
        "outputId": "e1971486-8d84-423c-d14a-f3f3332e2201"
      },
      "execution_count": 246,
      "outputs": [
        {
          "output_type": "stream",
          "name": "stdout",
          "text": [
            "NULOS DESPUES DE LIMPIAR:\n",
            "\n",
            "                        NULOS  PORCENTAJE (%)\n",
            "FECHA_SINIESTRO             0            0.00\n",
            "CANTIDAD_DE_FALLECIDOS      0            0.00\n",
            "DEPARTAMENTO                0            0.00\n",
            "PROVINCIA                   0            0.00\n",
            "DISTRITO                    0            0.00\n",
            "COD_CARRETERA            1687           25.10\n",
            "COORDENADAS_LATITUD         0            0.00\n",
            "COORDENADAS__LONGITUD       0            0.00\n",
            "TIPO_DE_VÍA                 0            0.00\n",
            "SUPERFICIE_DE_CALZADA     313            4.66\n",
            "CONDICIÓN_CLIMÁTICA       313            4.66\n",
            "ZONA                       22            0.33\n",
            "CAUSA_FACTOR_PRINCIPAL   3152           46.90\n",
            "CAUSA_ESPECÍFICA         3218           47.88\n",
            "SINIESTRO_GRAVE             0            0.00\n"
          ]
        }
      ]
    },
    {
      "cell_type": "code",
      "source": [
        "print(df2.head())"
      ],
      "metadata": {
        "colab": {
          "base_uri": "https://localhost:8080/"
        },
        "id": "WVi07VDV_hPT",
        "outputId": "65b2ab73-9f62-4bdb-ad13-37d4dd31d3d5"
      },
      "execution_count": 247,
      "outputs": [
        {
          "output_type": "stream",
          "name": "stdout",
          "text": [
            "  FECHA_SINIESTRO  CANTIDAD_DE_FALLECIDOS DEPARTAMENTO PROVINCIA  \\\n",
            "0      01/01/2021                       1         LIMA    HUARAL   \n",
            "1      01/01/2021                       1         LIMA      LIMA   \n",
            "2      01/01/2021                       2  LA LIBERTAD      VIRU   \n",
            "3      01/01/2021                       1  LA LIBERTAD      VIRU   \n",
            "4      01/01/2021                       1         LIMA      LIMA   \n",
            "\n",
            "                  DISTRITO COD_CARRETERA  COORDENADAS_LATITUD  \\\n",
            "0                   HUARAL        LM-671           -11.482879   \n",
            "1               PACHACAMAC           NaN           -12.229400   \n",
            "2                     VIRU       LI-1150            -8.414865   \n",
            "3                     VIRU         PE-1N            -8.432617   \n",
            "4  VILLA MARIA DEL TRIUNFO           NaN           -12.164406   \n",
            "\n",
            "   COORDENADAS__LONGITUD TIPO_DE_VÍA SUPERFICIE_DE_CALZADA  \\\n",
            "0             -77.255547   CARRETERA                TROCHA   \n",
            "1             -76.859412     AVENIDA             ASFALTADA   \n",
            "2             -78.754544   CARRETERA             ASFALTADA   \n",
            "3             -78.772242   CARRETERA             ASFALTADA   \n",
            "4             -76.953426     AVENIDA             ASFALTADA   \n",
            "\n",
            "  CONDICIÓN_CLIMÁTICA    ZONA     CAUSA_FACTOR_PRINCIPAL  \\\n",
            "0           DESPEJADO   RURAL                        NaN   \n",
            "1           DESPEJADO  URBANA  IMPRUDENCIA DEL CONDUCTOR   \n",
            "2           DESPEJADO  URBANA                        NaN   \n",
            "3           DESPEJADO   RURAL  IMPRUDENCIA DEL CONDUCTOR   \n",
            "4           DESPEJADO  URBANA  IMPRUDENCIA DEL CONDUCTOR   \n",
            "\n",
            "                                  CAUSA_ESPECÍFICA  SINIESTRO_GRAVE  \n",
            "0                                              NaN                1  \n",
            "1  CONDUCIR EN ESTADO DE EBRIEDAD Y/O DROGADICCION                1  \n",
            "2                                              NaN                1  \n",
            "3                            GIRAR IMPRUDENTEMENTE                1  \n",
            "4  CONDUCIR EN ESTADO DE EBRIEDAD Y/O DROGADICCION                1  \n"
          ]
        }
      ]
    },
    {
      "cell_type": "code",
      "source": [
        "df3 = pd.read_csv(\n",
        "    \"Accidentes de transito en carreteras-2020-2021-Sutran.csv\",\n",
        "    sep=\";\",\n",
        "    encoding=\"latin1\"\n",
        ")\n",
        "print(\"Columnas:\")\n",
        "print(df3.columns.tolist())\n",
        "print(\"Primeras filas:\")\n",
        "print(df3.head())"
      ],
      "metadata": {
        "colab": {
          "base_uri": "https://localhost:8080/"
        },
        "id": "fbjnAPrfCllk",
        "outputId": "88f317bf-659b-4b85-a1fb-34da456af805"
      },
      "execution_count": 248,
      "outputs": [
        {
          "output_type": "stream",
          "name": "stdout",
          "text": [
            "Columnas:\n",
            "['FECHA_CORTE', 'FECHA', 'HORA', 'DEPARTAMENTO', 'CODIGO_VÍA', 'KILOMETRO', 'MODALIDAD', 'FALLECIDOS', 'HERIDOS']\n",
            "Primeras filas:\n",
            "   FECHA_CORTE     FECHA   HORA DEPARTAMENTO CODIGO_VÍA KILOMETRO MODALIDAD  \\\n",
            "0     20211222  20200101  05:40         LIMA      PE-1S        24  DESPISTE   \n",
            "1     20211222  20200101  16:30    CAJAMARCA      PE-3N        74  DESPISTE   \n",
            "2     20211222  20200101  07:45        PASCO      PE-3N       103  DESPISTE   \n",
            "3     20211222  20200101  18:30    CAJAMARCA      PE-08       111  DESPISTE   \n",
            "4     20211222  20200101  18:40         LIMA      PE-1N       174  DESPISTE   \n",
            "\n",
            "  FALLECIDOS HERIDOS  \n",
            "0          0       0  \n",
            "1          0       0  \n",
            "2          0       1  \n",
            "3          0       2  \n",
            "4          0       5  \n"
          ]
        }
      ]
    },
    {
      "cell_type": "code",
      "source": [
        "# 1. Eliminar columna que no se necesita\n",
        "df3 = df3.drop(columns=[\"FECHA_CORTE\"], errors=\"ignore\")\n",
        "\n",
        "# 2. Renombrar columnas para consistencia\n",
        "df3 = df3.rename(columns={\n",
        "    \"CODIGO_VÍA\": \"CODIGO_VIA\",\n",
        "    \"FALLECIDOS\": \"NUM_FALLECIDOS\",\n",
        "    \"HERIDOS\": \"NUM_HERIDOS\"\n",
        "})\n",
        "\n",
        "# 3. Reemplazar valores \"N.I.\" o vacíos por NaN\n",
        "df3 = df3.replace([\"N.I.\", \"N.I\", \"NI\", \"\", \" \", None], np.nan)"
      ],
      "metadata": {
        "id": "rMQh5MM5B_6y"
      },
      "execution_count": 249,
      "outputs": []
    },
    {
      "cell_type": "code",
      "source": [
        "# Asegurar que FECHA es string\n",
        "df3[\"FECHA\"] = df3[\"FECHA\"].astype(str)\n",
        "\n",
        "# Convertir a datetime y luego al formato deseado\n",
        "df3[\"FECHA\"] = pd.to_datetime(df3[\"FECHA\"], format=\"%Y%m%d\", errors=\"coerce\")\n",
        "df3[\"FECHA\"] = df3[\"FECHA\"].dt.strftime(\"%d/%m/%Y\")\n"
      ],
      "metadata": {
        "id": "EtyJHF2vFpDY"
      },
      "execution_count": 250,
      "outputs": []
    },
    {
      "cell_type": "code",
      "source": [
        "df.describe()"
      ],
      "metadata": {
        "colab": {
          "base_uri": "https://localhost:8080/",
          "height": 300
        },
        "id": "K0HT9FyhECoy",
        "outputId": "b19671ef-553a-427c-b2c3-da0cefd8bb83"
      },
      "execution_count": 251,
      "outputs": [
        {
          "output_type": "execute_result",
          "data": {
            "text/plain": [
              "             INICIO         FINAL      LONGITUD     NROCARRIL     CODCONCES\n",
              "count  17011.000000  17011.000000  17011.000000  17011.000000  17011.000000\n",
              "mean     346.091897    350.172075      4.080081      1.774852    789.510493\n",
              "std      429.239347    429.168934      6.528386      0.768183    404.000927\n",
              "min        0.000000      0.048000      0.001000      1.000000      1.000000\n",
              "25%       57.625000     62.364000      0.500000      1.000000    999.000000\n",
              "50%      151.179000    155.311000      1.649000      2.000000    999.000000\n",
              "75%      436.459000    438.303000      4.959000      2.000000    999.000000\n",
              "max     1793.323000   1804.371000    135.462000      7.000000    999.000000"
            ],
            "text/html": [
              "\n",
              "  <div id=\"df-1c73851c-4f65-4241-a0d9-a3e8b49f255b\" class=\"colab-df-container\">\n",
              "    <div>\n",
              "<style scoped>\n",
              "    .dataframe tbody tr th:only-of-type {\n",
              "        vertical-align: middle;\n",
              "    }\n",
              "\n",
              "    .dataframe tbody tr th {\n",
              "        vertical-align: top;\n",
              "    }\n",
              "\n",
              "    .dataframe thead th {\n",
              "        text-align: right;\n",
              "    }\n",
              "</style>\n",
              "<table border=\"1\" class=\"dataframe\">\n",
              "  <thead>\n",
              "    <tr style=\"text-align: right;\">\n",
              "      <th></th>\n",
              "      <th>INICIO</th>\n",
              "      <th>FINAL</th>\n",
              "      <th>LONGITUD</th>\n",
              "      <th>NROCARRIL</th>\n",
              "      <th>CODCONCES</th>\n",
              "    </tr>\n",
              "  </thead>\n",
              "  <tbody>\n",
              "    <tr>\n",
              "      <th>count</th>\n",
              "      <td>17011.000000</td>\n",
              "      <td>17011.000000</td>\n",
              "      <td>17011.000000</td>\n",
              "      <td>17011.000000</td>\n",
              "      <td>17011.000000</td>\n",
              "    </tr>\n",
              "    <tr>\n",
              "      <th>mean</th>\n",
              "      <td>346.091897</td>\n",
              "      <td>350.172075</td>\n",
              "      <td>4.080081</td>\n",
              "      <td>1.774852</td>\n",
              "      <td>789.510493</td>\n",
              "    </tr>\n",
              "    <tr>\n",
              "      <th>std</th>\n",
              "      <td>429.239347</td>\n",
              "      <td>429.168934</td>\n",
              "      <td>6.528386</td>\n",
              "      <td>0.768183</td>\n",
              "      <td>404.000927</td>\n",
              "    </tr>\n",
              "    <tr>\n",
              "      <th>min</th>\n",
              "      <td>0.000000</td>\n",
              "      <td>0.048000</td>\n",
              "      <td>0.001000</td>\n",
              "      <td>1.000000</td>\n",
              "      <td>1.000000</td>\n",
              "    </tr>\n",
              "    <tr>\n",
              "      <th>25%</th>\n",
              "      <td>57.625000</td>\n",
              "      <td>62.364000</td>\n",
              "      <td>0.500000</td>\n",
              "      <td>1.000000</td>\n",
              "      <td>999.000000</td>\n",
              "    </tr>\n",
              "    <tr>\n",
              "      <th>50%</th>\n",
              "      <td>151.179000</td>\n",
              "      <td>155.311000</td>\n",
              "      <td>1.649000</td>\n",
              "      <td>2.000000</td>\n",
              "      <td>999.000000</td>\n",
              "    </tr>\n",
              "    <tr>\n",
              "      <th>75%</th>\n",
              "      <td>436.459000</td>\n",
              "      <td>438.303000</td>\n",
              "      <td>4.959000</td>\n",
              "      <td>2.000000</td>\n",
              "      <td>999.000000</td>\n",
              "    </tr>\n",
              "    <tr>\n",
              "      <th>max</th>\n",
              "      <td>1793.323000</td>\n",
              "      <td>1804.371000</td>\n",
              "      <td>135.462000</td>\n",
              "      <td>7.000000</td>\n",
              "      <td>999.000000</td>\n",
              "    </tr>\n",
              "  </tbody>\n",
              "</table>\n",
              "</div>\n",
              "    <div class=\"colab-df-buttons\">\n",
              "\n",
              "  <div class=\"colab-df-container\">\n",
              "    <button class=\"colab-df-convert\" onclick=\"convertToInteractive('df-1c73851c-4f65-4241-a0d9-a3e8b49f255b')\"\n",
              "            title=\"Convert this dataframe to an interactive table.\"\n",
              "            style=\"display:none;\">\n",
              "\n",
              "  <svg xmlns=\"http://www.w3.org/2000/svg\" height=\"24px\" viewBox=\"0 -960 960 960\">\n",
              "    <path d=\"M120-120v-720h720v720H120Zm60-500h600v-160H180v160Zm220 220h160v-160H400v160Zm0 220h160v-160H400v160ZM180-400h160v-160H180v160Zm440 0h160v-160H620v160ZM180-180h160v-160H180v160Zm440 0h160v-160H620v160Z\"/>\n",
              "  </svg>\n",
              "    </button>\n",
              "\n",
              "  <style>\n",
              "    .colab-df-container {\n",
              "      display:flex;\n",
              "      gap: 12px;\n",
              "    }\n",
              "\n",
              "    .colab-df-convert {\n",
              "      background-color: #E8F0FE;\n",
              "      border: none;\n",
              "      border-radius: 50%;\n",
              "      cursor: pointer;\n",
              "      display: none;\n",
              "      fill: #1967D2;\n",
              "      height: 32px;\n",
              "      padding: 0 0 0 0;\n",
              "      width: 32px;\n",
              "    }\n",
              "\n",
              "    .colab-df-convert:hover {\n",
              "      background-color: #E2EBFA;\n",
              "      box-shadow: 0px 1px 2px rgba(60, 64, 67, 0.3), 0px 1px 3px 1px rgba(60, 64, 67, 0.15);\n",
              "      fill: #174EA6;\n",
              "    }\n",
              "\n",
              "    .colab-df-buttons div {\n",
              "      margin-bottom: 4px;\n",
              "    }\n",
              "\n",
              "    [theme=dark] .colab-df-convert {\n",
              "      background-color: #3B4455;\n",
              "      fill: #D2E3FC;\n",
              "    }\n",
              "\n",
              "    [theme=dark] .colab-df-convert:hover {\n",
              "      background-color: #434B5C;\n",
              "      box-shadow: 0px 1px 3px 1px rgba(0, 0, 0, 0.15);\n",
              "      filter: drop-shadow(0px 1px 2px rgba(0, 0, 0, 0.3));\n",
              "      fill: #FFFFFF;\n",
              "    }\n",
              "  </style>\n",
              "\n",
              "    <script>\n",
              "      const buttonEl =\n",
              "        document.querySelector('#df-1c73851c-4f65-4241-a0d9-a3e8b49f255b button.colab-df-convert');\n",
              "      buttonEl.style.display =\n",
              "        google.colab.kernel.accessAllowed ? 'block' : 'none';\n",
              "\n",
              "      async function convertToInteractive(key) {\n",
              "        const element = document.querySelector('#df-1c73851c-4f65-4241-a0d9-a3e8b49f255b');\n",
              "        const dataTable =\n",
              "          await google.colab.kernel.invokeFunction('convertToInteractive',\n",
              "                                                    [key], {});\n",
              "        if (!dataTable) return;\n",
              "\n",
              "        const docLinkHtml = 'Like what you see? Visit the ' +\n",
              "          '<a target=\"_blank\" href=https://colab.research.google.com/notebooks/data_table.ipynb>data table notebook</a>'\n",
              "          + ' to learn more about interactive tables.';\n",
              "        element.innerHTML = '';\n",
              "        dataTable['output_type'] = 'display_data';\n",
              "        await google.colab.output.renderOutput(dataTable, element);\n",
              "        const docLink = document.createElement('div');\n",
              "        docLink.innerHTML = docLinkHtml;\n",
              "        element.appendChild(docLink);\n",
              "      }\n",
              "    </script>\n",
              "  </div>\n",
              "\n",
              "\n",
              "    <div id=\"df-7823a8a8-b71b-4f50-a58a-555063882e27\">\n",
              "      <button class=\"colab-df-quickchart\" onclick=\"quickchart('df-7823a8a8-b71b-4f50-a58a-555063882e27')\"\n",
              "                title=\"Suggest charts\"\n",
              "                style=\"display:none;\">\n",
              "\n",
              "<svg xmlns=\"http://www.w3.org/2000/svg\" height=\"24px\"viewBox=\"0 0 24 24\"\n",
              "     width=\"24px\">\n",
              "    <g>\n",
              "        <path d=\"M19 3H5c-1.1 0-2 .9-2 2v14c0 1.1.9 2 2 2h14c1.1 0 2-.9 2-2V5c0-1.1-.9-2-2-2zM9 17H7v-7h2v7zm4 0h-2V7h2v10zm4 0h-2v-4h2v4z\"/>\n",
              "    </g>\n",
              "</svg>\n",
              "      </button>\n",
              "\n",
              "<style>\n",
              "  .colab-df-quickchart {\n",
              "      --bg-color: #E8F0FE;\n",
              "      --fill-color: #1967D2;\n",
              "      --hover-bg-color: #E2EBFA;\n",
              "      --hover-fill-color: #174EA6;\n",
              "      --disabled-fill-color: #AAA;\n",
              "      --disabled-bg-color: #DDD;\n",
              "  }\n",
              "\n",
              "  [theme=dark] .colab-df-quickchart {\n",
              "      --bg-color: #3B4455;\n",
              "      --fill-color: #D2E3FC;\n",
              "      --hover-bg-color: #434B5C;\n",
              "      --hover-fill-color: #FFFFFF;\n",
              "      --disabled-bg-color: #3B4455;\n",
              "      --disabled-fill-color: #666;\n",
              "  }\n",
              "\n",
              "  .colab-df-quickchart {\n",
              "    background-color: var(--bg-color);\n",
              "    border: none;\n",
              "    border-radius: 50%;\n",
              "    cursor: pointer;\n",
              "    display: none;\n",
              "    fill: var(--fill-color);\n",
              "    height: 32px;\n",
              "    padding: 0;\n",
              "    width: 32px;\n",
              "  }\n",
              "\n",
              "  .colab-df-quickchart:hover {\n",
              "    background-color: var(--hover-bg-color);\n",
              "    box-shadow: 0 1px 2px rgba(60, 64, 67, 0.3), 0 1px 3px 1px rgba(60, 64, 67, 0.15);\n",
              "    fill: var(--button-hover-fill-color);\n",
              "  }\n",
              "\n",
              "  .colab-df-quickchart-complete:disabled,\n",
              "  .colab-df-quickchart-complete:disabled:hover {\n",
              "    background-color: var(--disabled-bg-color);\n",
              "    fill: var(--disabled-fill-color);\n",
              "    box-shadow: none;\n",
              "  }\n",
              "\n",
              "  .colab-df-spinner {\n",
              "    border: 2px solid var(--fill-color);\n",
              "    border-color: transparent;\n",
              "    border-bottom-color: var(--fill-color);\n",
              "    animation:\n",
              "      spin 1s steps(1) infinite;\n",
              "  }\n",
              "\n",
              "  @keyframes spin {\n",
              "    0% {\n",
              "      border-color: transparent;\n",
              "      border-bottom-color: var(--fill-color);\n",
              "      border-left-color: var(--fill-color);\n",
              "    }\n",
              "    20% {\n",
              "      border-color: transparent;\n",
              "      border-left-color: var(--fill-color);\n",
              "      border-top-color: var(--fill-color);\n",
              "    }\n",
              "    30% {\n",
              "      border-color: transparent;\n",
              "      border-left-color: var(--fill-color);\n",
              "      border-top-color: var(--fill-color);\n",
              "      border-right-color: var(--fill-color);\n",
              "    }\n",
              "    40% {\n",
              "      border-color: transparent;\n",
              "      border-right-color: var(--fill-color);\n",
              "      border-top-color: var(--fill-color);\n",
              "    }\n",
              "    60% {\n",
              "      border-color: transparent;\n",
              "      border-right-color: var(--fill-color);\n",
              "    }\n",
              "    80% {\n",
              "      border-color: transparent;\n",
              "      border-right-color: var(--fill-color);\n",
              "      border-bottom-color: var(--fill-color);\n",
              "    }\n",
              "    90% {\n",
              "      border-color: transparent;\n",
              "      border-bottom-color: var(--fill-color);\n",
              "    }\n",
              "  }\n",
              "</style>\n",
              "\n",
              "      <script>\n",
              "        async function quickchart(key) {\n",
              "          const quickchartButtonEl =\n",
              "            document.querySelector('#' + key + ' button');\n",
              "          quickchartButtonEl.disabled = true;  // To prevent multiple clicks.\n",
              "          quickchartButtonEl.classList.add('colab-df-spinner');\n",
              "          try {\n",
              "            const charts = await google.colab.kernel.invokeFunction(\n",
              "                'suggestCharts', [key], {});\n",
              "          } catch (error) {\n",
              "            console.error('Error during call to suggestCharts:', error);\n",
              "          }\n",
              "          quickchartButtonEl.classList.remove('colab-df-spinner');\n",
              "          quickchartButtonEl.classList.add('colab-df-quickchart-complete');\n",
              "        }\n",
              "        (() => {\n",
              "          let quickchartButtonEl =\n",
              "            document.querySelector('#df-7823a8a8-b71b-4f50-a58a-555063882e27 button');\n",
              "          quickchartButtonEl.style.display =\n",
              "            google.colab.kernel.accessAllowed ? 'block' : 'none';\n",
              "        })();\n",
              "      </script>\n",
              "    </div>\n",
              "\n",
              "    </div>\n",
              "  </div>\n"
            ],
            "application/vnd.google.colaboratory.intrinsic+json": {
              "type": "dataframe",
              "summary": "{\n  \"name\": \"df\",\n  \"rows\": 8,\n  \"fields\": [\n    {\n      \"column\": \"INICIO\",\n      \"properties\": {\n        \"dtype\": \"number\",\n        \"std\": 5879.503342719876,\n        \"min\": 0.0,\n        \"max\": 17011.0,\n        \"num_unique_values\": 8,\n        \"samples\": [\n          346.0918967491859,\n          151.179,\n          17011.0\n        ],\n        \"semantic_type\": \"\",\n        \"description\": \"\"\n      }\n    },\n    {\n      \"column\": \"FINAL\",\n      \"properties\": {\n        \"dtype\": \"number\",\n        \"std\": 5878.474701635693,\n        \"min\": 0.048,\n        \"max\": 17011.0,\n        \"num_unique_values\": 8,\n        \"samples\": [\n          350.1720745282723,\n          155.311,\n          17011.0\n        ],\n        \"semantic_type\": \"\",\n        \"description\": \"\"\n      }\n    },\n    {\n      \"column\": \"LONGITUD\",\n      \"properties\": {\n        \"dtype\": \"number\",\n        \"std\": 6006.739377987022,\n        \"min\": 0.001,\n        \"max\": 17011.0,\n        \"num_unique_values\": 8,\n        \"samples\": [\n          4.080080841810593,\n          1.649,\n          17011.0\n        ],\n        \"semantic_type\": \"\",\n        \"description\": \"\"\n      }\n    },\n    {\n      \"column\": \"NROCARRIL\",\n      \"properties\": {\n        \"dtype\": \"number\",\n        \"std\": 6013.5120208907965,\n        \"min\": 0.7681827468267548,\n        \"max\": 17011.0,\n        \"num_unique_values\": 6,\n        \"samples\": [\n          17011.0,\n          1.7748515666333549,\n          7.0\n        ],\n        \"semantic_type\": \"\",\n        \"description\": \"\"\n      }\n    },\n    {\n      \"column\": \"CODCONCES\",\n      \"properties\": {\n        \"dtype\": \"number\",\n        \"std\": 5763.67046865568,\n        \"min\": 1.0,\n        \"max\": 17011.0,\n        \"num_unique_values\": 5,\n        \"samples\": [\n          789.5104932102757,\n          999.0,\n          404.00092729835075\n        ],\n        \"semantic_type\": \"\",\n        \"description\": \"\"\n      }\n    }\n  ]\n}"
            }
          },
          "metadata": {},
          "execution_count": 251
        }
      ]
    },
    {
      "cell_type": "code",
      "source": [
        "df3[\"NUM_FALLECIDOS\"] = pd.to_numeric(df3[\"NUM_FALLECIDOS\"], errors=\"coerce\")\n",
        "df3[\"NUM_HERIDOS\"] = pd.to_numeric(df3[\"NUM_HERIDOS\"], errors=\"coerce\")\n",
        "df3[\"KILOMETRO\"] = pd.to_numeric(df3[\"KILOMETRO\"], errors=\"coerce\")\n",
        "print(\"Primeras filas:\")\n",
        "print(df3.head())"
      ],
      "metadata": {
        "colab": {
          "base_uri": "https://localhost:8080/"
        },
        "id": "ebkgjym3DqWY",
        "outputId": "7764e6ca-2fc7-4375-876f-a6e2158421d3"
      },
      "execution_count": 252,
      "outputs": [
        {
          "output_type": "stream",
          "name": "stdout",
          "text": [
            "Primeras filas:\n",
            "        FECHA   HORA DEPARTAMENTO CODIGO_VIA  KILOMETRO MODALIDAD  \\\n",
            "0  01/01/2020  05:40         LIMA      PE-1S       24.0  DESPISTE   \n",
            "1  01/01/2020  16:30    CAJAMARCA      PE-3N       74.0  DESPISTE   \n",
            "2  01/01/2020  07:45        PASCO      PE-3N      103.0  DESPISTE   \n",
            "3  01/01/2020  18:30    CAJAMARCA      PE-08      111.0  DESPISTE   \n",
            "4  01/01/2020  18:40         LIMA      PE-1N      174.0  DESPISTE   \n",
            "\n",
            "   NUM_FALLECIDOS  NUM_HERIDOS  \n",
            "0             0.0          0.0  \n",
            "1             0.0          0.0  \n",
            "2             0.0          1.0  \n",
            "3             0.0          2.0  \n",
            "4             0.0          5.0  \n"
          ]
        }
      ]
    },
    {
      "cell_type": "code",
      "source": [
        "def normalizar_texto(txt):\n",
        "    if isinstance(txt, str):\n",
        "        txt = txt.strip().upper()\n",
        "        return unicodedata.normalize(\"NFKD\", txt).encode(\"ascii\", \"ignore\").decode(\"utf-8\")\n",
        "    return txt\n",
        "\n",
        "df3[\"DEPARTAMENTO\"] = df3[\"DEPARTAMENTO\"].apply(normalizar_texto)\n",
        "df3[\"MODALIDAD\"] = df3[\"MODALIDAD\"].apply(normalizar_texto)\n",
        "df3[\"CODIGO_VIA\"] = df3[\"CODIGO_VIA\"].astype(str).str.strip().str.upper()"
      ],
      "metadata": {
        "id": "X3bhu3wxEPZj"
      },
      "execution_count": 253,
      "outputs": []
    },
    {
      "cell_type": "code",
      "source": [
        "# 6. Crear variable binaria de gravedad\n",
        "df3[\"SINIESTRO_GRAVE\"] = df3[\"NUM_FALLECIDOS\"].apply(lambda x: 1 if pd.notnull(x) and x > 0 else 0)\n"
      ],
      "metadata": {
        "id": "Mn77WVWrEQKr"
      },
      "execution_count": 254,
      "outputs": []
    },
    {
      "cell_type": "code",
      "source": [
        "print(\"Nulos por columna:\")\n",
        "print(df3.isnull().sum())"
      ],
      "metadata": {
        "colab": {
          "base_uri": "https://localhost:8080/"
        },
        "id": "KeeHTr5fEV90",
        "outputId": "769f682c-0e46-474d-b581-1abaf511654a"
      },
      "execution_count": 255,
      "outputs": [
        {
          "output_type": "stream",
          "name": "stdout",
          "text": [
            "Nulos por columna:\n",
            "FECHA               0\n",
            "HORA               88\n",
            "DEPARTAMENTO        7\n",
            "CODIGO_VIA          0\n",
            "KILOMETRO          45\n",
            "MODALIDAD          28\n",
            "NUM_FALLECIDOS      3\n",
            "NUM_HERIDOS        10\n",
            "SINIESTRO_GRAVE     0\n",
            "dtype: int64\n"
          ]
        }
      ]
    },
    {
      "cell_type": "code",
      "source": [
        "print(\"\\nPrimeras filas del Dataset 3 limpio:\")\n",
        "print(df3.head())"
      ],
      "metadata": {
        "colab": {
          "base_uri": "https://localhost:8080/"
        },
        "id": "g6vljaQZEcBJ",
        "outputId": "0087aa75-0eb3-478f-aea6-6d021b05a1cc"
      },
      "execution_count": 256,
      "outputs": [
        {
          "output_type": "stream",
          "name": "stdout",
          "text": [
            "\n",
            "Primeras filas del Dataset 3 limpio:\n",
            "        FECHA   HORA DEPARTAMENTO CODIGO_VIA  KILOMETRO MODALIDAD  \\\n",
            "0  01/01/2020  05:40         LIMA      PE-1S       24.0  DESPISTE   \n",
            "1  01/01/2020  16:30    CAJAMARCA      PE-3N       74.0  DESPISTE   \n",
            "2  01/01/2020  07:45        PASCO      PE-3N      103.0  DESPISTE   \n",
            "3  01/01/2020  18:30    CAJAMARCA      PE-08      111.0  DESPISTE   \n",
            "4  01/01/2020  18:40         LIMA      PE-1N      174.0  DESPISTE   \n",
            "\n",
            "   NUM_FALLECIDOS  NUM_HERIDOS  SINIESTRO_GRAVE  \n",
            "0             0.0          0.0                0  \n",
            "1             0.0          0.0                0  \n",
            "2             0.0          1.0                0  \n",
            "3             0.0          2.0                0  \n",
            "4             0.0          5.0                0  \n"
          ]
        }
      ]
    },
    {
      "cell_type": "markdown",
      "source": [
        "Integración"
      ],
      "metadata": {
        "id": "68NJKwvWGFZ4"
      }
    },
    {
      "cell_type": "code",
      "source": [
        "# Red Vial (df1)\n",
        "df = df.rename(columns={\n",
        "    \"CODIGO_RUTA\": \"CODRUTA\",\n",
        "    \"DEPARTAMENTO\": \"DEPARTAMENTO\",\n",
        "    \"LONGITUD\": \"LONGITUD\",\n",
        "    \"NRO_CARRILES\": \"NRO_CARRILES\",\n",
        "    \"ESTADO_L\": \"ESTADO_VIA\",\n",
        "    \"SUPERFICIE_L\": \"SUPERFICIE\"\n",
        "})\n",
        "\n",
        "# Siniestros ONSV (df2)\n",
        "df2 = df2.rename(columns={\n",
        "    \"COD_CARRETERA\": \"CODRUTA\"\n",
        "})\n",
        "\n",
        "# SUTRAN (df3)\n",
        "df3 = df3.rename(columns={\n",
        "    \"CODIGO_VIA\": \"CODRUTA\"\n",
        "})\n"
      ],
      "metadata": {
        "id": "YEpYwWIgEb9Q"
      },
      "execution_count": 257,
      "outputs": []
    },
    {
      "cell_type": "code",
      "source": [
        "df1_df2 = df2.merge(df, on=\"CODRUTA\", how=\"left\", suffixes=('', '_RV'))"
      ],
      "metadata": {
        "id": "eR48ATovGKIs"
      },
      "execution_count": 258,
      "outputs": []
    },
    {
      "cell_type": "code",
      "source": [
        "df1_df3 = df3.merge(df, on=\"CODRUTA\", how=\"left\", suffixes=('', '_RV'))\n"
      ],
      "metadata": {
        "id": "1ZVtZ4agGQZV"
      },
      "execution_count": 259,
      "outputs": []
    },
    {
      "cell_type": "code",
      "source": [
        "# Concatenar siniestros de df2 y df3\n",
        "siniestros = pd.concat([df1_df2, df1_df3], ignore_index=True)\n",
        "\n",
        "# Asegurar que NUM_FALLECIDOS esté presente y en formato correcto\n",
        "siniestros[\"NUM_FALLECIDOS\"] = pd.to_numeric(siniestros[\"NUM_FALLECIDOS\"], errors=\"coerce\")\n",
        "siniestros[\"SINIESTRO_GRAVE\"] = siniestros[\"SINIESTRO_GRAVE\"].fillna(\n",
        "    siniestros[\"NUM_FALLECIDOS\"].apply(lambda x: 1 if pd.notnull(x) and x > 0 else 0)\n",
        ")\n",
        "\n",
        "siniestros_unicos = siniestros.drop_duplicates(\n",
        "    subset=[\"CODRUTA\", \"FECHA\", \"HORA\", \"NUM_FALLECIDOS\"]\n",
        ")\n",
        "\n",
        "resumen = siniestros_unicos.groupby(\"CODRUTA\").agg(\n",
        "    departamento=(\"DEPARTAMENTO\", \"first\"),\n",
        "    num_accidentes=(\"CODRUTA\", \"count\"),\n",
        "    num_fallecidos=(\"NUM_FALLECIDOS\", \"sum\"),\n",
        "    siniestro_grave=(\"SINIESTRO_GRAVE\", \"max\"),  # 1 si al menos uno fue grave\n",
        "    tipo_accidente_mas_frec=(\"MODALIDAD\", lambda x: x.mode().iloc[0] if not x.mode().empty else np.nan),\n",
        ").reset_index()\n",
        "\n"
      ],
      "metadata": {
        "id": "MAP3dEFgGTHQ"
      },
      "execution_count": 260,
      "outputs": []
    },
    {
      "cell_type": "code",
      "source": [
        "dataset_final = df.merge(resumen, on=\"CODRUTA\", how=\"left\")\n",
        "\n",
        "# Rellenar nulos con valores por defecto\n",
        "dataset_final[\"num_accidentes\"] = dataset_final[\"num_accidentes\"].fillna(0)\n",
        "dataset_final[\"num_fallecidos\"] = dataset_final[\"num_fallecidos\"].fillna(0)\n",
        "dataset_final[\"siniestro_grave\"] = dataset_final[\"siniestro_grave\"].fillna(0).astype(int)\n"
      ],
      "metadata": {
        "id": "2KrzJohRH1Xz"
      },
      "execution_count": 261,
      "outputs": []
    },
    {
      "cell_type": "code",
      "source": [
        "print(dataset_final.head())\n",
        "dataset_final.describe().T"
      ],
      "metadata": {
        "colab": {
          "base_uri": "https://localhost:8080/",
          "height": 769
        },
        "id": "o093zSqPH3lm",
        "outputId": "325b8743-14aa-4f66-bbcf-4a7db4afda66"
      },
      "execution_count": 269,
      "outputs": [
        {
          "output_type": "stream",
          "name": "stdout",
          "text": [
            "  CODRUTA  INICIO   FINAL  LONGITUD  NROCARRIL   SUPERFICIE ESTADO_VIA  \\\n",
            "0   PE-02   0.000   7.918     7.918          2  PAVIMENTADO      BUENO   \n",
            "1   PE-02   7.918  40.095    32.177          2  PAVIMENTADO      BUENO   \n",
            "2   PE-02  40.095  49.058     8.963          2  PAVIMENTADO      BUENO   \n",
            "3  PE-02A   0.000  19.720    19.720          2  PAVIMENTADO      BUENO   \n",
            "4  PE-02A  19.720  27.345     7.625          2  PAVIMENTADO      BUENO   \n",
            "\n",
            "  DEPARTAMENTO JERARQUIA  CODCONCES                           NOMCONCES  \\\n",
            "0        PIURA        RN          2       EJE MULTIMODAL AMAZONAS NORTE   \n",
            "1        PIURA        RN          2       EJE MULTIMODAL AMAZONAS NORTE   \n",
            "2        PIURA        RN          2       EJE MULTIMODAL AMAZONAS NORTE   \n",
            "3        PIURA        RN          7  EMP.PE-1B-BUENOS AIRES - CANCHAQUE   \n",
            "4        PIURA        RN          7  EMP.PE-1B-BUENOS AIRES - CANCHAQUE   \n",
            "\n",
            "  departamento  num_accidentes  num_fallecidos  siniestro_grave  \\\n",
            "0        PIURA            22.0             9.0                1   \n",
            "1        PIURA            22.0             9.0                1   \n",
            "2        PIURA            22.0             9.0                1   \n",
            "3        PIURA            16.0             2.0                1   \n",
            "4        PIURA            16.0             2.0                1   \n",
            "\n",
            "  tipo_accidente_mas_frec  \n",
            "0                DESPISTE  \n",
            "1                DESPISTE  \n",
            "2                DESPISTE  \n",
            "3                  CHOQUE  \n",
            "4                  CHOQUE  \n"
          ]
        },
        {
          "output_type": "execute_result",
          "data": {
            "text/plain": [
              "                   count        mean         std    min      25%      50%  \\\n",
              "INICIO           17011.0  346.091897  429.239347  0.000   57.625  151.179   \n",
              "FINAL            17011.0  350.172075  429.168934  0.048   62.364  155.311   \n",
              "LONGITUD         17011.0    4.080081    6.528386  0.001    0.500    1.649   \n",
              "NROCARRIL        17011.0    1.774852    0.768183  1.000    1.000    2.000   \n",
              "CODCONCES        17011.0  789.510493  404.000927  1.000  999.000  999.000   \n",
              "num_accidentes   17011.0  294.215978  435.365898  0.000    7.000   71.000   \n",
              "num_fallecidos   17011.0   45.794016   75.876224  0.000    2.000    9.000   \n",
              "siniestro_grave  17011.0    0.978308    0.145680  0.000    1.000    1.000   \n",
              "\n",
              "                     75%       max  \n",
              "INICIO           436.459  1793.323  \n",
              "FINAL            438.303  1804.371  \n",
              "LONGITUD           4.959   135.462  \n",
              "NROCARRIL          2.000     7.000  \n",
              "CODCONCES        999.000   999.000  \n",
              "num_accidentes   472.000  1469.000  \n",
              "num_fallecidos    47.000   272.000  \n",
              "siniestro_grave    1.000     1.000  "
            ],
            "text/html": [
              "\n",
              "  <div id=\"df-8ac50df9-df93-40e1-8af4-1ca346f472d3\" class=\"colab-df-container\">\n",
              "    <div>\n",
              "<style scoped>\n",
              "    .dataframe tbody tr th:only-of-type {\n",
              "        vertical-align: middle;\n",
              "    }\n",
              "\n",
              "    .dataframe tbody tr th {\n",
              "        vertical-align: top;\n",
              "    }\n",
              "\n",
              "    .dataframe thead th {\n",
              "        text-align: right;\n",
              "    }\n",
              "</style>\n",
              "<table border=\"1\" class=\"dataframe\">\n",
              "  <thead>\n",
              "    <tr style=\"text-align: right;\">\n",
              "      <th></th>\n",
              "      <th>count</th>\n",
              "      <th>mean</th>\n",
              "      <th>std</th>\n",
              "      <th>min</th>\n",
              "      <th>25%</th>\n",
              "      <th>50%</th>\n",
              "      <th>75%</th>\n",
              "      <th>max</th>\n",
              "    </tr>\n",
              "  </thead>\n",
              "  <tbody>\n",
              "    <tr>\n",
              "      <th>INICIO</th>\n",
              "      <td>17011.0</td>\n",
              "      <td>346.091897</td>\n",
              "      <td>429.239347</td>\n",
              "      <td>0.000</td>\n",
              "      <td>57.625</td>\n",
              "      <td>151.179</td>\n",
              "      <td>436.459</td>\n",
              "      <td>1793.323</td>\n",
              "    </tr>\n",
              "    <tr>\n",
              "      <th>FINAL</th>\n",
              "      <td>17011.0</td>\n",
              "      <td>350.172075</td>\n",
              "      <td>429.168934</td>\n",
              "      <td>0.048</td>\n",
              "      <td>62.364</td>\n",
              "      <td>155.311</td>\n",
              "      <td>438.303</td>\n",
              "      <td>1804.371</td>\n",
              "    </tr>\n",
              "    <tr>\n",
              "      <th>LONGITUD</th>\n",
              "      <td>17011.0</td>\n",
              "      <td>4.080081</td>\n",
              "      <td>6.528386</td>\n",
              "      <td>0.001</td>\n",
              "      <td>0.500</td>\n",
              "      <td>1.649</td>\n",
              "      <td>4.959</td>\n",
              "      <td>135.462</td>\n",
              "    </tr>\n",
              "    <tr>\n",
              "      <th>NROCARRIL</th>\n",
              "      <td>17011.0</td>\n",
              "      <td>1.774852</td>\n",
              "      <td>0.768183</td>\n",
              "      <td>1.000</td>\n",
              "      <td>1.000</td>\n",
              "      <td>2.000</td>\n",
              "      <td>2.000</td>\n",
              "      <td>7.000</td>\n",
              "    </tr>\n",
              "    <tr>\n",
              "      <th>CODCONCES</th>\n",
              "      <td>17011.0</td>\n",
              "      <td>789.510493</td>\n",
              "      <td>404.000927</td>\n",
              "      <td>1.000</td>\n",
              "      <td>999.000</td>\n",
              "      <td>999.000</td>\n",
              "      <td>999.000</td>\n",
              "      <td>999.000</td>\n",
              "    </tr>\n",
              "    <tr>\n",
              "      <th>num_accidentes</th>\n",
              "      <td>17011.0</td>\n",
              "      <td>294.215978</td>\n",
              "      <td>435.365898</td>\n",
              "      <td>0.000</td>\n",
              "      <td>7.000</td>\n",
              "      <td>71.000</td>\n",
              "      <td>472.000</td>\n",
              "      <td>1469.000</td>\n",
              "    </tr>\n",
              "    <tr>\n",
              "      <th>num_fallecidos</th>\n",
              "      <td>17011.0</td>\n",
              "      <td>45.794016</td>\n",
              "      <td>75.876224</td>\n",
              "      <td>0.000</td>\n",
              "      <td>2.000</td>\n",
              "      <td>9.000</td>\n",
              "      <td>47.000</td>\n",
              "      <td>272.000</td>\n",
              "    </tr>\n",
              "    <tr>\n",
              "      <th>siniestro_grave</th>\n",
              "      <td>17011.0</td>\n",
              "      <td>0.978308</td>\n",
              "      <td>0.145680</td>\n",
              "      <td>0.000</td>\n",
              "      <td>1.000</td>\n",
              "      <td>1.000</td>\n",
              "      <td>1.000</td>\n",
              "      <td>1.000</td>\n",
              "    </tr>\n",
              "  </tbody>\n",
              "</table>\n",
              "</div>\n",
              "    <div class=\"colab-df-buttons\">\n",
              "\n",
              "  <div class=\"colab-df-container\">\n",
              "    <button class=\"colab-df-convert\" onclick=\"convertToInteractive('df-8ac50df9-df93-40e1-8af4-1ca346f472d3')\"\n",
              "            title=\"Convert this dataframe to an interactive table.\"\n",
              "            style=\"display:none;\">\n",
              "\n",
              "  <svg xmlns=\"http://www.w3.org/2000/svg\" height=\"24px\" viewBox=\"0 -960 960 960\">\n",
              "    <path d=\"M120-120v-720h720v720H120Zm60-500h600v-160H180v160Zm220 220h160v-160H400v160Zm0 220h160v-160H400v160ZM180-400h160v-160H180v160Zm440 0h160v-160H620v160ZM180-180h160v-160H180v160Zm440 0h160v-160H620v160Z\"/>\n",
              "  </svg>\n",
              "    </button>\n",
              "\n",
              "  <style>\n",
              "    .colab-df-container {\n",
              "      display:flex;\n",
              "      gap: 12px;\n",
              "    }\n",
              "\n",
              "    .colab-df-convert {\n",
              "      background-color: #E8F0FE;\n",
              "      border: none;\n",
              "      border-radius: 50%;\n",
              "      cursor: pointer;\n",
              "      display: none;\n",
              "      fill: #1967D2;\n",
              "      height: 32px;\n",
              "      padding: 0 0 0 0;\n",
              "      width: 32px;\n",
              "    }\n",
              "\n",
              "    .colab-df-convert:hover {\n",
              "      background-color: #E2EBFA;\n",
              "      box-shadow: 0px 1px 2px rgba(60, 64, 67, 0.3), 0px 1px 3px 1px rgba(60, 64, 67, 0.15);\n",
              "      fill: #174EA6;\n",
              "    }\n",
              "\n",
              "    .colab-df-buttons div {\n",
              "      margin-bottom: 4px;\n",
              "    }\n",
              "\n",
              "    [theme=dark] .colab-df-convert {\n",
              "      background-color: #3B4455;\n",
              "      fill: #D2E3FC;\n",
              "    }\n",
              "\n",
              "    [theme=dark] .colab-df-convert:hover {\n",
              "      background-color: #434B5C;\n",
              "      box-shadow: 0px 1px 3px 1px rgba(0, 0, 0, 0.15);\n",
              "      filter: drop-shadow(0px 1px 2px rgba(0, 0, 0, 0.3));\n",
              "      fill: #FFFFFF;\n",
              "    }\n",
              "  </style>\n",
              "\n",
              "    <script>\n",
              "      const buttonEl =\n",
              "        document.querySelector('#df-8ac50df9-df93-40e1-8af4-1ca346f472d3 button.colab-df-convert');\n",
              "      buttonEl.style.display =\n",
              "        google.colab.kernel.accessAllowed ? 'block' : 'none';\n",
              "\n",
              "      async function convertToInteractive(key) {\n",
              "        const element = document.querySelector('#df-8ac50df9-df93-40e1-8af4-1ca346f472d3');\n",
              "        const dataTable =\n",
              "          await google.colab.kernel.invokeFunction('convertToInteractive',\n",
              "                                                    [key], {});\n",
              "        if (!dataTable) return;\n",
              "\n",
              "        const docLinkHtml = 'Like what you see? Visit the ' +\n",
              "          '<a target=\"_blank\" href=https://colab.research.google.com/notebooks/data_table.ipynb>data table notebook</a>'\n",
              "          + ' to learn more about interactive tables.';\n",
              "        element.innerHTML = '';\n",
              "        dataTable['output_type'] = 'display_data';\n",
              "        await google.colab.output.renderOutput(dataTable, element);\n",
              "        const docLink = document.createElement('div');\n",
              "        docLink.innerHTML = docLinkHtml;\n",
              "        element.appendChild(docLink);\n",
              "      }\n",
              "    </script>\n",
              "  </div>\n",
              "\n",
              "\n",
              "    <div id=\"df-d38fa7dd-a56c-4d3f-bfef-12e723bc9fef\">\n",
              "      <button class=\"colab-df-quickchart\" onclick=\"quickchart('df-d38fa7dd-a56c-4d3f-bfef-12e723bc9fef')\"\n",
              "                title=\"Suggest charts\"\n",
              "                style=\"display:none;\">\n",
              "\n",
              "<svg xmlns=\"http://www.w3.org/2000/svg\" height=\"24px\"viewBox=\"0 0 24 24\"\n",
              "     width=\"24px\">\n",
              "    <g>\n",
              "        <path d=\"M19 3H5c-1.1 0-2 .9-2 2v14c0 1.1.9 2 2 2h14c1.1 0 2-.9 2-2V5c0-1.1-.9-2-2-2zM9 17H7v-7h2v7zm4 0h-2V7h2v10zm4 0h-2v-4h2v4z\"/>\n",
              "    </g>\n",
              "</svg>\n",
              "      </button>\n",
              "\n",
              "<style>\n",
              "  .colab-df-quickchart {\n",
              "      --bg-color: #E8F0FE;\n",
              "      --fill-color: #1967D2;\n",
              "      --hover-bg-color: #E2EBFA;\n",
              "      --hover-fill-color: #174EA6;\n",
              "      --disabled-fill-color: #AAA;\n",
              "      --disabled-bg-color: #DDD;\n",
              "  }\n",
              "\n",
              "  [theme=dark] .colab-df-quickchart {\n",
              "      --bg-color: #3B4455;\n",
              "      --fill-color: #D2E3FC;\n",
              "      --hover-bg-color: #434B5C;\n",
              "      --hover-fill-color: #FFFFFF;\n",
              "      --disabled-bg-color: #3B4455;\n",
              "      --disabled-fill-color: #666;\n",
              "  }\n",
              "\n",
              "  .colab-df-quickchart {\n",
              "    background-color: var(--bg-color);\n",
              "    border: none;\n",
              "    border-radius: 50%;\n",
              "    cursor: pointer;\n",
              "    display: none;\n",
              "    fill: var(--fill-color);\n",
              "    height: 32px;\n",
              "    padding: 0;\n",
              "    width: 32px;\n",
              "  }\n",
              "\n",
              "  .colab-df-quickchart:hover {\n",
              "    background-color: var(--hover-bg-color);\n",
              "    box-shadow: 0 1px 2px rgba(60, 64, 67, 0.3), 0 1px 3px 1px rgba(60, 64, 67, 0.15);\n",
              "    fill: var(--button-hover-fill-color);\n",
              "  }\n",
              "\n",
              "  .colab-df-quickchart-complete:disabled,\n",
              "  .colab-df-quickchart-complete:disabled:hover {\n",
              "    background-color: var(--disabled-bg-color);\n",
              "    fill: var(--disabled-fill-color);\n",
              "    box-shadow: none;\n",
              "  }\n",
              "\n",
              "  .colab-df-spinner {\n",
              "    border: 2px solid var(--fill-color);\n",
              "    border-color: transparent;\n",
              "    border-bottom-color: var(--fill-color);\n",
              "    animation:\n",
              "      spin 1s steps(1) infinite;\n",
              "  }\n",
              "\n",
              "  @keyframes spin {\n",
              "    0% {\n",
              "      border-color: transparent;\n",
              "      border-bottom-color: var(--fill-color);\n",
              "      border-left-color: var(--fill-color);\n",
              "    }\n",
              "    20% {\n",
              "      border-color: transparent;\n",
              "      border-left-color: var(--fill-color);\n",
              "      border-top-color: var(--fill-color);\n",
              "    }\n",
              "    30% {\n",
              "      border-color: transparent;\n",
              "      border-left-color: var(--fill-color);\n",
              "      border-top-color: var(--fill-color);\n",
              "      border-right-color: var(--fill-color);\n",
              "    }\n",
              "    40% {\n",
              "      border-color: transparent;\n",
              "      border-right-color: var(--fill-color);\n",
              "      border-top-color: var(--fill-color);\n",
              "    }\n",
              "    60% {\n",
              "      border-color: transparent;\n",
              "      border-right-color: var(--fill-color);\n",
              "    }\n",
              "    80% {\n",
              "      border-color: transparent;\n",
              "      border-right-color: var(--fill-color);\n",
              "      border-bottom-color: var(--fill-color);\n",
              "    }\n",
              "    90% {\n",
              "      border-color: transparent;\n",
              "      border-bottom-color: var(--fill-color);\n",
              "    }\n",
              "  }\n",
              "</style>\n",
              "\n",
              "      <script>\n",
              "        async function quickchart(key) {\n",
              "          const quickchartButtonEl =\n",
              "            document.querySelector('#' + key + ' button');\n",
              "          quickchartButtonEl.disabled = true;  // To prevent multiple clicks.\n",
              "          quickchartButtonEl.classList.add('colab-df-spinner');\n",
              "          try {\n",
              "            const charts = await google.colab.kernel.invokeFunction(\n",
              "                'suggestCharts', [key], {});\n",
              "          } catch (error) {\n",
              "            console.error('Error during call to suggestCharts:', error);\n",
              "          }\n",
              "          quickchartButtonEl.classList.remove('colab-df-spinner');\n",
              "          quickchartButtonEl.classList.add('colab-df-quickchart-complete');\n",
              "        }\n",
              "        (() => {\n",
              "          let quickchartButtonEl =\n",
              "            document.querySelector('#df-d38fa7dd-a56c-4d3f-bfef-12e723bc9fef button');\n",
              "          quickchartButtonEl.style.display =\n",
              "            google.colab.kernel.accessAllowed ? 'block' : 'none';\n",
              "        })();\n",
              "      </script>\n",
              "    </div>\n",
              "\n",
              "    </div>\n",
              "  </div>\n"
            ],
            "application/vnd.google.colaboratory.intrinsic+json": {
              "type": "dataframe",
              "summary": "{\n  \"name\": \"dataset_final\",\n  \"rows\": 8,\n  \"fields\": [\n    {\n      \"column\": \"count\",\n      \"properties\": {\n        \"dtype\": \"number\",\n        \"std\": 0.0,\n        \"min\": 17011.0,\n        \"max\": 17011.0,\n        \"num_unique_values\": 1,\n        \"samples\": [\n          17011.0\n        ],\n        \"semantic_type\": \"\",\n        \"description\": \"\"\n      }\n    },\n    {\n      \"column\": \"mean\",\n      \"properties\": {\n        \"dtype\": \"number\",\n        \"std\": 276.3529926383895,\n        \"min\": 0.9783081535477044,\n        \"max\": 789.5104932102757,\n        \"num_unique_values\": 8,\n        \"samples\": [\n          350.1720745282723\n        ],\n        \"semantic_type\": \"\",\n        \"description\": \"\"\n      }\n    },\n    {\n      \"column\": \"std\",\n      \"properties\": {\n        \"dtype\": \"number\",\n        \"std\": 217.27410135514475,\n        \"min\": 0.14567964109057113,\n        \"max\": 435.3658984350271,\n        \"num_unique_values\": 8,\n        \"samples\": [\n          429.168933526366\n        ],\n        \"semantic_type\": \"\",\n        \"description\": \"\"\n      }\n    },\n    {\n      \"column\": \"min\",\n      \"properties\": {\n        \"dtype\": \"number\",\n        \"std\": 0.4594258645309383,\n        \"min\": 0.0,\n        \"max\": 1.0,\n        \"num_unique_values\": 4,\n        \"samples\": [\n          0.048\n        ],\n        \"semantic_type\": \"\",\n        \"description\": \"\"\n      }\n    },\n    {\n      \"column\": \"25%\",\n      \"properties\": {\n        \"dtype\": \"number\",\n        \"std\": 347.54557496224766,\n        \"min\": 0.5,\n        \"max\": 999.0,\n        \"num_unique_values\": 7,\n        \"samples\": [\n          57.625\n        ],\n        \"semantic_type\": \"\",\n        \"description\": \"\"\n      }\n    },\n    {\n      \"column\": \"50%\",\n      \"properties\": {\n        \"dtype\": \"number\",\n        \"std\": 339.86268467634204,\n        \"min\": 1.0,\n        \"max\": 999.0,\n        \"num_unique_values\": 8,\n        \"samples\": [\n          155.311\n        ],\n        \"semantic_type\": \"\",\n        \"description\": \"\"\n      }\n    },\n    {\n      \"column\": \"75%\",\n      \"properties\": {\n        \"dtype\": \"number\",\n        \"std\": 355.6075093998348,\n        \"min\": 1.0,\n        \"max\": 999.0,\n        \"num_unique_values\": 8,\n        \"samples\": [\n          438.303\n        ],\n        \"semantic_type\": \"\",\n        \"description\": \"\"\n      }\n    },\n    {\n      \"column\": \"max\",\n      \"properties\": {\n        \"dtype\": \"number\",\n        \"std\": 799.0561534328218,\n        \"min\": 1.0,\n        \"max\": 1804.371,\n        \"num_unique_values\": 8,\n        \"samples\": [\n          1804.371\n        ],\n        \"semantic_type\": \"\",\n        \"description\": \"\"\n      }\n    }\n  ]\n}"
            }
          },
          "metadata": {},
          "execution_count": 269
        }
      ]
    },
    {
      "cell_type": "code",
      "source": [
        "dataset_final['num_accidentes'] = dataset_final['num_accidentes'].fillna(0)\n",
        "dataset_final['num_fallecidos'] = dataset_final['num_fallecidos'].fillna(0)\n",
        "dataset_final['tipo_accidente_mas_frec'] = dataset_final['tipo_accidente_mas_frec'].fillna(\"NO IDENTIFICADO\")\n",
        "dataset_final[\"departamento\"] = dataset_final[\"departamento\"].fillna(dataset_final[\"DEPARTAMENTO\"])\n"
      ],
      "metadata": {
        "id": "iWz9blbNIc2C"
      },
      "execution_count": 265,
      "outputs": []
    },
    {
      "cell_type": "code",
      "source": [
        "print(dataset_final.isnull().sum())"
      ],
      "metadata": {
        "colab": {
          "base_uri": "https://localhost:8080/"
        },
        "id": "j4G3_eOLIoPG",
        "outputId": "d5576dbb-d2ca-4e1d-a263-83e6f4f573d5"
      },
      "execution_count": 268,
      "outputs": [
        {
          "output_type": "stream",
          "name": "stdout",
          "text": [
            "CODRUTA                    0\n",
            "INICIO                     0\n",
            "FINAL                      0\n",
            "LONGITUD                   0\n",
            "NROCARRIL                  0\n",
            "SUPERFICIE                 0\n",
            "ESTADO_VIA                 0\n",
            "DEPARTAMENTO               0\n",
            "JERARQUIA                  0\n",
            "CODCONCES                  0\n",
            "NOMCONCES                  0\n",
            "departamento               0\n",
            "num_accidentes             0\n",
            "num_fallecidos             0\n",
            "siniestro_grave            0\n",
            "tipo_accidente_mas_frec    0\n",
            "dtype: int64\n"
          ]
        }
      ]
    },
    {
      "cell_type": "code",
      "source": [
        "dataset_final.to_csv(\"dataset_sinaf.csv\", index=False, encoding=\"utf-8\")"
      ],
      "metadata": {
        "id": "VmCrS0kwLRvi"
      },
      "execution_count": 267,
      "outputs": []
    }
  ]
}