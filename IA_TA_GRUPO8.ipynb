{
  "nbformat": 4,
  "nbformat_minor": 0,
  "metadata": {
    "colab": {
      "provenance": []
    },
    "kernelspec": {
      "name": "python3",
      "display_name": "Python 3"
    },
    "language_info": {
      "name": "python"
    }
  },
  "cells": [
    {
      "cell_type": "code",
      "execution_count": 741,
      "metadata": {
        "colab": {
          "base_uri": "https://localhost:8080/"
        },
        "id": "WilWn1Ab2W2J",
        "outputId": "3ac75a31-f68d-43f8-f415-89eb8b260bfd"
      },
      "outputs": [
        {
          "output_type": "stream",
          "name": "stdout",
          "text": [
            "Primeras filas:\n",
            "   ID_RVN  ID_DEPARTAMENTO DEPARTAMENTO CODIGO_RUTA  \\\n",
            "0       1               20        PIURA       PE-02   \n",
            "1       2               20        PIURA       PE-02   \n",
            "2       3               20        PIURA       PE-02   \n",
            "3       4               20        PIURA      PE-02A   \n",
            "4       5               20        PIURA      PE-02A   \n",
            "\n",
            "                                         TRAYECTORIA  INICIO   FINAL  \\\n",
            "0                     Emp. PE-1N (Dv. Paita) - Paita   0.000   7.918   \n",
            "1                     Emp. PE-1N (Dv. Paita) - Paita   7.918  40.095   \n",
            "2                     Emp. PE-1N (Dv. Paita) - Paita  40.095  49.058   \n",
            "3  Emp. PE-1N J (Dv. Huancabamba) - Buenos Aires ...   0.000  19.720   \n",
            "4  Emp. PE-1N J (Dv. Huancabamba) - Buenos Aires ...  19.720  27.345   \n",
            "\n",
            "  CLASIFICACION_EJE JERARQUIA  LONGITUD  NRO_CARRILES  SUPERFICIE  \\\n",
            "0       Transversal        RN     7.918             2           1   \n",
            "1       Transversal        RN    32.177             2           1   \n",
            "2       Transversal        RN     8.963             2           1   \n",
            "3       Transversal        RN    19.720             2           1   \n",
            "4       Transversal        RN     7.625             2           1   \n",
            "\n",
            "  SUPERFICIE_L  ESTADO ESTADO_L  CODIGO_CONCESION  \\\n",
            "0  Pavimentado       1    Bueno                 2   \n",
            "1  Pavimentado       1    Bueno                 2   \n",
            "2  Pavimentado       1    Bueno                 2   \n",
            "3  Pavimentado       1    Bueno                 7   \n",
            "4  Pavimentado       1    Bueno                 7   \n",
            "\n",
            "                     NOMBRE_CONCESION CODIGO_LOGISTICO  \\\n",
            "0       Eje Multimodal Amazonas Norte              C02   \n",
            "1       Eje Multimodal Amazonas Norte              C02   \n",
            "2       Eje Multimodal Amazonas Norte              C02   \n",
            "3  Emp.PE-1B-Buenos Aires - Canchaque            ALC02   \n",
            "4  Emp.PE-1B-Buenos Aires - Canchaque            ALC02   \n",
            "\n",
            "                      CORREDOR_LOGISTICO  FECHA_CORTE  \n",
            "0         CO 2: Paita - Piura- Dv. Olmos     20221231  \n",
            "1         CO 2: Paita - Piura- Dv. Olmos     20221231  \n",
            "2         CO 2: Paita - Piura- Dv. Olmos     20221231  \n",
            "3  Alimentador del corredor logístico 02     20221231  \n",
            "4  Alimentador del corredor logístico 02     20221231  \n",
            "Primeras filas:\n",
            "   ID_RVN  ID_DEPARTAMENTO DEPARTAMENTO CODIGO_RUTA  \\\n",
            "0       1               20        PIURA       PE-02   \n",
            "1       2               20        PIURA       PE-02   \n",
            "2       3               20        PIURA       PE-02   \n",
            "3       4               20        PIURA      PE-02A   \n",
            "4       5               20        PIURA      PE-02A   \n",
            "\n",
            "                                         TRAYECTORIA  INICIO   FINAL  \\\n",
            "0                     Emp. PE-1N (Dv. Paita) - Paita   0.000   7.918   \n",
            "1                     Emp. PE-1N (Dv. Paita) - Paita   7.918  40.095   \n",
            "2                     Emp. PE-1N (Dv. Paita) - Paita  40.095  49.058   \n",
            "3  Emp. PE-1N J (Dv. Huancabamba) - Buenos Aires ...   0.000  19.720   \n",
            "4  Emp. PE-1N J (Dv. Huancabamba) - Buenos Aires ...  19.720  27.345   \n",
            "\n",
            "  CLASIFICACION_EJE JERARQUIA  LONGITUD  NRO_CARRILES  SUPERFICIE  \\\n",
            "0       Transversal        RN     7.918             2           1   \n",
            "1       Transversal        RN    32.177             2           1   \n",
            "2       Transversal        RN     8.963             2           1   \n",
            "3       Transversal        RN    19.720             2           1   \n",
            "4       Transversal        RN     7.625             2           1   \n",
            "\n",
            "  SUPERFICIE_L  ESTADO ESTADO_L  CODIGO_CONCESION  \\\n",
            "0  Pavimentado       1    Bueno                 2   \n",
            "1  Pavimentado       1    Bueno                 2   \n",
            "2  Pavimentado       1    Bueno                 2   \n",
            "3  Pavimentado       1    Bueno                 7   \n",
            "4  Pavimentado       1    Bueno                 7   \n",
            "\n",
            "                     NOMBRE_CONCESION CODIGO_LOGISTICO  \\\n",
            "0       Eje Multimodal Amazonas Norte              C02   \n",
            "1       Eje Multimodal Amazonas Norte              C02   \n",
            "2       Eje Multimodal Amazonas Norte              C02   \n",
            "3  Emp.PE-1B-Buenos Aires - Canchaque            ALC02   \n",
            "4  Emp.PE-1B-Buenos Aires - Canchaque            ALC02   \n",
            "\n",
            "                      CORREDOR_LOGISTICO  FECHA_CORTE  \n",
            "0         CO 2: Paita - Piura- Dv. Olmos     20221231  \n",
            "1         CO 2: Paita - Piura- Dv. Olmos     20221231  \n",
            "2         CO 2: Paita - Piura- Dv. Olmos     20221231  \n",
            "3  Alimentador del corredor logístico 02     20221231  \n",
            "4  Alimentador del corredor logístico 02     20221231  \n"
          ]
        }
      ],
      "source": [
        "import pandas as pd\n",
        "import numpy as np\n",
        "import unicodedata\n",
        "df_RedVial = pd.read_csv(\"1_Red_vial_nacional_2022-jul2024_0.csv\", encoding='utf-8')\n",
        "print(\"Primeras filas:\")\n",
        "print(df_RedVial.head())\n",
        "\n",
        "df_RedVial.columns = df_RedVial.columns.str.strip().str.upper().str.replace(\" \", \"_\")\n",
        "\n",
        "print(\"Primeras filas:\")\n",
        "print(df_RedVial.head())"
      ]
    },
    {
      "cell_type": "code",
      "source": [
        "df_RedVial = df_RedVial[[\n",
        "    \"CODIGO_RUTA\", \"INICIO\", \"FINAL\", \"LONGITUD\", \"NRO_CARRILES\",\n",
        "    \"SUPERFICIE_L\", \"DEPARTAMENTO\", \"JERARQUIA\"\n",
        "]]\n",
        "df_RedVial = df_RedVial.rename(columns={\n",
        "    \"CODIGO_RUTA\": \"CODRUTA\",\n",
        "    \"NRO_CARRILES\": \"NROCARRIL\"\n",
        "})\n",
        "print(\"Primeras filas:\")\n",
        "print(df_RedVial.head())"
      ],
      "metadata": {
        "colab": {
          "base_uri": "https://localhost:8080/"
        },
        "id": "q9GWdh6w4Iv6",
        "outputId": "006539d3-058a-414d-e945-1e056a3e0f37"
      },
      "execution_count": 742,
      "outputs": [
        {
          "output_type": "stream",
          "name": "stdout",
          "text": [
            "Primeras filas:\n",
            "  CODRUTA  INICIO   FINAL  LONGITUD  NROCARRIL SUPERFICIE_L DEPARTAMENTO  \\\n",
            "0   PE-02   0.000   7.918     7.918          2  Pavimentado        PIURA   \n",
            "1   PE-02   7.918  40.095    32.177          2  Pavimentado        PIURA   \n",
            "2   PE-02  40.095  49.058     8.963          2  Pavimentado        PIURA   \n",
            "3  PE-02A   0.000  19.720    19.720          2  Pavimentado        PIURA   \n",
            "4  PE-02A  19.720  27.345     7.625          2  Pavimentado        PIURA   \n",
            "\n",
            "  JERARQUIA  \n",
            "0        RN  \n",
            "1        RN  \n",
            "2        RN  \n",
            "3        RN  \n",
            "4        RN  \n"
          ]
        }
      ]
    },
    {
      "cell_type": "code",
      "source": [
        "print(\" Tipos de datos originales:\")\n",
        "print(df_RedVial.dtypes)\n",
        "total_original = len(df_RedVial)\n",
        "print(f\"\\n Total de registros originales: {total_original}\")"
      ],
      "metadata": {
        "colab": {
          "base_uri": "https://localhost:8080/"
        },
        "id": "JaO30LLl4nbo",
        "outputId": "d4668ece-3edf-4a20-8247-7ebd0d608624"
      },
      "execution_count": 743,
      "outputs": [
        {
          "output_type": "stream",
          "name": "stdout",
          "text": [
            " Tipos de datos originales:\n",
            "CODRUTA          object\n",
            "INICIO          float64\n",
            "FINAL           float64\n",
            "LONGITUD        float64\n",
            "NROCARRIL         int64\n",
            "SUPERFICIE_L     object\n",
            "DEPARTAMENTO     object\n",
            "JERARQUIA        object\n",
            "dtype: object\n",
            "\n",
            " Total de registros originales: 20255\n"
          ]
        }
      ]
    },
    {
      "cell_type": "code",
      "source": [
        "eliminados_carril = (df_RedVial[\"NROCARRIL\"] == -1).sum()\n",
        "print(f\" Registros con NROCARRIL = -1 eliminados: {eliminados_carril}\")\n",
        "df_RedVial = df_RedVial[df_RedVial[\"NROCARRIL\"] != -1]\n"
      ],
      "metadata": {
        "colab": {
          "base_uri": "https://localhost:8080/"
        },
        "id": "s6OUTlYX4jLk",
        "outputId": "3c27bcc2-fc85-4c21-d2de-e0de00320ba0"
      },
      "execution_count": 744,
      "outputs": [
        {
          "output_type": "stream",
          "name": "stdout",
          "text": [
            " Registros con NROCARRIL = -1 eliminados: 3244\n"
          ]
        }
      ]
    },
    {
      "cell_type": "code",
      "source": [
        "# Normalizar texto en columnas clave\n",
        "for col in [\"SUPERFICIE_L\", \"DEPARTAMENTO\", \"JERARQUIA\"]:\n",
        "    df_RedVial[col] = df_RedVial[col].astype(str).str.strip().str.upper()\n",
        "\n",
        "# Filtrar solo jerarquía RN y hacer copia explícita\n",
        "df_rn = df_RedVial[df_RedVial[\"JERARQUIA\"] == \"RN\"].copy()\n",
        "print(f\"Registros con JERARQUIA = 'RN': {len(df_rn)} (de {len(df_RedVial)})\")\n",
        "\n",
        "# Eliminar duplicados\n",
        "df_rn = df_rn.drop_duplicates()\n",
        "\n"
      ],
      "metadata": {
        "colab": {
          "base_uri": "https://localhost:8080/"
        },
        "id": "x_bNZpko5SZB",
        "outputId": "02913209-3484-454d-ccc5-2fe08300ddcf"
      },
      "execution_count": 745,
      "outputs": [
        {
          "output_type": "stream",
          "name": "stdout",
          "text": [
            "Registros con JERARQUIA = 'RN': 17011 (de 17011)\n"
          ]
        }
      ]
    },
    {
      "cell_type": "code",
      "source": [
        "nulos= df_RedVial.isnull().sum()\n",
        "porcentaje = (nulos / len(df_RedVial)) * 100\n",
        "\n",
        "reporte = pd.DataFrame({\n",
        "    \"NULOS\": nulos,\n",
        "    \"PORCENTAJE (%)\": porcentaje.round(2)\n",
        "})\n",
        "\n",
        "print(reporte)"
      ],
      "metadata": {
        "colab": {
          "base_uri": "https://localhost:8080/"
        },
        "id": "hBnZpMSsFFT7",
        "outputId": "786cceb0-e2c0-4b90-de56-48d841400b74"
      },
      "execution_count": 746,
      "outputs": [
        {
          "output_type": "stream",
          "name": "stdout",
          "text": [
            "              NULOS  PORCENTAJE (%)\n",
            "CODRUTA           0             0.0\n",
            "INICIO            0             0.0\n",
            "FINAL             0             0.0\n",
            "LONGITUD          0             0.0\n",
            "NROCARRIL         0             0.0\n",
            "SUPERFICIE_L      0             0.0\n",
            "DEPARTAMENTO      0             0.0\n",
            "JERARQUIA         0             0.0\n"
          ]
        }
      ]
    },
    {
      "cell_type": "code",
      "source": [
        "print(df_RedVial)"
      ],
      "metadata": {
        "colab": {
          "base_uri": "https://localhost:8080/"
        },
        "id": "sokGrOlOm-0t",
        "outputId": "129e8176-ef59-4a3c-da17-4d44fbd45eee"
      },
      "execution_count": 747,
      "outputs": [
        {
          "output_type": "stream",
          "name": "stdout",
          "text": [
            "      CODRUTA  INICIO   FINAL  LONGITUD  NROCARRIL SUPERFICIE_L DEPARTAMENTO  \\\n",
            "0       PE-02   0.000   7.918     7.918          2  PAVIMENTADO        PIURA   \n",
            "1       PE-02   7.918  40.095    32.177          2  PAVIMENTADO        PIURA   \n",
            "2       PE-02  40.095  49.058     8.963          2  PAVIMENTADO        PIURA   \n",
            "3      PE-02A   0.000  19.720    19.720          2  PAVIMENTADO        PIURA   \n",
            "4      PE-02A  19.720  27.345     7.625          2  PAVIMENTADO        PIURA   \n",
            "...       ...     ...     ...       ...        ...          ...          ...   \n",
            "20244  PE-5SA  16.853  22.023     5.170          2     AFIRMADO        JUNIN   \n",
            "20245  PE-5SA  16.337  16.853     0.516          2     AFIRMADO        JUNIN   \n",
            "20246  PE-5SA   3.575  16.337    12.762          2     AFIRMADO        JUNIN   \n",
            "20247  PE-5SA   0.000   3.305     3.305          2     AFIRMADO        JUNIN   \n",
            "20248  PE-5SA   3.305   3.575     0.270          2     AFIRMADO        JUNIN   \n",
            "\n",
            "      JERARQUIA  \n",
            "0            RN  \n",
            "1            RN  \n",
            "2            RN  \n",
            "3            RN  \n",
            "4            RN  \n",
            "...         ...  \n",
            "20244        RN  \n",
            "20245        RN  \n",
            "20246        RN  \n",
            "20247        RN  \n",
            "20248        RN  \n",
            "\n",
            "[17011 rows x 8 columns]\n"
          ]
        }
      ]
    },
    {
      "cell_type": "code",
      "source": [
        "df_RedVial = df_RedVial.sort_values(by=[\"CODRUTA\", \"INICIO\"])\n",
        "\n",
        "# Detectar cambio de CODRUTA o en las columnas clave\n",
        "cols_clave = [\"CODRUTA\", \"NROCARRIL\", \"SUPERFICIE_L\"]\n",
        "df_RedVial[\"grupo_cambio\"] = (df_RedVial[cols_clave] != df_RedVial[cols_clave].shift()).any(axis=1).cumsum()\n",
        "\n",
        "# Agrupar manteniendo segmentos homogéneos\n",
        "df_RedVial = df_RedVial.groupby(\"grupo_cambio\").agg({\n",
        "    \"CODRUTA\": \"first\",\n",
        "    \"INICIO\": \"first\",\n",
        "    \"FINAL\": \"last\",\n",
        "    \"LONGITUD\": \"sum\",\n",
        "    \"NROCARRIL\": \"first\",\n",
        "    \"SUPERFICIE_L\": \"first\",\n",
        "    \"DEPARTAMENTO\": \"first\",\n",
        "    \"JERARQUIA\": \"first\"\n",
        "}).reset_index(drop=True)"
      ],
      "metadata": {
        "id": "KasmVtmPmSnY"
      },
      "execution_count": 748,
      "outputs": []
    },
    {
      "cell_type": "code",
      "source": [
        "print(df_RedVial)"
      ],
      "metadata": {
        "colab": {
          "base_uri": "https://localhost:8080/"
        },
        "id": "HaZO5BaCnGjg",
        "outputId": "5edd71fb-0082-4300-93cc-177a31641b08"
      },
      "execution_count": 749,
      "outputs": [
        {
          "output_type": "stream",
          "name": "stdout",
          "text": [
            "     CODRUTA   INICIO    FINAL  LONGITUD  NROCARRIL         SUPERFICIE_L  \\\n",
            "0      PE-02    0.000   49.058   147.174          2          PAVIMENTADO   \n",
            "1     PE-02A    0.000   77.720   233.160          2          PAVIMENTADO   \n",
            "2     PE-02A   77.720   77.818     0.294          1          PAVIMENTADO   \n",
            "3     PE-02A   77.818  104.070    78.756          1  ASFALTADO ECONÓMICO   \n",
            "4     PE-02A  104.070  143.469   118.197          2  ASFALTADO ECONÓMICO   \n",
            "...      ...      ...      ...       ...        ...                  ...   \n",
            "1100   PE-5S   59.657  109.102   148.335          2          PAVIMENTADO   \n",
            "1101   PE-5S  109.102  110.102     3.000          2  ASFALTADO ECONÓMICO   \n",
            "1102   PE-5S  110.102  174.922   194.460          2          PAVIMENTADO   \n",
            "1103   PE-5S  174.922  194.489    58.590          2             AFIRMADO   \n",
            "1104  PE-5SA    0.000   24.164    72.208          2             AFIRMADO   \n",
            "\n",
            "     DEPARTAMENTO JERARQUIA  \n",
            "0           PIURA        RN  \n",
            "1           PIURA        RN  \n",
            "2           PIURA        RN  \n",
            "3           PIURA        RN  \n",
            "4           PIURA        RN  \n",
            "...           ...       ...  \n",
            "1100        JUNIN        RN  \n",
            "1101        JUNIN        RN  \n",
            "1102        JUNIN        RN  \n",
            "1103        JUNIN        RN  \n",
            "1104        JUNIN        RN  \n",
            "\n",
            "[1105 rows x 8 columns]\n"
          ]
        }
      ]
    },
    {
      "cell_type": "code",
      "source": [
        "df_RedVial.to_csv(\"df_RedVial.csv\", index=False, encoding='utf-8')"
      ],
      "metadata": {
        "id": "KkM9ruJkx19t"
      },
      "execution_count": 750,
      "outputs": []
    },
    {
      "cell_type": "markdown",
      "source": [],
      "metadata": {
        "id": "nNM-jckyJIsd"
      }
    },
    {
      "cell_type": "code",
      "source": [
        "df_ONSV = pd.read_excel(\"BBDD ONSV - SINIESTROS 2021-2023.xlsx\", skiprows=3)\n",
        "\n",
        "# Mostrar columnas disponibles\n",
        "print(\"Columnas encontradas:\")\n",
        "print(df_ONSV.columns.tolist())\n"
      ],
      "metadata": {
        "colab": {
          "base_uri": "https://localhost:8080/"
        },
        "id": "--JctIeA5uHp",
        "outputId": "8b568ac2-458d-4686-a7e9-225fa8f741d6"
      },
      "execution_count": 751,
      "outputs": [
        {
          "output_type": "stream",
          "name": "stdout",
          "text": [
            "Columnas encontradas:\n",
            "['CÓDIGO SINIESTRO', 'FECHA SINIESTRO', 'HORA SINIESTRO', 'CLASE SINIESTRO', 'CANTIDAD DE FALLECIDOS', 'CANTIDAD DE LESIONADOS', 'CANTIDAD DE VEHICULOS DAÑADOS', 'DEPARTAMENTO', 'PROVINCIA', 'DISTRITO', 'ZONA', 'TIPO DE VÍA', 'RED VIAL', 'COD CARRETERA', 'EXISTE CICLOVÍA', 'COORDENADAS LATITUD', 'COORDENADAS  LONGITUD', 'CONDICIÓN CLIMÁTICA', 'ZONIFICACIÓN', 'CARACTERÍSTICAS DE VÍA', 'PERFIL LONGITUDINAL VÍA', 'SUPERFICIE DE CALZADA', '¿EXISTE SEÑAL VERTICAL?', 'CLASIFICACIÓN DE LA SEÑAL VERTICAL Nº 1', 'CLASIFICACIÓN DE LA SEÑAL VERTICAL Nº 2', '¿EXISTE SEÑAL HORIZONTAL?', 'CAUSA FACTOR PRINCIPAL', 'CAUSA ESPECÍFICA']\n"
          ]
        }
      ]
    },
    {
      "cell_type": "code",
      "source": [
        "df_ONSV = df_ONSV[[\n",
        "    \"FECHA SINIESTRO\",\n",
        "    \"HORA SINIESTRO\",\n",
        "    \"CANTIDAD DE FALLECIDOS\",\n",
        "    \"CANTIDAD DE LESIONADOS\",\n",
        "    \"DEPARTAMENTO\",\n",
        "    \"PROVINCIA\",\n",
        "    \"DISTRITO\",\n",
        "    \"COD CARRETERA\",\n",
        "    \"COORDENADAS LATITUD\",\n",
        "    \"COORDENADAS  LONGITUD\",\n",
        "    \"TIPO DE VÍA\",\n",
        "    \"SUPERFICIE DE CALZADA\",\n",
        "    \"CONDICIÓN CLIMÁTICA\",\n",
        "    \"RED VIAL\",\n",
        "    \"ZONA\",\n",
        "    \"¿EXISTE SEÑAL VERTICAL?\",\n",
        "    \"¿EXISTE SEÑAL HORIZONTAL?\",\n",
        "    \"CAUSA FACTOR PRINCIPAL\",\n",
        "    \"CAUSA ESPECÍFICA\",\n",
        "    \"CLASE SINIESTRO\"\n",
        "]]\n",
        "\n",
        "df_ONSV.columns = df_ONSV.columns.str.strip().str.upper().str.replace(\" \", \"_\")"
      ],
      "metadata": {
        "id": "HEiXwyWk7Laz"
      },
      "execution_count": 752,
      "outputs": []
    },
    {
      "cell_type": "code",
      "source": [
        "# Eliminar filas sin coordenadas (opcional, para mapas)\n",
        "coordenadas_incompletas = df_ONSV[\"COORDENADAS_LATITUD\"].isna() | df_ONSV[\"COORDENADAS__LONGITUD\"].isna()\n",
        "print(f\" Registros eliminados por falta de coordenadas: {coordenadas_incompletas.sum()}\")\n",
        "df_ONSV = df_ONSV[~coordenadas_incompletas]"
      ],
      "metadata": {
        "colab": {
          "base_uri": "https://localhost:8080/"
        },
        "id": "3gbA77wh7ic5",
        "outputId": "9d45c49f-0a87-4902-f8d2-2d0bc587df67"
      },
      "execution_count": 753,
      "outputs": [
        {
          "output_type": "stream",
          "name": "stdout",
          "text": [
            " Registros eliminados por falta de coordenadas: 0\n"
          ]
        }
      ]
    },
    {
      "cell_type": "code",
      "source": [
        "def normalizar_texto(texto):\n",
        "    if not isinstance(texto, str):\n",
        "        return texto\n",
        "    texto = unicodedata.normalize('NFKD', texto).encode('ascii', 'ignore').decode('utf-8')\n",
        "    return texto.strip().upper()"
      ],
      "metadata": {
        "id": "oczQ--cn7v4r"
      },
      "execution_count": 754,
      "outputs": []
    },
    {
      "cell_type": "code",
      "source": [
        "columnas_texto = [\n",
        "    \"DEPARTAMENTO\", \"PROVINCIA\", \"DISTRITO\", \"TIPO_DE_VÍA\", \"SUPERFICIE_DE_CALZADA\",\n",
        "    \"CONDICIÓN_CLIMÁTICA\", \"ZONA\", \"¿EXISTE_SEÑAL_VERTICAL?\", \"¿EXISTE_SEÑAL_HORIZONTAL?\",\n",
        "    \"CAUSA_FACTOR_PRINCIPAL\", \"CAUSA_ESPECÍFICA\",\"CLASE_SINIESTRO\",\"RED_VIAL\"\n",
        "]"
      ],
      "metadata": {
        "id": "xibqU1eo7_sR"
      },
      "execution_count": 755,
      "outputs": []
    },
    {
      "cell_type": "code",
      "source": [
        "for col in columnas_texto:\n",
        "    df_ONSV[col] = df_ONSV[col].apply(normalizar_texto)\n",
        "\n",
        "print(\"Primeras filas:\")\n",
        "print(df_ONSV)"
      ],
      "metadata": {
        "colab": {
          "base_uri": "https://localhost:8080/"
        },
        "id": "ujdwFMTe8FmK",
        "outputId": "644f99a3-6f53-4a86-f119-483d935a1f70"
      },
      "execution_count": 756,
      "outputs": [
        {
          "output_type": "stream",
          "name": "stdout",
          "text": [
            "Primeras filas:\n",
            "     FECHA_SINIESTRO HORA_SINIESTRO  CANTIDAD_DE_FALLECIDOS  \\\n",
            "0         01/01/2021          04:40                       1   \n",
            "1         01/01/2021          05:45                       1   \n",
            "2         01/01/2021          06:00                       2   \n",
            "3         01/01/2021          07:00                       1   \n",
            "4         01/01/2021          14:00                       1   \n",
            "...              ...            ...                     ...   \n",
            "6716      31/12/2023          11:57                       1   \n",
            "6717      31/12/2023          17:00                       1   \n",
            "6718      31/12/2023          18:50                       1   \n",
            "6719      31/12/2023          19:15                       1   \n",
            "6720      31/12/2023          21:25                       1   \n",
            "\n",
            "      CANTIDAD_DE_LESIONADOS DEPARTAMENTO  PROVINCIA                 DISTRITO  \\\n",
            "0                          0         LIMA     HUARAL                   HUARAL   \n",
            "1                          3         LIMA       LIMA               PACHACAMAC   \n",
            "2                          0  LA LIBERTAD       VIRU                     VIRU   \n",
            "3                          0  LA LIBERTAD       VIRU                     VIRU   \n",
            "4                          1         LIMA       LIMA  VILLA MARIA DEL TRIUNFO   \n",
            "...                      ...          ...        ...                      ...   \n",
            "6716                       0        JUNIN   HUANCAYO    SAN JERONIMO DE TUNAN   \n",
            "6717                       0  LA LIBERTAD       VIRU                     CHAO   \n",
            "6718                       0         PUNO  SAN ROMAN                  JULIACA   \n",
            "6719                       3         PUNO     MELGAR                  AYAVIRI   \n",
            "6720                       0        TACNA      TACNA                    TACNA   \n",
            "\n",
            "       COD_CARRETERA  COORDENADAS_LATITUD  COORDENADAS__LONGITUD TIPO_DE_VÍA  \\\n",
            "0             LM-671           -11.482879             -77.255547   CARRETERA   \n",
            "1     NO CORRESPONDE           -12.229400             -76.859412     AVENIDA   \n",
            "2            LI-1150            -8.414865             -78.754544   CARRETERA   \n",
            "3              PE-1N            -8.432617             -78.772242   CARRETERA   \n",
            "4     NO CORRESPONDE           -12.164406             -76.953426     AVENIDA   \n",
            "...              ...                  ...                    ...         ...   \n",
            "6716           PE-3S           -11.938189             -75.309347   CARRETERA   \n",
            "6717           PE-1N            -8.539740             -78.676508   CARRETERA   \n",
            "6718  NO CORRESPONDE           -15.492683             -70.130365       JIRON   \n",
            "6719           PE-3S           -14.826137             -70.674390   CARRETERA   \n",
            "6720  SIN CLASIFICAR           -18.033175             -70.277754   CARRETERA   \n",
            "\n",
            "     SUPERFICIE_DE_CALZADA CONDICIÓN_CLIMÁTICA        RED_VIAL    ZONA  \\\n",
            "0                   TROCHA           DESPEJADO         VECINAL   RURAL   \n",
            "1                ASFALTADA           DESPEJADO          URBANO  URBANA   \n",
            "2                ASFALTADA           DESPEJADO         VECINAL  URBANA   \n",
            "3                ASFALTADA           DESPEJADO        NACIONAL   RURAL   \n",
            "4                ASFALTADA           DESPEJADO          URBANO  URBANA   \n",
            "...                    ...                 ...             ...     ...   \n",
            "6716             ASFALTADA           DESPEJADO        NACIONAL  URBANA   \n",
            "6717             ASFALTADA           DESPEJADO        NACIONAL   RURAL   \n",
            "6718             ASFALTADA           DESPEJADO          URBANO  URBANA   \n",
            "6719             ASFALTADA           DESPEJADO        NACIONAL   RURAL   \n",
            "6720             ASFALTADA           DESPEJADO  SIN CLASIFICAR  URBANA   \n",
            "\n",
            "     ¿EXISTE_SEÑAL_VERTICAL? ¿EXISTE_SEÑAL_HORIZONTAL?  \\\n",
            "0                        NaN                       NaN   \n",
            "1                        NaN                       NaN   \n",
            "2                        NaN                       NaN   \n",
            "3                        NaN                       NaN   \n",
            "4                        NaN                       NaN   \n",
            "...                      ...                       ...   \n",
            "6716                      NO                        SI   \n",
            "6717                     NaN                       NaN   \n",
            "6718                     NaN                       NaN   \n",
            "6719                     NaN                       NaN   \n",
            "6720                     NaN                       NaN   \n",
            "\n",
            "         CAUSA_FACTOR_PRINCIPAL  \\\n",
            "0        NO IDENTIFICA LA CAUSA   \n",
            "1     IMPRUDENCIA DEL CONDUCTOR   \n",
            "2        NO IDENTIFICA LA CAUSA   \n",
            "3     IMPRUDENCIA DEL CONDUCTOR   \n",
            "4     IMPRUDENCIA DEL CONDUCTOR   \n",
            "...                         ...   \n",
            "6716     IMPRUDENCIA DEL PEATON   \n",
            "6717     NO IDENTIFICA LA CAUSA   \n",
            "6718     IMPRUDENCIA DEL PEATON   \n",
            "6719  IMPRUDENCIA DEL CONDUCTOR   \n",
            "6720     IMPRUDENCIA DEL PEATON   \n",
            "\n",
            "                                     CAUSA_ESPECÍFICA CLASE_SINIESTRO  \n",
            "0                                                 NaN        DESPISTE  \n",
            "1     CONDUCIR EN ESTADO DE EBRIEDAD Y/O DROGADICCION        DESPISTE  \n",
            "2                                                 NaN  ATROPELLO FUGA  \n",
            "3                               GIRAR IMPRUDENTEMENTE          CHOQUE  \n",
            "4     CONDUCIR EN ESTADO DE EBRIEDAD Y/O DROGADICCION       ATROPELLO  \n",
            "...                                               ...             ...  \n",
            "6716                    OTRO (IMPRUDENCIA DEL PEATON)       ATROPELLO  \n",
            "6717                                              NaN       ATROPELLO  \n",
            "6718                    CRUCE INDEBIDO POR LA CALZADA       ATROPELLO  \n",
            "6719                              EXCESO DE VELOCIDAD        DESPISTE  \n",
            "6720                    CRUCE INDEBIDO POR LA CALZADA       ATROPELLO  \n",
            "\n",
            "[6721 rows x 20 columns]\n"
          ]
        }
      ]
    },
    {
      "cell_type": "code",
      "source": [
        "# Convertir valores de 'COD_CARRETERA' en nulos\n",
        "df_ONSV[\"COD_CARRETERA\"] = df_ONSV[\"COD_CARRETERA\"].replace(\n",
        "    [\"NO CORRESPONDE\", \"SIN CLASIFICAR\"],\n",
        "    np.nan\n",
        ")\n",
        "\n",
        "# Convertir valores de 'CAUSA_FACTOR_PRINCIPAL' en nulos\n",
        "df_ONSV[\"CAUSA_FACTOR_PRINCIPAL\"] = df_ONSV[\"CAUSA_FACTOR_PRINCIPAL\"].replace(\n",
        "    [\"NO IDENTIFICA LA CAUSA\"],\n",
        "    np.nan\n",
        ")"
      ],
      "metadata": {
        "id": "DshTjeLy_vXn"
      },
      "execution_count": 757,
      "outputs": []
    },
    {
      "cell_type": "code",
      "source": [
        "# Reporte inicial de nulos y porcentaje\n",
        "nulos= df_ONSV.isnull().sum()\n",
        "porcentaje_antes = (nulos / len(df_ONSV)) * 100\n",
        "\n",
        "reporte_antes = pd.DataFrame({\n",
        "    \"NULOS\": nulos,\n",
        "    \"PORCENTAJE (%)\": porcentaje_antes.round(2)\n",
        "})\n",
        "\n",
        "print(\"NULOS ANTES DE LIMPIAR:\\n\")\n",
        "print(reporte_antes)"
      ],
      "metadata": {
        "colab": {
          "base_uri": "https://localhost:8080/"
        },
        "id": "TXQ3Ltp69W3S",
        "outputId": "7e7f1606-ab1b-4a15-b5d8-c013bb493639"
      },
      "execution_count": 758,
      "outputs": [
        {
          "output_type": "stream",
          "name": "stdout",
          "text": [
            "NULOS ANTES DE LIMPIAR:\n",
            "\n",
            "                           NULOS  PORCENTAJE (%)\n",
            "FECHA_SINIESTRO                0            0.00\n",
            "HORA_SINIESTRO                 0            0.00\n",
            "CANTIDAD_DE_FALLECIDOS         0            0.00\n",
            "CANTIDAD_DE_LESIONADOS         0            0.00\n",
            "DEPARTAMENTO                   0            0.00\n",
            "PROVINCIA                      0            0.00\n",
            "DISTRITO                       0            0.00\n",
            "COD_CARRETERA               1687           25.10\n",
            "COORDENADAS_LATITUD            0            0.00\n",
            "COORDENADAS__LONGITUD          0            0.00\n",
            "TIPO_DE_VÍA                    0            0.00\n",
            "SUPERFICIE_DE_CALZADA        313            4.66\n",
            "CONDICIÓN_CLIMÁTICA          313            4.66\n",
            "RED_VIAL                       0            0.00\n",
            "ZONA                          22            0.33\n",
            "¿EXISTE_SEÑAL_VERTICAL?     5191           77.24\n",
            "¿EXISTE_SEÑAL_HORIZONTAL?   5191           77.24\n",
            "CAUSA_FACTOR_PRINCIPAL      3152           46.90\n",
            "CAUSA_ESPECÍFICA            3218           47.88\n",
            "CLASE_SINIESTRO                0            0.00\n"
          ]
        }
      ]
    },
    {
      "cell_type": "code",
      "source": [
        "df_ONSV = df_ONSV.drop(columns=['¿EXISTE_SEÑAL_VERTICAL?', '¿EXISTE_SEÑAL_HORIZONTAL?'])"
      ],
      "metadata": {
        "id": "HR6uxTM_-7kC"
      },
      "execution_count": 759,
      "outputs": []
    },
    {
      "cell_type": "code",
      "source": [
        "df_ONSV = df_ONSV.drop(columns=['CAUSA_FACTOR_PRINCIPAL', 'CAUSA_ESPECÍFICA'])"
      ],
      "metadata": {
        "id": "j7eqPpozgmua"
      },
      "execution_count": 760,
      "outputs": []
    },
    {
      "cell_type": "code",
      "source": [
        "# Reporte final de nulos y porcentaje\n",
        "nulos= df_ONSV.isnull().sum()\n",
        "porcentaje = (nulos / len(df_ONSV)) * 100\n",
        "\n",
        "reporte_despues = pd.DataFrame({\n",
        "    \"NULOS\": nulos,\n",
        "    \"PORCENTAJE (%)\": porcentaje.round(2)\n",
        "})\n",
        "\n",
        "print(\"NULOS DESPUES DE LIMPIAR:\\n\")\n",
        "print(reporte_despues)"
      ],
      "metadata": {
        "colab": {
          "base_uri": "https://localhost:8080/"
        },
        "id": "37sWkq9N_NQS",
        "outputId": "ab498298-1ca0-4841-c946-79f8a9121920"
      },
      "execution_count": 761,
      "outputs": [
        {
          "output_type": "stream",
          "name": "stdout",
          "text": [
            "NULOS DESPUES DE LIMPIAR:\n",
            "\n",
            "                        NULOS  PORCENTAJE (%)\n",
            "FECHA_SINIESTRO             0            0.00\n",
            "HORA_SINIESTRO              0            0.00\n",
            "CANTIDAD_DE_FALLECIDOS      0            0.00\n",
            "CANTIDAD_DE_LESIONADOS      0            0.00\n",
            "DEPARTAMENTO                0            0.00\n",
            "PROVINCIA                   0            0.00\n",
            "DISTRITO                    0            0.00\n",
            "COD_CARRETERA            1687           25.10\n",
            "COORDENADAS_LATITUD         0            0.00\n",
            "COORDENADAS__LONGITUD       0            0.00\n",
            "TIPO_DE_VÍA                 0            0.00\n",
            "SUPERFICIE_DE_CALZADA     313            4.66\n",
            "CONDICIÓN_CLIMÁTICA       313            4.66\n",
            "RED_VIAL                    0            0.00\n",
            "ZONA                       22            0.33\n",
            "CLASE_SINIESTRO             0            0.00\n"
          ]
        }
      ]
    },
    {
      "cell_type": "code",
      "source": [
        "print(df_ONSV.head())"
      ],
      "metadata": {
        "colab": {
          "base_uri": "https://localhost:8080/"
        },
        "id": "WVi07VDV_hPT",
        "outputId": "01f4874e-9a71-4f8c-a28b-99f632d57466"
      },
      "execution_count": 762,
      "outputs": [
        {
          "output_type": "stream",
          "name": "stdout",
          "text": [
            "  FECHA_SINIESTRO HORA_SINIESTRO  CANTIDAD_DE_FALLECIDOS  \\\n",
            "0      01/01/2021          04:40                       1   \n",
            "1      01/01/2021          05:45                       1   \n",
            "2      01/01/2021          06:00                       2   \n",
            "3      01/01/2021          07:00                       1   \n",
            "4      01/01/2021          14:00                       1   \n",
            "\n",
            "   CANTIDAD_DE_LESIONADOS DEPARTAMENTO PROVINCIA                 DISTRITO  \\\n",
            "0                       0         LIMA    HUARAL                   HUARAL   \n",
            "1                       3         LIMA      LIMA               PACHACAMAC   \n",
            "2                       0  LA LIBERTAD      VIRU                     VIRU   \n",
            "3                       0  LA LIBERTAD      VIRU                     VIRU   \n",
            "4                       1         LIMA      LIMA  VILLA MARIA DEL TRIUNFO   \n",
            "\n",
            "  COD_CARRETERA  COORDENADAS_LATITUD  COORDENADAS__LONGITUD TIPO_DE_VÍA  \\\n",
            "0        LM-671           -11.482879             -77.255547   CARRETERA   \n",
            "1           NaN           -12.229400             -76.859412     AVENIDA   \n",
            "2       LI-1150            -8.414865             -78.754544   CARRETERA   \n",
            "3         PE-1N            -8.432617             -78.772242   CARRETERA   \n",
            "4           NaN           -12.164406             -76.953426     AVENIDA   \n",
            "\n",
            "  SUPERFICIE_DE_CALZADA CONDICIÓN_CLIMÁTICA  RED_VIAL    ZONA CLASE_SINIESTRO  \n",
            "0                TROCHA           DESPEJADO   VECINAL   RURAL        DESPISTE  \n",
            "1             ASFALTADA           DESPEJADO    URBANO  URBANA        DESPISTE  \n",
            "2             ASFALTADA           DESPEJADO   VECINAL  URBANA  ATROPELLO FUGA  \n",
            "3             ASFALTADA           DESPEJADO  NACIONAL   RURAL          CHOQUE  \n",
            "4             ASFALTADA           DESPEJADO    URBANO  URBANA       ATROPELLO  \n"
          ]
        }
      ]
    },
    {
      "cell_type": "code",
      "source": [
        "df_sutran  = pd.read_csv(\n",
        "    \"Accidentes de transito en carreteras-2020-2021-Sutran.csv\",\n",
        "    sep=\";\",\n",
        "    encoding=\"latin1\"\n",
        ")\n",
        "print(\"Columnas:\")\n",
        "print(df_sutran .columns.tolist())\n",
        "print(df_sutran)"
      ],
      "metadata": {
        "colab": {
          "base_uri": "https://localhost:8080/"
        },
        "id": "fbjnAPrfCllk",
        "outputId": "2be6c267-50dc-4c3f-c006-ef2b3278fad2"
      },
      "execution_count": 763,
      "outputs": [
        {
          "output_type": "stream",
          "name": "stdout",
          "text": [
            "Columnas:\n",
            "['FECHA_CORTE', 'FECHA', 'HORA', 'DEPARTAMENTO', 'CODIGO_VÍA', 'KILOMETRO', 'MODALIDAD', 'FALLECIDOS', 'HERIDOS']\n",
            "      FECHA_CORTE     FECHA   HORA   DEPARTAMENTO CODIGO_VÍA KILOMETRO  \\\n",
            "0        20211222  20200101  05:40           LIMA      PE-1S        24   \n",
            "1        20211222  20200101  16:30      CAJAMARCA      PE-3N        74   \n",
            "2        20211222  20200101  07:45          PASCO      PE-3N       103   \n",
            "3        20211222  20200101  18:30      CAJAMARCA      PE-08       111   \n",
            "4        20211222  20200101  18:40           LIMA      PE-1N       174   \n",
            "...           ...       ...    ...            ...        ...       ...   \n",
            "8150     20211222  20210930  01:30         ANCASH      PE-1N       348   \n",
            "8151     20211222  20210930  04:00  MADRE DE DIOS     PE-30C       417   \n",
            "8152     20211222  20210930  15:10    LA LIBERTAD      PE-1N       627   \n",
            "8153     20211222  20210930  02:50     LAMBAYEQUE      PE-1N       758   \n",
            "8154     20211222  20210930  18:47           PUNO      PE-3S      1296   \n",
            "\n",
            "     MODALIDAD FALLECIDOS HERIDOS  \n",
            "0     DESPISTE          0       0  \n",
            "1     DESPISTE          0       0  \n",
            "2     DESPISTE          0       1  \n",
            "3     DESPISTE          0       2  \n",
            "4     DESPISTE          0       5  \n",
            "...        ...        ...     ...  \n",
            "8150    CHOQUE          0       0  \n",
            "8151    CHOQUE          0       0  \n",
            "8152    CHOQUE          0       2  \n",
            "8153  DESPISTE          0       0  \n",
            "8154    CHOQUE          1       0  \n",
            "\n",
            "[8155 rows x 9 columns]\n"
          ]
        }
      ]
    },
    {
      "cell_type": "code",
      "source": [
        "# 1. Eliminar columna que no se necesita\n",
        "df_sutran  = df_sutran .drop(columns=[\"FECHA_CORTE\"], errors=\"ignore\")\n",
        "\n",
        "# 2. Renombrar columnas para consistencia\n",
        "df_sutran  = df_sutran .rename(columns={\n",
        "    \"CODIGO_VÍA\": \"CODIGO_VIA\",\n",
        "    \"FALLECIDOS\": \"NUM_FALLECIDOS\",\n",
        "    \"HERIDOS\": \"NUM_HERIDOS\"\n",
        "})\n",
        "\n",
        "# 3. Reemplazar valores \"N.I.\" o vacíos por NaN\n",
        "df_sutran  = df_sutran .replace([\"N.I.\", \"N.I\", \"NI\", \"\", \" \", None], np.nan)"
      ],
      "metadata": {
        "id": "rMQh5MM5B_6y"
      },
      "execution_count": 764,
      "outputs": []
    },
    {
      "cell_type": "code",
      "source": [
        "# Asegurar que FECHA es string\n",
        "df_sutran [\"FECHA\"] = df_sutran [\"FECHA\"].astype(str)\n",
        "\n",
        "# Convertir a datetime y luego al formato deseado\n",
        "df_sutran [\"FECHA\"] = pd.to_datetime(df_sutran [\"FECHA\"], format=\"%Y%m%d\", errors=\"coerce\")\n",
        "df_sutran [\"FECHA\"] = df_sutran [\"FECHA\"].dt.strftime(\"%d/%m/%Y\")"
      ],
      "metadata": {
        "id": "EtyJHF2vFpDY"
      },
      "execution_count": 765,
      "outputs": []
    },
    {
      "cell_type": "code",
      "source": [
        "df_sutran [\"NUM_FALLECIDOS\"] = pd.to_numeric(df_sutran [\"NUM_FALLECIDOS\"], errors=\"coerce\")\n",
        "df_sutran [\"NUM_HERIDOS\"] = pd.to_numeric(df_sutran [\"NUM_HERIDOS\"], errors=\"coerce\")\n",
        "df_sutran [\"KILOMETRO\"] = pd.to_numeric(df_sutran [\"KILOMETRO\"], errors=\"coerce\")\n",
        "print(\"Primeras filas:\")\n",
        "print(df_sutran .head())"
      ],
      "metadata": {
        "colab": {
          "base_uri": "https://localhost:8080/"
        },
        "id": "ebkgjym3DqWY",
        "outputId": "0135f7f7-4b42-417f-f0ee-f7ce140a6ad1"
      },
      "execution_count": 766,
      "outputs": [
        {
          "output_type": "stream",
          "name": "stdout",
          "text": [
            "Primeras filas:\n",
            "        FECHA   HORA DEPARTAMENTO CODIGO_VIA  KILOMETRO MODALIDAD  \\\n",
            "0  01/01/2020  05:40         LIMA      PE-1S       24.0  DESPISTE   \n",
            "1  01/01/2020  16:30    CAJAMARCA      PE-3N       74.0  DESPISTE   \n",
            "2  01/01/2020  07:45        PASCO      PE-3N      103.0  DESPISTE   \n",
            "3  01/01/2020  18:30    CAJAMARCA      PE-08      111.0  DESPISTE   \n",
            "4  01/01/2020  18:40         LIMA      PE-1N      174.0  DESPISTE   \n",
            "\n",
            "   NUM_FALLECIDOS  NUM_HERIDOS  \n",
            "0             0.0          0.0  \n",
            "1             0.0          0.0  \n",
            "2             0.0          1.0  \n",
            "3             0.0          2.0  \n",
            "4             0.0          5.0  \n"
          ]
        }
      ]
    },
    {
      "cell_type": "code",
      "source": [
        "def normalizar_texto(txt):\n",
        "    if isinstance(txt, str):\n",
        "        txt = txt.strip().upper()\n",
        "        return unicodedata.normalize(\"NFKD\", txt).encode(\"ascii\", \"ignore\").decode(\"utf-8\")\n",
        "    return txt\n",
        "\n",
        "df_sutran [\"DEPARTAMENTO\"] = df_sutran [\"DEPARTAMENTO\"].apply(normalizar_texto)\n",
        "df_sutran [\"MODALIDAD\"] = df_sutran [\"MODALIDAD\"].apply(normalizar_texto)\n",
        "df_sutran [\"CODIGO_VIA\"] = df_sutran [\"CODIGO_VIA\"].astype(str).str.strip().str.upper()"
      ],
      "metadata": {
        "id": "X3bhu3wxEPZj"
      },
      "execution_count": 767,
      "outputs": []
    },
    {
      "cell_type": "code",
      "source": [
        "print(\"Nulos por columna:\")\n",
        "print(df_sutran .isnull().sum())"
      ],
      "metadata": {
        "colab": {
          "base_uri": "https://localhost:8080/"
        },
        "id": "KeeHTr5fEV90",
        "outputId": "c54b67e4-f481-408f-ee7b-8ee6f9ad5cfe"
      },
      "execution_count": 768,
      "outputs": [
        {
          "output_type": "stream",
          "name": "stdout",
          "text": [
            "Nulos por columna:\n",
            "FECHA              0\n",
            "HORA              88\n",
            "DEPARTAMENTO       7\n",
            "CODIGO_VIA         0\n",
            "KILOMETRO         45\n",
            "MODALIDAD         28\n",
            "NUM_FALLECIDOS     3\n",
            "NUM_HERIDOS       10\n",
            "dtype: int64\n"
          ]
        }
      ]
    },
    {
      "cell_type": "code",
      "source": [
        "print(\"\\nPrimeras filas del Dataset 3 limpio:\")\n",
        "print(df_sutran)"
      ],
      "metadata": {
        "colab": {
          "base_uri": "https://localhost:8080/"
        },
        "id": "g6vljaQZEcBJ",
        "outputId": "e99bfad7-f311-47b8-c7fe-2c2ec65bf039"
      },
      "execution_count": 769,
      "outputs": [
        {
          "output_type": "stream",
          "name": "stdout",
          "text": [
            "\n",
            "Primeras filas del Dataset 3 limpio:\n",
            "           FECHA   HORA   DEPARTAMENTO CODIGO_VIA  KILOMETRO MODALIDAD  \\\n",
            "0     01/01/2020  05:40           LIMA      PE-1S       24.0  DESPISTE   \n",
            "1     01/01/2020  16:30      CAJAMARCA      PE-3N       74.0  DESPISTE   \n",
            "2     01/01/2020  07:45          PASCO      PE-3N      103.0  DESPISTE   \n",
            "3     01/01/2020  18:30      CAJAMARCA      PE-08      111.0  DESPISTE   \n",
            "4     01/01/2020  18:40           LIMA      PE-1N      174.0  DESPISTE   \n",
            "...          ...    ...            ...        ...        ...       ...   \n",
            "8150  30/09/2021  01:30         ANCASH      PE-1N      348.0    CHOQUE   \n",
            "8151  30/09/2021  04:00  MADRE DE DIOS     PE-30C      417.0    CHOQUE   \n",
            "8152  30/09/2021  15:10    LA LIBERTAD      PE-1N      627.0    CHOQUE   \n",
            "8153  30/09/2021  02:50     LAMBAYEQUE      PE-1N      758.0  DESPISTE   \n",
            "8154  30/09/2021  18:47           PUNO      PE-3S     1296.0    CHOQUE   \n",
            "\n",
            "      NUM_FALLECIDOS  NUM_HERIDOS  \n",
            "0                0.0          0.0  \n",
            "1                0.0          0.0  \n",
            "2                0.0          1.0  \n",
            "3                0.0          2.0  \n",
            "4                0.0          5.0  \n",
            "...              ...          ...  \n",
            "8150             0.0          0.0  \n",
            "8151             0.0          0.0  \n",
            "8152             0.0          2.0  \n",
            "8153             0.0          0.0  \n",
            "8154             1.0          0.0  \n",
            "\n",
            "[8155 rows x 8 columns]\n"
          ]
        }
      ]
    },
    {
      "cell_type": "markdown",
      "source": [
        "Integración"
      ],
      "metadata": {
        "id": "68NJKwvWGFZ4"
      }
    },
    {
      "cell_type": "code",
      "source": [
        "print(\"Columnals df_RedVial\",df_RedVial.columns.tolist())\n"
      ],
      "metadata": {
        "colab": {
          "base_uri": "https://localhost:8080/"
        },
        "id": "UAOO0_eDdyq1",
        "outputId": "caa888ca-5ea2-4674-b711-667c81338b57"
      },
      "execution_count": 770,
      "outputs": [
        {
          "output_type": "stream",
          "name": "stdout",
          "text": [
            "Columnals df_RedVial ['CODRUTA', 'INICIO', 'FINAL', 'LONGITUD', 'NROCARRIL', 'SUPERFICIE_L', 'DEPARTAMENTO', 'JERARQUIA']\n"
          ]
        }
      ]
    },
    {
      "cell_type": "code",
      "source": [
        "print(\"Columnals df_ONSV\",df_ONSV.columns.tolist())\n"
      ],
      "metadata": {
        "colab": {
          "base_uri": "https://localhost:8080/"
        },
        "id": "RAn6qz5Gd54y",
        "outputId": "2239e958-bd91-4f16-f6c4-376b7c954b23"
      },
      "execution_count": 771,
      "outputs": [
        {
          "output_type": "stream",
          "name": "stdout",
          "text": [
            "Columnals df_ONSV ['FECHA_SINIESTRO', 'HORA_SINIESTRO', 'CANTIDAD_DE_FALLECIDOS', 'CANTIDAD_DE_LESIONADOS', 'DEPARTAMENTO', 'PROVINCIA', 'DISTRITO', 'COD_CARRETERA', 'COORDENADAS_LATITUD', 'COORDENADAS__LONGITUD', 'TIPO_DE_VÍA', 'SUPERFICIE_DE_CALZADA', 'CONDICIÓN_CLIMÁTICA', 'RED_VIAL', 'ZONA', 'CLASE_SINIESTRO']\n"
          ]
        }
      ]
    },
    {
      "cell_type": "code",
      "source": [
        "print(\"Columnals df_sutran\",df_sutran.columns.tolist())\n"
      ],
      "metadata": {
        "colab": {
          "base_uri": "https://localhost:8080/"
        },
        "id": "dxbVTE_Gd6M2",
        "outputId": "0ce40089-e80a-4ecf-d400-6db5d79c03b5"
      },
      "execution_count": 772,
      "outputs": [
        {
          "output_type": "stream",
          "name": "stdout",
          "text": [
            "Columnals df_sutran ['FECHA', 'HORA', 'DEPARTAMENTO', 'CODIGO_VIA', 'KILOMETRO', 'MODALIDAD', 'NUM_FALLECIDOS', 'NUM_HERIDOS']\n"
          ]
        }
      ]
    },
    {
      "cell_type": "code",
      "source": [
        "# Red Vial\n",
        "df_RedVial = df_RedVial.rename(columns={\n",
        "    \"CODIGO_RUTA\": \"CODRUTA\",\n",
        "    \"NRO_CARRILES\": \"NROCARRIL\",\n",
        "    \"ESTADO_L\": \"ESTADO_VIA\",\n",
        "    \"SUPERFICIE_L\": \"SUPERFICIE\"\n",
        "})\n",
        "\n",
        "# ONSV\n",
        "df_ONSV = df_ONSV.rename(columns={\n",
        "    \"COD_CARRETERA\": \"CODRUTA\",\n",
        "    \"HORA_SINIESTRO\": \"HORA\",\n",
        "    \"FECHA_SINIESTRO\": \"FECHA\",\n",
        "    \"CANTIDAD DE FALLECIDOS\": \"CANTIDAD_DE_FALLECIDOS\",\n",
        "    \"CANTIDAD DE LESIONADOS\": \"CANTIDAD_DE_LESIONADOS\",\n",
        "    \"CLASE SINIESTRO\": \"MODALIDAD\",\n",
        "    \"CLASE_SINIESTRO\": \"MODALIDAD\",\n",
        "    \"SUPERFICIE_DE_CALZADA\": \"SUPERFICIE\",\n",
        "    \"CONDICIÓN_CLIMÁTICA\": \"CONDICION_CLIMATICA\",\n",
        "    \"RED_VIAL\":\"JERARQUIA\"\n",
        "})\n",
        "\n",
        "# SUTRAN\n",
        "df_sutran = df_sutran.rename(columns={\n",
        "    \"CODIGO_VIA\": \"CODRUTA\",\n",
        "    \"NUM_FALLECIDOS\": \"CANTIDAD_DE_FALLECIDOS\",\n",
        "    \"NUM_HERIDOS\": \"CANTIDAD_DE_LESIONADOS\"\n",
        "})\n"
      ],
      "metadata": {
        "id": "W_dyudlnkvXY"
      },
      "execution_count": 773,
      "outputs": []
    },
    {
      "cell_type": "code",
      "source": [
        "columnas_comunes_onsv = [\n",
        "    \"FECHA\", \"HORA\", \"CANTIDAD_DE_FALLECIDOS\",\"CANTIDAD_DE_LESIONADOS\", \"DEPARTAMENTO\",\n",
        "    \"CODRUTA\", \"MODALIDAD\", \"CONDICION_CLIMATICA\",\"JERARQUIA\",\"SUPERFICIE\"\n",
        "]\n",
        "\n",
        "columnas_comunes_sutran = [\n",
        "    \"FECHA\", \"HORA\", \"CANTIDAD_DE_FALLECIDOS\",\"CANTIDAD_DE_LESIONADOS\",\"DEPARTAMENTO\",\n",
        "    \"CODRUTA\", \"MODALIDAD\",\n",
        "]\n",
        "\n",
        "df_onsv_sel = df_ONSV[columnas_comunes_onsv].copy()\n",
        "df_sutran_sel = df_sutran[columnas_comunes_sutran].copy()\n",
        "\n",
        "# Eliminar registros sin CODRUTA\n",
        "df_sutran_sel[\"CODRUTA\"] = df_sutran_sel[\"CODRUTA\"].replace([\"NAN\", \"nan\", \" NaN \", \" NA \", \"N.A.\"], np.nan)\n",
        "df_sutran_sel = df_sutran_sel[df_sutran_sel[\"CODRUTA\"].notna()]\n",
        "\n",
        "df_onsv_sel = df_onsv_sel[df_onsv_sel[\"CODRUTA\"].notna()]"
      ],
      "metadata": {
        "id": "3SczxJs7eWxm"
      },
      "execution_count": 774,
      "outputs": []
    },
    {
      "cell_type": "code",
      "source": [
        "# Asegúrate de eliminar duplicados para que cada CODRUTA tenga solo un DEPARTAMENTO asociado\n",
        "codruta_departamento = df_sutran[['CODRUTA', 'DEPARTAMENTO']].drop_duplicates()\n",
        "\n",
        "# Eliminar valores nulos si hay\n",
        "codruta_departamento = codruta_departamento.dropna()\n",
        "\n",
        "# Crear diccionario\n",
        "mapa_codruta_departamento = dict(zip(codruta_departamento['CODRUTA'], codruta_departamento['DEPARTAMENTO']))\n",
        "\n",
        "# Mostrar ejemplo\n",
        "print(\"Ejemplo del mapa:\", dict(list(mapa_codruta_departamento.items())[:10]))\n"
      ],
      "metadata": {
        "colab": {
          "base_uri": "https://localhost:8080/"
        },
        "id": "BxcxzJmvPuIw",
        "outputId": "35c76d40-d3a6-4b76-b74f-4fce9c62c649"
      },
      "execution_count": 775,
      "outputs": [
        {
          "output_type": "stream",
          "name": "stdout",
          "text": [
            "Ejemplo del mapa: {'PE-1S': 'JUNIN', 'PE-3N': 'AREQUIPA', 'PE-08': 'LA LIBERTAD', 'PE-1N': 'CAJAMARCA', 'PE-5N': 'PASCO', 'PE-1SJ': 'ICA', 'PE-1SD': 'MOQUEGUA', 'PE-34J': 'CUSCO', 'PE-34E': 'CUSCO', 'PE-34A': 'AYACUCHO'}\n"
          ]
        }
      ]
    },
    {
      "cell_type": "code",
      "source": [
        "# Completar campos faltantes\n",
        "df_sutran_sel[\"CONDICION_CLIMATICA\"] = np.nan\n",
        "df_sutran_sel[\"CANTIDAD_DE_FALLECIDOS\"] = df_sutran_sel[\"CANTIDAD_DE_FALLECIDOS\"].fillna(0)\n",
        "df_sutran_sel[\"CANTIDAD_DE_LESIONADOS\"] = df_sutran_sel[\"CANTIDAD_DE_LESIONADOS\"].fillna(0)\n",
        "df_sutran_sel[\"MODALIDAD\"] = df_sutran_sel[\"MODALIDAD\"].fillna(\"NO IDENTIFICADA\")\n",
        "\n",
        "# Rellenar DEPARTAMENTO usando Red Vial\n",
        "mapa_departamento = df_RedVial.set_index(\"CODRUTA\")[\"DEPARTAMENTO\"].to_dict()\n",
        "df_sutran_sel[\"DEPARTAMENTO\"] = df_sutran_sel.apply(\n",
        "    lambda row: mapa_departamento.get(row[\"CODRUTA\"], row[\"DEPARTAMENTO\"]),\n",
        "    axis=1\n",
        ")"
      ],
      "metadata": {
        "id": "ZjINkoQpLeGX"
      },
      "execution_count": 776,
      "outputs": []
    },
    {
      "cell_type": "code",
      "source": [
        "print(df_onsv_sel)"
      ],
      "metadata": {
        "colab": {
          "base_uri": "https://localhost:8080/"
        },
        "id": "GTplDSbbjUD1",
        "outputId": "1e6cb3d8-9944-49f6-d604-5a0e77ac2fff"
      },
      "execution_count": 777,
      "outputs": [
        {
          "output_type": "stream",
          "name": "stdout",
          "text": [
            "           FECHA   HORA  CANTIDAD_DE_FALLECIDOS  CANTIDAD_DE_LESIONADOS  \\\n",
            "0     01/01/2021  04:40                       1                       0   \n",
            "2     01/01/2021  06:00                       2                       0   \n",
            "3     01/01/2021  07:00                       1                       0   \n",
            "6     01/01/2021  21:00                       1                       0   \n",
            "7     01/01/2022  04:30                       1                       1   \n",
            "...          ...    ...                     ...                     ...   \n",
            "6714  31/12/2022  23:15                       1                       0   \n",
            "6715  31/12/2022  23:15                       1                       0   \n",
            "6716  31/12/2023  11:57                       1                       0   \n",
            "6717  31/12/2023  17:00                       1                       0   \n",
            "6719  31/12/2023  19:15                       1                       3   \n",
            "\n",
            "     DEPARTAMENTO  CODRUTA               MODALIDAD CONDICION_CLIMATICA  \\\n",
            "0            LIMA   LM-671                DESPISTE           DESPEJADO   \n",
            "2     LA LIBERTAD  LI-1150          ATROPELLO FUGA           DESPEJADO   \n",
            "3     LA LIBERTAD    PE-1N                  CHOQUE           DESPEJADO   \n",
            "6      LAMBAYEQUE    PE-1N  CHOQUE CON OBJETO FIJO           DESPEJADO   \n",
            "7           CUSCO   PE-34F                  CHOQUE             NUBLADO   \n",
            "...           ...      ...                     ...                 ...   \n",
            "6714         LIMA    PE-1N          ATROPELLO FUGA                 NaN   \n",
            "6715         LIMA    PE-1N          ATROPELLO FUGA           DESPEJADO   \n",
            "6716        JUNIN    PE-3S               ATROPELLO           DESPEJADO   \n",
            "6717  LA LIBERTAD    PE-1N               ATROPELLO           DESPEJADO   \n",
            "6719         PUNO    PE-3S                DESPISTE           DESPEJADO   \n",
            "\n",
            "     JERARQUIA SUPERFICIE  \n",
            "0      VECINAL     TROCHA  \n",
            "2      VECINAL  ASFALTADA  \n",
            "3     NACIONAL  ASFALTADA  \n",
            "6     NACIONAL  ASFALTADA  \n",
            "7     NACIONAL  ASFALTADA  \n",
            "...        ...        ...  \n",
            "6714  NACIONAL        NaN  \n",
            "6715  NACIONAL  ASFALTADA  \n",
            "6716  NACIONAL  ASFALTADA  \n",
            "6717  NACIONAL  ASFALTADA  \n",
            "6719  NACIONAL  ASFALTADA  \n",
            "\n",
            "[5034 rows x 10 columns]\n"
          ]
        }
      ]
    },
    {
      "cell_type": "code",
      "source": [
        "# Hacer merge manteniendo el departamento del siniestro, no el del tramo vial\n",
        "df_sutran_completo = df_sutran_sel.merge(df_RedVial, on=[\"CODRUTA\", \"DEPARTAMENTO\"], how=\"right\", suffixes=('', '_RV'))\n",
        "\n",
        "# Eliminar la columna DEPARTAMENTO_RV porque queremos usar solo el del siniestro\n",
        "if \"DEPARTAMENTO_RV\" in df_sutran_completo.columns:\n",
        "    df_sutran_completo = df_sutran_completo.drop(columns=[\"DEPARTAMENTO_RV\"])\n",
        "\n"
      ],
      "metadata": {
        "id": "83VzkA-KLgv5"
      },
      "execution_count": 778,
      "outputs": []
    },
    {
      "cell_type": "code",
      "source": [
        "print(df_sutran_completo)"
      ],
      "metadata": {
        "colab": {
          "base_uri": "https://localhost:8080/"
        },
        "id": "HAUzhZoEwu2J",
        "outputId": "c700bb26-cb44-4445-efab-5b09ac7fd2a4"
      },
      "execution_count": 779,
      "outputs": [
        {
          "output_type": "stream",
          "name": "stdout",
          "text": [
            "            FECHA   HORA  CANTIDAD_DE_FALLECIDOS  CANTIDAD_DE_LESIONADOS  \\\n",
            "0      03/02/2020  19:30                     0.0                     2.0   \n",
            "1      17/08/2020  18:00                     0.0                     0.0   \n",
            "2      25/08/2020  06:34                     0.0                     1.0   \n",
            "3      20/09/2020  23:30                     2.0                     0.0   \n",
            "4      14/10/2020  18:50                     0.0                     2.0   \n",
            "...           ...    ...                     ...                     ...   \n",
            "57943  21/09/2021  11:00                     0.0                     4.0   \n",
            "57944  22/09/2021  09:40                     0.0                     0.0   \n",
            "57945  24/09/2021  10:40                     0.0                     0.0   \n",
            "57946  20/04/2021  18:30                     0.0                     1.0   \n",
            "57947  27/05/2021  19:00                     0.0                     1.0   \n",
            "\n",
            "      DEPARTAMENTO CODRUTA MODALIDAD  CONDICION_CLIMATICA   INICIO    FINAL  \\\n",
            "0            PIURA   PE-02  DESPISTE                  NaN    0.000   49.058   \n",
            "1            PIURA   PE-02  DESPISTE                  NaN    0.000   49.058   \n",
            "2            PIURA   PE-02  DESPISTE                  NaN    0.000   49.058   \n",
            "3            PIURA   PE-02    CHOQUE                  NaN    0.000   49.058   \n",
            "4            PIURA   PE-02    CHOQUE                  NaN    0.000   49.058   \n",
            "...            ...     ...       ...                  ...      ...      ...   \n",
            "57943        JUNIN   PE-5S  DESPISTE                  NaN  174.922  194.489   \n",
            "57944        JUNIN   PE-5S    CHOQUE                  NaN  174.922  194.489   \n",
            "57945        JUNIN   PE-5S    CHOQUE                  NaN  174.922  194.489   \n",
            "57946        JUNIN  PE-5SA  DESPISTE                  NaN    0.000   24.164   \n",
            "57947        JUNIN  PE-5SA    CHOQUE                  NaN    0.000   24.164   \n",
            "\n",
            "       LONGITUD  NROCARRIL   SUPERFICIE JERARQUIA  \n",
            "0       147.174          2  PAVIMENTADO        RN  \n",
            "1       147.174          2  PAVIMENTADO        RN  \n",
            "2       147.174          2  PAVIMENTADO        RN  \n",
            "3       147.174          2  PAVIMENTADO        RN  \n",
            "4       147.174          2  PAVIMENTADO        RN  \n",
            "...         ...        ...          ...       ...  \n",
            "57943    58.590          2     AFIRMADO        RN  \n",
            "57944    58.590          2     AFIRMADO        RN  \n",
            "57945    58.590          2     AFIRMADO        RN  \n",
            "57946    72.208          2     AFIRMADO        RN  \n",
            "57947    72.208          2     AFIRMADO        RN  \n",
            "\n",
            "[57948 rows x 14 columns]\n"
          ]
        }
      ]
    },
    {
      "cell_type": "code",
      "source": [
        "# Unificación general\n",
        "siniestros = pd.concat([df_sutran_completo], ignore_index=True)"
      ],
      "metadata": {
        "id": "b3wb_DRmv2-n"
      },
      "execution_count": 780,
      "outputs": []
    },
    {
      "cell_type": "code",
      "source": [
        "print(df_sutran_completo)"
      ],
      "metadata": {
        "colab": {
          "base_uri": "https://localhost:8080/"
        },
        "id": "OfBDPmWLt7fH",
        "outputId": "2d0aa8bf-a37e-41b3-c271-3df3cf6a235f"
      },
      "execution_count": 781,
      "outputs": [
        {
          "output_type": "stream",
          "name": "stdout",
          "text": [
            "            FECHA   HORA  CANTIDAD_DE_FALLECIDOS  CANTIDAD_DE_LESIONADOS  \\\n",
            "0      03/02/2020  19:30                     0.0                     2.0   \n",
            "1      17/08/2020  18:00                     0.0                     0.0   \n",
            "2      25/08/2020  06:34                     0.0                     1.0   \n",
            "3      20/09/2020  23:30                     2.0                     0.0   \n",
            "4      14/10/2020  18:50                     0.0                     2.0   \n",
            "...           ...    ...                     ...                     ...   \n",
            "57943  21/09/2021  11:00                     0.0                     4.0   \n",
            "57944  22/09/2021  09:40                     0.0                     0.0   \n",
            "57945  24/09/2021  10:40                     0.0                     0.0   \n",
            "57946  20/04/2021  18:30                     0.0                     1.0   \n",
            "57947  27/05/2021  19:00                     0.0                     1.0   \n",
            "\n",
            "      DEPARTAMENTO CODRUTA MODALIDAD  CONDICION_CLIMATICA   INICIO    FINAL  \\\n",
            "0            PIURA   PE-02  DESPISTE                  NaN    0.000   49.058   \n",
            "1            PIURA   PE-02  DESPISTE                  NaN    0.000   49.058   \n",
            "2            PIURA   PE-02  DESPISTE                  NaN    0.000   49.058   \n",
            "3            PIURA   PE-02    CHOQUE                  NaN    0.000   49.058   \n",
            "4            PIURA   PE-02    CHOQUE                  NaN    0.000   49.058   \n",
            "...            ...     ...       ...                  ...      ...      ...   \n",
            "57943        JUNIN   PE-5S  DESPISTE                  NaN  174.922  194.489   \n",
            "57944        JUNIN   PE-5S    CHOQUE                  NaN  174.922  194.489   \n",
            "57945        JUNIN   PE-5S    CHOQUE                  NaN  174.922  194.489   \n",
            "57946        JUNIN  PE-5SA  DESPISTE                  NaN    0.000   24.164   \n",
            "57947        JUNIN  PE-5SA    CHOQUE                  NaN    0.000   24.164   \n",
            "\n",
            "       LONGITUD  NROCARRIL   SUPERFICIE JERARQUIA  \n",
            "0       147.174          2  PAVIMENTADO        RN  \n",
            "1       147.174          2  PAVIMENTADO        RN  \n",
            "2       147.174          2  PAVIMENTADO        RN  \n",
            "3       147.174          2  PAVIMENTADO        RN  \n",
            "4       147.174          2  PAVIMENTADO        RN  \n",
            "...         ...        ...          ...       ...  \n",
            "57943    58.590          2     AFIRMADO        RN  \n",
            "57944    58.590          2     AFIRMADO        RN  \n",
            "57945    58.590          2     AFIRMADO        RN  \n",
            "57946    72.208          2     AFIRMADO        RN  \n",
            "57947    72.208          2     AFIRMADO        RN  \n",
            "\n",
            "[57948 rows x 14 columns]\n"
          ]
        }
      ]
    },
    {
      "cell_type": "code",
      "source": [
        "# Limpieza de tipos\n",
        "siniestros[\"CANTIDAD_DE_FALLECIDOS\"] = pd.to_numeric(siniestros[\"CANTIDAD_DE_FALLECIDOS\"], errors=\"coerce\")\n",
        "\n",
        "df_concat = pd.concat([df_onsv_sel, siniestros], axis=0, ignore_index=True)\n",
        "\n",
        "# Eliminar duplicados\n",
        "siniestros_unicos = df_concat.drop_duplicates(\n",
        "    subset=[\"CODRUTA\", \"FECHA\", \"HORA\", \"CANTIDAD_DE_FALLECIDOS\"]\n",
        ")"
      ],
      "metadata": {
        "id": "DrilM2dlLjeA"
      },
      "execution_count": 782,
      "outputs": []
    },
    {
      "cell_type": "code",
      "source": [
        "print(siniestros_unicos)"
      ],
      "metadata": {
        "colab": {
          "base_uri": "https://localhost:8080/"
        },
        "id": "S0ZoJhdKlImL",
        "outputId": "7887074c-b68c-4834-be7b-650407b4e236"
      },
      "execution_count": 783,
      "outputs": [
        {
          "output_type": "stream",
          "name": "stdout",
          "text": [
            "            FECHA   HORA  CANTIDAD_DE_FALLECIDOS  CANTIDAD_DE_LESIONADOS  \\\n",
            "0      01/01/2021  04:40                     1.0                     0.0   \n",
            "1      01/01/2021  06:00                     2.0                     0.0   \n",
            "2      01/01/2021  07:00                     1.0                     0.0   \n",
            "3      01/01/2021  21:00                     1.0                     0.0   \n",
            "4      01/01/2022  04:30                     1.0                     1.0   \n",
            "...           ...    ...                     ...                     ...   \n",
            "62672  21/09/2021  11:00                     0.0                     4.0   \n",
            "62673  22/09/2021  09:40                     0.0                     0.0   \n",
            "62674  24/09/2021  10:40                     0.0                     0.0   \n",
            "62980  20/04/2021  18:30                     0.0                     1.0   \n",
            "62981  27/05/2021  19:00                     0.0                     1.0   \n",
            "\n",
            "      DEPARTAMENTO  CODRUTA               MODALIDAD CONDICION_CLIMATICA  \\\n",
            "0             LIMA   LM-671                DESPISTE           DESPEJADO   \n",
            "1      LA LIBERTAD  LI-1150          ATROPELLO FUGA           DESPEJADO   \n",
            "2      LA LIBERTAD    PE-1N                  CHOQUE           DESPEJADO   \n",
            "3       LAMBAYEQUE    PE-1N  CHOQUE CON OBJETO FIJO           DESPEJADO   \n",
            "4            CUSCO   PE-34F                  CHOQUE             NUBLADO   \n",
            "...            ...      ...                     ...                 ...   \n",
            "62672        JUNIN    PE-5S                DESPISTE                 NaN   \n",
            "62673        JUNIN    PE-5S                  CHOQUE                 NaN   \n",
            "62674        JUNIN    PE-5S                  CHOQUE                 NaN   \n",
            "62980        JUNIN   PE-5SA                DESPISTE                 NaN   \n",
            "62981        JUNIN   PE-5SA                  CHOQUE                 NaN   \n",
            "\n",
            "      JERARQUIA   SUPERFICIE  INICIO   FINAL  LONGITUD  NROCARRIL  \n",
            "0       VECINAL       TROCHA     NaN     NaN       NaN        NaN  \n",
            "1       VECINAL    ASFALTADA     NaN     NaN       NaN        NaN  \n",
            "2      NACIONAL    ASFALTADA     NaN     NaN       NaN        NaN  \n",
            "3      NACIONAL    ASFALTADA     NaN     NaN       NaN        NaN  \n",
            "4      NACIONAL    ASFALTADA     NaN     NaN       NaN        NaN  \n",
            "...         ...          ...     ...     ...       ...        ...  \n",
            "62672        RN  PAVIMENTADO     0.0  58.784   176.352        2.0  \n",
            "62673        RN  PAVIMENTADO     0.0  58.784   176.352        2.0  \n",
            "62674        RN  PAVIMENTADO     0.0  58.784   176.352        2.0  \n",
            "62980        RN     AFIRMADO     0.0  24.164    72.208        2.0  \n",
            "62981        RN     AFIRMADO     0.0  24.164    72.208        2.0  \n",
            "\n",
            "[12724 rows x 14 columns]\n"
          ]
        }
      ]
    },
    {
      "cell_type": "code",
      "source": [
        "def es_noche(hora):\n",
        "    try:\n",
        "        if pd.isnull(hora): return False\n",
        "        hora_str = str(hora).strip()\n",
        "        h = int(hora_str.split(\":\")[0]) if \":\" in hora_str else int(hora_str[:2])\n",
        "        return h >= 19 or h < 6\n",
        "    except:\n",
        "        return False"
      ],
      "metadata": {
        "id": "b0c79qR0Lk89"
      },
      "execution_count": 784,
      "outputs": []
    },
    {
      "cell_type": "code",
      "source": [
        "# Asegurarse de que los campos booleanos están calculados\n",
        "siniestros_unicos = siniestros_unicos.copy()\n",
        "siniestros_unicos[\"es_noche\"] = siniestros_unicos[\"HORA\"].apply(es_noche)\n",
        "condiciones_peligrosas = [\"LLUVIOSO\", \"NIEBLA\"]\n",
        "siniestros_unicos[\"es_clima_peligroso\"] = siniestros_unicos[\"CONDICION_CLIMATICA\"].isin(condiciones_peligrosas)\n",
        "\n",
        "# Visualizar algunos registros\n",
        "print(siniestros_unicos)\n",
        "print(len(siniestros_unicos))\n"
      ],
      "metadata": {
        "colab": {
          "base_uri": "https://localhost:8080/"
        },
        "id": "bvP8yY8mWNWt",
        "outputId": "1fe56049-6e27-494b-e64e-ca6792cf6dfc"
      },
      "execution_count": 785,
      "outputs": [
        {
          "output_type": "stream",
          "name": "stdout",
          "text": [
            "            FECHA   HORA  CANTIDAD_DE_FALLECIDOS  CANTIDAD_DE_LESIONADOS  \\\n",
            "0      01/01/2021  04:40                     1.0                     0.0   \n",
            "1      01/01/2021  06:00                     2.0                     0.0   \n",
            "2      01/01/2021  07:00                     1.0                     0.0   \n",
            "3      01/01/2021  21:00                     1.0                     0.0   \n",
            "4      01/01/2022  04:30                     1.0                     1.0   \n",
            "...           ...    ...                     ...                     ...   \n",
            "62672  21/09/2021  11:00                     0.0                     4.0   \n",
            "62673  22/09/2021  09:40                     0.0                     0.0   \n",
            "62674  24/09/2021  10:40                     0.0                     0.0   \n",
            "62980  20/04/2021  18:30                     0.0                     1.0   \n",
            "62981  27/05/2021  19:00                     0.0                     1.0   \n",
            "\n",
            "      DEPARTAMENTO  CODRUTA               MODALIDAD CONDICION_CLIMATICA  \\\n",
            "0             LIMA   LM-671                DESPISTE           DESPEJADO   \n",
            "1      LA LIBERTAD  LI-1150          ATROPELLO FUGA           DESPEJADO   \n",
            "2      LA LIBERTAD    PE-1N                  CHOQUE           DESPEJADO   \n",
            "3       LAMBAYEQUE    PE-1N  CHOQUE CON OBJETO FIJO           DESPEJADO   \n",
            "4            CUSCO   PE-34F                  CHOQUE             NUBLADO   \n",
            "...            ...      ...                     ...                 ...   \n",
            "62672        JUNIN    PE-5S                DESPISTE                 NaN   \n",
            "62673        JUNIN    PE-5S                  CHOQUE                 NaN   \n",
            "62674        JUNIN    PE-5S                  CHOQUE                 NaN   \n",
            "62980        JUNIN   PE-5SA                DESPISTE                 NaN   \n",
            "62981        JUNIN   PE-5SA                  CHOQUE                 NaN   \n",
            "\n",
            "      JERARQUIA   SUPERFICIE  INICIO   FINAL  LONGITUD  NROCARRIL  es_noche  \\\n",
            "0       VECINAL       TROCHA     NaN     NaN       NaN        NaN      True   \n",
            "1       VECINAL    ASFALTADA     NaN     NaN       NaN        NaN     False   \n",
            "2      NACIONAL    ASFALTADA     NaN     NaN       NaN        NaN     False   \n",
            "3      NACIONAL    ASFALTADA     NaN     NaN       NaN        NaN      True   \n",
            "4      NACIONAL    ASFALTADA     NaN     NaN       NaN        NaN      True   \n",
            "...         ...          ...     ...     ...       ...        ...       ...   \n",
            "62672        RN  PAVIMENTADO     0.0  58.784   176.352        2.0     False   \n",
            "62673        RN  PAVIMENTADO     0.0  58.784   176.352        2.0     False   \n",
            "62674        RN  PAVIMENTADO     0.0  58.784   176.352        2.0     False   \n",
            "62980        RN     AFIRMADO     0.0  24.164    72.208        2.0     False   \n",
            "62981        RN     AFIRMADO     0.0  24.164    72.208        2.0      True   \n",
            "\n",
            "       es_clima_peligroso  \n",
            "0                   False  \n",
            "1                   False  \n",
            "2                   False  \n",
            "3                   False  \n",
            "4                   False  \n",
            "...                   ...  \n",
            "62672               False  \n",
            "62673               False  \n",
            "62674               False  \n",
            "62980               False  \n",
            "62981               False  \n",
            "\n",
            "[12724 rows x 16 columns]\n",
            "12724\n"
          ]
        }
      ]
    },
    {
      "cell_type": "code",
      "source": [
        "\n",
        "adicionales = siniestros_unicos.groupby(\"CODRUTA\").agg(\n",
        "    porcentaje_noche=(\"es_noche\", lambda x: round(100 * x.sum() / len(x), 2)),\n",
        ").reset_index()\n",
        "\n"
      ],
      "metadata": {
        "id": "8rb6Z_kdLmP7"
      },
      "execution_count": 786,
      "outputs": []
    },
    {
      "cell_type": "code",
      "source": [
        "resumen_completo = siniestros_unicos.merge(adicionales, on=\"CODRUTA\", how=\"left\")"
      ],
      "metadata": {
        "id": "1Rp6-KOSLob6"
      },
      "execution_count": 787,
      "outputs": []
    },
    {
      "cell_type": "code",
      "source": [
        "resumen_completo['FECHA'] = pd.to_datetime(resumen_completo['FECHA'], format='%d/%m/%Y', errors='coerce')\n",
        "resumen_completo[\"HORA\"] = resumen_completo[\"HORA\"].fillna(\"NO DISPONIBLE\")"
      ],
      "metadata": {
        "id": "gAhKk_VX8HQK"
      },
      "execution_count": 788,
      "outputs": []
    },
    {
      "cell_type": "code",
      "source": [
        "print(\"Tipos de datos por columna:\")\n",
        "print(resumen_completo.dtypes)\n",
        "print(resumen_completo.isnull().sum())\n",
        "print(resumen_completo)\n"
      ],
      "metadata": {
        "colab": {
          "base_uri": "https://localhost:8080/"
        },
        "id": "6StYiv7K0A9j",
        "outputId": "08fa7e81-6115-442c-c379-04c5132bbec1"
      },
      "execution_count": 789,
      "outputs": [
        {
          "output_type": "stream",
          "name": "stdout",
          "text": [
            "Tipos de datos por columna:\n",
            "FECHA                     datetime64[ns]\n",
            "HORA                              object\n",
            "CANTIDAD_DE_FALLECIDOS           float64\n",
            "CANTIDAD_DE_LESIONADOS           float64\n",
            "DEPARTAMENTO                      object\n",
            "CODRUTA                           object\n",
            "MODALIDAD                         object\n",
            "CONDICION_CLIMATICA               object\n",
            "JERARQUIA                         object\n",
            "SUPERFICIE                        object\n",
            "INICIO                           float64\n",
            "FINAL                            float64\n",
            "LONGITUD                         float64\n",
            "NROCARRIL                        float64\n",
            "es_noche                            bool\n",
            "es_clima_peligroso                  bool\n",
            "porcentaje_noche                 float64\n",
            "dtype: object\n",
            "FECHA                       58\n",
            "HORA                         0\n",
            "CANTIDAD_DE_FALLECIDOS      58\n",
            "CANTIDAD_DE_LESIONADOS      58\n",
            "DEPARTAMENTO                 0\n",
            "CODRUTA                      0\n",
            "MODALIDAD                   58\n",
            "CONDICION_CLIMATICA       7901\n",
            "JERARQUIA                    0\n",
            "SUPERFICIE                 205\n",
            "INICIO                    5028\n",
            "FINAL                     5028\n",
            "LONGITUD                  5028\n",
            "NROCARRIL                 5028\n",
            "es_noche                     0\n",
            "es_clima_peligroso           0\n",
            "porcentaje_noche             0\n",
            "dtype: int64\n",
            "           FECHA   HORA  CANTIDAD_DE_FALLECIDOS  CANTIDAD_DE_LESIONADOS  \\\n",
            "0     2021-01-01  04:40                     1.0                     0.0   \n",
            "1     2021-01-01  06:00                     2.0                     0.0   \n",
            "2     2021-01-01  07:00                     1.0                     0.0   \n",
            "3     2021-01-01  21:00                     1.0                     0.0   \n",
            "4     2022-01-01  04:30                     1.0                     1.0   \n",
            "...          ...    ...                     ...                     ...   \n",
            "12719 2021-09-21  11:00                     0.0                     4.0   \n",
            "12720 2021-09-22  09:40                     0.0                     0.0   \n",
            "12721 2021-09-24  10:40                     0.0                     0.0   \n",
            "12722 2021-04-20  18:30                     0.0                     1.0   \n",
            "12723 2021-05-27  19:00                     0.0                     1.0   \n",
            "\n",
            "      DEPARTAMENTO  CODRUTA               MODALIDAD CONDICION_CLIMATICA  \\\n",
            "0             LIMA   LM-671                DESPISTE           DESPEJADO   \n",
            "1      LA LIBERTAD  LI-1150          ATROPELLO FUGA           DESPEJADO   \n",
            "2      LA LIBERTAD    PE-1N                  CHOQUE           DESPEJADO   \n",
            "3       LAMBAYEQUE    PE-1N  CHOQUE CON OBJETO FIJO           DESPEJADO   \n",
            "4            CUSCO   PE-34F                  CHOQUE             NUBLADO   \n",
            "...            ...      ...                     ...                 ...   \n",
            "12719        JUNIN    PE-5S                DESPISTE                 NaN   \n",
            "12720        JUNIN    PE-5S                  CHOQUE                 NaN   \n",
            "12721        JUNIN    PE-5S                  CHOQUE                 NaN   \n",
            "12722        JUNIN   PE-5SA                DESPISTE                 NaN   \n",
            "12723        JUNIN   PE-5SA                  CHOQUE                 NaN   \n",
            "\n",
            "      JERARQUIA   SUPERFICIE  INICIO   FINAL  LONGITUD  NROCARRIL  es_noche  \\\n",
            "0       VECINAL       TROCHA     NaN     NaN       NaN        NaN      True   \n",
            "1       VECINAL    ASFALTADA     NaN     NaN       NaN        NaN     False   \n",
            "2      NACIONAL    ASFALTADA     NaN     NaN       NaN        NaN     False   \n",
            "3      NACIONAL    ASFALTADA     NaN     NaN       NaN        NaN      True   \n",
            "4      NACIONAL    ASFALTADA     NaN     NaN       NaN        NaN      True   \n",
            "...         ...          ...     ...     ...       ...        ...       ...   \n",
            "12719        RN  PAVIMENTADO     0.0  58.784   176.352        2.0     False   \n",
            "12720        RN  PAVIMENTADO     0.0  58.784   176.352        2.0     False   \n",
            "12721        RN  PAVIMENTADO     0.0  58.784   176.352        2.0     False   \n",
            "12722        RN     AFIRMADO     0.0  24.164    72.208        2.0     False   \n",
            "12723        RN     AFIRMADO     0.0  24.164    72.208        2.0      True   \n",
            "\n",
            "       es_clima_peligroso  porcentaje_noche  \n",
            "0                   False            100.00  \n",
            "1                   False             50.00  \n",
            "2                   False             45.75  \n",
            "3                   False             45.75  \n",
            "4                   False             41.67  \n",
            "...                   ...               ...  \n",
            "12719               False             44.33  \n",
            "12720               False             44.33  \n",
            "12721               False             44.33  \n",
            "12722               False             50.00  \n",
            "12723               False             50.00  \n",
            "\n",
            "[12724 rows x 17 columns]\n"
          ]
        }
      ]
    },
    {
      "cell_type": "code",
      "source": [
        "# Paso 1: Unir siniestros con variables adicionales\n",
        "resumen_completo = siniestros_unicos.merge(adicionales, on=\"CODRUTA\", how=\"left\")\n",
        "\n",
        "# Paso 2: Filtrar siniestros que ocurren en vías nacionales (las que están en df_RedVial)\n",
        "# Solo mantenemos los siniestros que tienen un CODRUTA + DEPARTAMENTO que existe en la red vial nacional\n",
        "\n",
        "\n",
        "# Paso 3: Rellenar nulos con valores por defecto\n",
        "resumen_completo[\"CANTIDAD_DE_FALLECIDOS\"] = resumen_completo[\"CANTIDAD_DE_FALLECIDOS\"].fillna(0).astype(int)\n",
        "resumen_completo[\"CANTIDAD_DE_HERIDOS\"] = resumen_completo.get(\"CANTIDAD_DE_HERIDOS\", 0)\n",
        "resumen_completo[\"CANTIDAD_DE_HERIDOS\"] = resumen_completo[\"CANTIDAD_DE_HERIDOS\"].fillna(0).astype(int)\n",
        "\n",
        "# Textos por defecto\n",
        "for col_texto in [\"tipo_accidente_mas_frec\", \"zona_mas_frec\", \"causa_mas_comun\"]:\n",
        "    if col_texto in resumen_completo.columns:\n",
        "        resumen_completo[col_texto] = resumen_completo[col_texto].fillna(\"NO IDENTIFICADO\")\n",
        "\n",
        "# Porcentajes por defecto\n",
        "for col_porc in [\"porcentaje_noche\", \"porcentaje_clima_peligroso\"]:\n",
        "    if col_porc in resumen_completo.columns:\n",
        "        resumen_completo[col_porc] = resumen_completo[col_porc].fillna(0.0)\n",
        "\n",
        "# Este es tu dataset final con todos los siniestros de vías nacionales\n",
        "dataset_final = resumen_completo.copy()\n"
      ],
      "metadata": {
        "id": "CpZ_k4D1MSg4"
      },
      "execution_count": 790,
      "outputs": []
    },
    {
      "cell_type": "code",
      "source": [
        "print(\"dataset_final\",dataset_final.columns.tolist())"
      ],
      "metadata": {
        "colab": {
          "base_uri": "https://localhost:8080/"
        },
        "id": "wzzufBwBrLhi",
        "outputId": "827e5d2d-bc12-47cc-da57-1c08ab49cdaa"
      },
      "execution_count": 791,
      "outputs": [
        {
          "output_type": "stream",
          "name": "stdout",
          "text": [
            "dataset_final ['FECHA', 'HORA', 'CANTIDAD_DE_FALLECIDOS', 'CANTIDAD_DE_LESIONADOS', 'DEPARTAMENTO', 'CODRUTA', 'MODALIDAD', 'CONDICION_CLIMATICA', 'JERARQUIA', 'SUPERFICIE', 'INICIO', 'FINAL', 'LONGITUD', 'NROCARRIL', 'es_noche', 'es_clima_peligroso', 'porcentaje_noche', 'CANTIDAD_DE_HERIDOS']\n"
          ]
        }
      ]
    },
    {
      "cell_type": "code",
      "source": [
        "print(dataset_final)"
      ],
      "metadata": {
        "colab": {
          "base_uri": "https://localhost:8080/"
        },
        "id": "aEEdD9vIqh0O",
        "outputId": "c064cca8-b836-4e0c-b475-e9c867e0b861"
      },
      "execution_count": 792,
      "outputs": [
        {
          "output_type": "stream",
          "name": "stdout",
          "text": [
            "            FECHA   HORA  CANTIDAD_DE_FALLECIDOS  CANTIDAD_DE_LESIONADOS  \\\n",
            "0      01/01/2021  04:40                       1                     0.0   \n",
            "1      01/01/2021  06:00                       2                     0.0   \n",
            "2      01/01/2021  07:00                       1                     0.0   \n",
            "3      01/01/2021  21:00                       1                     0.0   \n",
            "4      01/01/2022  04:30                       1                     1.0   \n",
            "...           ...    ...                     ...                     ...   \n",
            "12719  21/09/2021  11:00                       0                     4.0   \n",
            "12720  22/09/2021  09:40                       0                     0.0   \n",
            "12721  24/09/2021  10:40                       0                     0.0   \n",
            "12722  20/04/2021  18:30                       0                     1.0   \n",
            "12723  27/05/2021  19:00                       0                     1.0   \n",
            "\n",
            "      DEPARTAMENTO  CODRUTA               MODALIDAD CONDICION_CLIMATICA  \\\n",
            "0             LIMA   LM-671                DESPISTE           DESPEJADO   \n",
            "1      LA LIBERTAD  LI-1150          ATROPELLO FUGA           DESPEJADO   \n",
            "2      LA LIBERTAD    PE-1N                  CHOQUE           DESPEJADO   \n",
            "3       LAMBAYEQUE    PE-1N  CHOQUE CON OBJETO FIJO           DESPEJADO   \n",
            "4            CUSCO   PE-34F                  CHOQUE             NUBLADO   \n",
            "...            ...      ...                     ...                 ...   \n",
            "12719        JUNIN    PE-5S                DESPISTE                 NaN   \n",
            "12720        JUNIN    PE-5S                  CHOQUE                 NaN   \n",
            "12721        JUNIN    PE-5S                  CHOQUE                 NaN   \n",
            "12722        JUNIN   PE-5SA                DESPISTE                 NaN   \n",
            "12723        JUNIN   PE-5SA                  CHOQUE                 NaN   \n",
            "\n",
            "      JERARQUIA   SUPERFICIE  INICIO   FINAL  LONGITUD  NROCARRIL  es_noche  \\\n",
            "0       VECINAL       TROCHA     NaN     NaN       NaN        NaN      True   \n",
            "1       VECINAL    ASFALTADA     NaN     NaN       NaN        NaN     False   \n",
            "2      NACIONAL    ASFALTADA     NaN     NaN       NaN        NaN     False   \n",
            "3      NACIONAL    ASFALTADA     NaN     NaN       NaN        NaN      True   \n",
            "4      NACIONAL    ASFALTADA     NaN     NaN       NaN        NaN      True   \n",
            "...         ...          ...     ...     ...       ...        ...       ...   \n",
            "12719        RN  PAVIMENTADO     0.0  58.784   176.352        2.0     False   \n",
            "12720        RN  PAVIMENTADO     0.0  58.784   176.352        2.0     False   \n",
            "12721        RN  PAVIMENTADO     0.0  58.784   176.352        2.0     False   \n",
            "12722        RN     AFIRMADO     0.0  24.164    72.208        2.0     False   \n",
            "12723        RN     AFIRMADO     0.0  24.164    72.208        2.0      True   \n",
            "\n",
            "       es_clima_peligroso  porcentaje_noche  CANTIDAD_DE_HERIDOS  \n",
            "0                   False            100.00                    0  \n",
            "1                   False             50.00                    0  \n",
            "2                   False             45.75                    0  \n",
            "3                   False             45.75                    0  \n",
            "4                   False             41.67                    0  \n",
            "...                   ...               ...                  ...  \n",
            "12719               False             44.33                    0  \n",
            "12720               False             44.33                    0  \n",
            "12721               False             44.33                    0  \n",
            "12722               False             50.00                    0  \n",
            "12723               False             50.00                    0  \n",
            "\n",
            "[12724 rows x 18 columns]\n"
          ]
        }
      ]
    },
    {
      "cell_type": "code",
      "source": [
        "nulos= dataset_final.isnull().sum()\n",
        "\n",
        "porcentaje = (nulos / len(dataset_final)) * 100\n",
        "\n",
        "reporte = pd.DataFrame({\n",
        "    \"NULOS\": nulos,\n",
        "    \"PORCENTAJE (%)\": porcentaje.round(2)\n",
        "})\n",
        "\n",
        "print(reporte)"
      ],
      "metadata": {
        "colab": {
          "base_uri": "https://localhost:8080/"
        },
        "id": "I1pAsiVUtCPU",
        "outputId": "378e2a61-6bd5-460e-c1b6-c150c9740653"
      },
      "execution_count": 793,
      "outputs": [
        {
          "output_type": "stream",
          "name": "stdout",
          "text": [
            "                        NULOS  PORCENTAJE (%)\n",
            "FECHA                      58            0.46\n",
            "HORA                      137            1.08\n",
            "CANTIDAD_DE_FALLECIDOS      0            0.00\n",
            "CANTIDAD_DE_LESIONADOS     58            0.46\n",
            "DEPARTAMENTO                0            0.00\n",
            "CODRUTA                     0            0.00\n",
            "MODALIDAD                  58            0.46\n",
            "CONDICION_CLIMATICA      7901           62.10\n",
            "JERARQUIA                   0            0.00\n",
            "SUPERFICIE                205            1.61\n",
            "INICIO                   5028           39.52\n",
            "FINAL                    5028           39.52\n",
            "LONGITUD                 5028           39.52\n",
            "NROCARRIL                5028           39.52\n",
            "es_noche                    0            0.00\n",
            "es_clima_peligroso          0            0.00\n",
            "porcentaje_noche            0            0.00\n",
            "CANTIDAD_DE_HERIDOS         0            0.00\n"
          ]
        }
      ]
    },
    {
      "cell_type": "code",
      "source": [
        "dataset_final[\"CANTIDAD_DE_LESIONADOS\"] = dataset_final[\"CANTIDAD_DE_LESIONADOS\"].fillna(0)\n"
      ],
      "metadata": {
        "id": "GNjsd3-57MjO"
      },
      "execution_count": 794,
      "outputs": []
    },
    {
      "cell_type": "code",
      "source": [
        "dataset_final = dataset_final.drop(columns=[\"INICIO\", \"FINAL\", \"LONGITUD\"])"
      ],
      "metadata": {
        "id": "r0lq2HUs-fW_"
      },
      "execution_count": 795,
      "outputs": []
    },
    {
      "cell_type": "code",
      "source": [
        "print(dataset_final.dtypes)\n"
      ],
      "metadata": {
        "colab": {
          "base_uri": "https://localhost:8080/"
        },
        "id": "VRrkBX6C7YAu",
        "outputId": "82fe0af2-26d0-4ff2-80c1-99468dcdba17"
      },
      "execution_count": 796,
      "outputs": [
        {
          "output_type": "stream",
          "name": "stdout",
          "text": [
            "FECHA                      object\n",
            "HORA                       object\n",
            "CANTIDAD_DE_FALLECIDOS      int64\n",
            "CANTIDAD_DE_LESIONADOS    float64\n",
            "DEPARTAMENTO               object\n",
            "CODRUTA                    object\n",
            "MODALIDAD                  object\n",
            "CONDICION_CLIMATICA        object\n",
            "JERARQUIA                  object\n",
            "SUPERFICIE                 object\n",
            "NROCARRIL                 float64\n",
            "es_noche                     bool\n",
            "es_clima_peligroso           bool\n",
            "porcentaje_noche          float64\n",
            "CANTIDAD_DE_HERIDOS         int64\n",
            "dtype: object\n"
          ]
        }
      ]
    },
    {
      "cell_type": "code",
      "source": [
        "for col in [\"MODALIDAD\", \"JERARQUIA\", \"SUPERFICIE\"]:\n",
        "    print(f\"\\nValores únicos en '{col}':\")\n",
        "    print(dataset_final[col].value_counts(dropna=False))"
      ],
      "metadata": {
        "colab": {
          "base_uri": "https://localhost:8080/"
        },
        "id": "ZpTGmikh-1rT",
        "outputId": "d7ab7272-6f18-4076-b054-47286cb32e8a"
      },
      "execution_count": 797,
      "outputs": [
        {
          "output_type": "stream",
          "name": "stdout",
          "text": [
            "\n",
            "Valores únicos en 'MODALIDAD':\n",
            "MODALIDAD\n",
            "CHOQUE                    5201\n",
            "DESPISTE                  5031\n",
            "ATROPELLO                 1152\n",
            "ATROPELLO FUGA             504\n",
            "VOLCADURA                  270\n",
            "ESPECIAL                   209\n",
            "CHOQUE FUGA                162\n",
            "CHOQUE CON OBJETO FIJO      64\n",
            "NaN                         58\n",
            "CAIDA DE PASAJERO           47\n",
            "NO IDENTIFICADA             23\n",
            "FERROVIARIO                  2\n",
            "INCENDIO                     1\n",
            "Name: count, dtype: int64\n",
            "\n",
            "Valores únicos en 'JERARQUIA':\n",
            "JERARQUIA\n",
            "RN               7696\n",
            "NACIONAL         3783\n",
            "VECINAL           679\n",
            "DEPARTAMENTAL     566\n",
            "Name: count, dtype: int64\n",
            "\n",
            "Valores únicos en 'SUPERFICIE':\n",
            "SUPERFICIE\n",
            "PAVIMENTADO            6889\n",
            "ASFALTADA              4056\n",
            "ASFALTADO ECONÓMICO     546\n",
            "AFIRMADO                490\n",
            "TROCHA                  318\n",
            "NaN                     205\n",
            "PROYECTADO               94\n",
            "CONCRETO                 73\n",
            "CASCAJO/RIPIO            25\n",
            "SIN AFIRMAR              22\n",
            "EMPEDRADO                 4\n",
            "ADOQUINADO                2\n",
            "Name: count, dtype: int64\n"
          ]
        }
      ]
    },
    {
      "cell_type": "code",
      "source": [
        "def agrupar_modalidad(val):\n",
        "    if pd.isnull(val):\n",
        "        return \"NO ESPECIFICADO\"\n",
        "    val = val.upper()\n",
        "    if \"CHOQUE\" in val:\n",
        "        return \"CHOQUE\"\n",
        "    elif \"ATROPELLO\" in val:\n",
        "        return \"ATROPELLO\"\n",
        "    elif \"VOLCADURA\" in val:\n",
        "        return \"VOLCADURA\"\n",
        "    elif \"CAIDA\" in val:\n",
        "        return \"CAIDA DE PASAJERO\"\n",
        "    elif val in [\"DESPISTE\", \"ESPECIAL\", \"FERROVIARIO\", \"INCENDIO\", \"NO IDENTIFICADA\"]:\n",
        "        return val\n",
        "    else:\n",
        "        return \"OTROS\"\n",
        "\n",
        "dataset_final[\"MODALIDAD\"] = dataset_final[\"MODALIDAD\"].apply(agrupar_modalidad)\n",
        "\n",
        "dataset_final[\"MODALIDAD\"] = dataset_final[\"MODALIDAD\"].fillna(\"NO ESPECIFICADO\")"
      ],
      "metadata": {
        "id": "gJ_o381v_AKE"
      },
      "execution_count": 798,
      "outputs": []
    },
    {
      "cell_type": "code",
      "source": [
        "def agrupar_superficie(valor):\n",
        "    if valor == \"NO DISPONIBLE\":\n",
        "        return \"SIN INFORMACIÓN\"\n",
        "    elif valor in [\"PAVIMENTADO\", \"ASFALTADO ECONÓMICO\"]:\n",
        "        return \"PAVIMENTADO\"\n",
        "    elif valor in [\"AFIRMADO\", \"PROYECTADO\", \"SIN AFIRMAR\", \"TROCHA\"]:\n",
        "        return \"NO PAVIMENTADO\"\n",
        "    else:\n",
        "        return \"OTROS\"\n",
        "\n",
        "dataset_final[\"SUPERFICIE\"] = dataset_final[\"SUPERFICIE\"].apply(agrupar_superficie)\n"
      ],
      "metadata": {
        "id": "QTRx02ca_pBV"
      },
      "execution_count": 799,
      "outputs": []
    },
    {
      "cell_type": "code",
      "source": [
        "\n",
        "nulos= dataset_final.isnull().sum()\n",
        "\n",
        "porcentaje = (nulos / len(dataset_final)) * 100\n",
        "\n",
        "reporte = pd.DataFrame({\n",
        "    \"NULOS\": nulos,\n",
        "    \"PORCENTAJE (%)\": porcentaje.round(2)\n",
        "})\n",
        "\n",
        "print(reporte)"
      ],
      "metadata": {
        "colab": {
          "base_uri": "https://localhost:8080/"
        },
        "id": "8RxD-wOQ_Zo_",
        "outputId": "cebff37f-30f9-46de-b395-d0ed55c359fa"
      },
      "execution_count": 800,
      "outputs": [
        {
          "output_type": "stream",
          "name": "stdout",
          "text": [
            "                        NULOS  PORCENTAJE (%)\n",
            "FECHA                      58            0.46\n",
            "HORA                      137            1.08\n",
            "CANTIDAD_DE_FALLECIDOS      0            0.00\n",
            "CANTIDAD_DE_LESIONADOS      0            0.00\n",
            "DEPARTAMENTO                0            0.00\n",
            "CODRUTA                     0            0.00\n",
            "MODALIDAD                   0            0.00\n",
            "CONDICION_CLIMATICA      7901           62.10\n",
            "JERARQUIA                   0            0.00\n",
            "SUPERFICIE                  0            0.00\n",
            "NROCARRIL                5028           39.52\n",
            "es_noche                    0            0.00\n",
            "es_clima_peligroso          0            0.00\n",
            "porcentaje_noche            0            0.00\n",
            "CANTIDAD_DE_HERIDOS         0            0.00\n"
          ]
        }
      ]
    },
    {
      "cell_type": "code",
      "source": [
        "moda = dataset_final[\"NROCARRIL\"].mode()[0]\n",
        "dataset_final[\"NROCARRIL\"] = dataset_final[\"NROCARRIL\"].fillna(moda).astype(int)\n",
        "print(dataset_final.dtypes)\n"
      ],
      "metadata": {
        "colab": {
          "base_uri": "https://localhost:8080/"
        },
        "id": "UxrUDN7W_1FE",
        "outputId": "df7d3136-1bf0-4d00-8aa1-fc799b40e261"
      },
      "execution_count": 801,
      "outputs": [
        {
          "output_type": "stream",
          "name": "stdout",
          "text": [
            "FECHA                      object\n",
            "HORA                       object\n",
            "CANTIDAD_DE_FALLECIDOS      int64\n",
            "CANTIDAD_DE_LESIONADOS    float64\n",
            "DEPARTAMENTO               object\n",
            "CODRUTA                    object\n",
            "MODALIDAD                  object\n",
            "CONDICION_CLIMATICA        object\n",
            "JERARQUIA                  object\n",
            "SUPERFICIE                 object\n",
            "NROCARRIL                   int64\n",
            "es_noche                     bool\n",
            "es_clima_peligroso           bool\n",
            "porcentaje_noche          float64\n",
            "CANTIDAD_DE_HERIDOS         int64\n",
            "dtype: object\n"
          ]
        }
      ]
    },
    {
      "cell_type": "code",
      "source": [
        "siniestralidad_por_ruta = dataset_final.groupby(\"CODRUTA\").agg({\n",
        "    \"CANTIDAD_DE_FALLECIDOS\": \"sum\",\n",
        "    \"CODRUTA\": \"count\",\n",
        "    \"es_noche\": \"mean\",\n",
        "    \"es_clima_peligroso\": \"mean\"\n",
        "}).rename(columns={\n",
        "    \"CODRUTA\": \"TOTAL_ACCIDENTES\",\n",
        "    \"CANTIDAD_DE_FALLECIDOS\": \"TOTAL_FALLECIDOS\",\n",
        "    \"es_noche\": \"porcentaje_noche\",\n",
        "    \"es_clima_peligroso\": \"porcentaje_clima_peligroso\"\n",
        "})\n",
        "\n",
        "# Calcular grado de siniestralidad\n",
        "siniestralidad_por_ruta[\"GRADO_SINIESTRALIDAD (%)\"] = (\n",
        "    siniestralidad_por_ruta[\"TOTAL_FALLECIDOS\"] / siniestralidad_por_ruta[\"TOTAL_ACCIDENTES\"]\n",
        ") * 100\n",
        "\n",
        "# Convertir proporciones a porcentaje y redondear\n",
        "siniestralidad_por_ruta[[\"porcentaje_noche\", \"porcentaje_clima_peligroso\", \"GRADO_SINIESTRALIDAD (%)\"]] = \\\n",
        "    siniestralidad_por_ruta[[\"porcentaje_noche\", \"porcentaje_clima_peligroso\", \"GRADO_SINIESTRALIDAD (%)\"]].round(2)\n",
        "\n",
        "# Reset index\n",
        "siniestralidad_por_ruta = siniestralidad_por_ruta.reset_index()\n"
      ],
      "metadata": {
        "id": "DufpxMCBDazo"
      },
      "execution_count": 802,
      "outputs": []
    },
    {
      "cell_type": "code",
      "source": [
        "# Unir con la red vial solo una vez y evitando duplicados\n",
        "df_info_ruta = df_RedVial[[\n",
        "    \"CODRUTA\", \"INICIO\", \"FINAL\", \"LONGITUD\", \"NROCARRIL\", \"SUPERFICIE\", \"DEPARTAMENTO\", \"JERARQUIA\"\n",
        "]].drop_duplicates()\n",
        "\n",
        "\n",
        "df_info_ruta = df_onsv_sel[[\n",
        "    \"CODRUTA\", \"SUPERFICIE\", \"DEPARTAMENTO\", \"JERARQUIA\"\n",
        "]].drop_duplicates()\n",
        "\n",
        "# Hacer merge sin duplicar columnas\n",
        "resumen_final = siniestralidad_por_ruta.merge(df_info_ruta, on=\"CODRUTA\", how=\"left\")\n",
        "\n",
        "# Primero obtener NROCARRIL de df_RedVial\n",
        "df_nrocarril = df_RedVial[[\"CODRUTA\", \"NROCARRIL\"]].drop_duplicates()\n",
        "\n",
        "# Hacer merge en dos pasos\n",
        "resumen_final = (\n",
        "    siniestralidad_por_ruta\n",
        "    .merge(df_onsv_sel[[\"CODRUTA\", \"SUPERFICIE\", \"DEPARTAMENTO\", \"JERARQUIA\"]].drop_duplicates(),\n",
        "           on=\"CODRUTA\", how=\"left\")\n",
        "    .merge(df_nrocarril, on=\"CODRUTA\", how=\"left\")\n",
        ")\n",
        "\n",
        "\n",
        "# Reordenar columnas si deseas\n",
        "cols = [\n",
        "    \"CODRUTA\",\"SUPERFICIE\", \"DEPARTAMENTO\", \"JERARQUIA\",\n",
        "    \"TOTAL_ACCIDENTES\", \"TOTAL_FALLECIDOS\",\n",
        "    \"GRADO_SINIESTRALIDAD (%)\", \"porcentaje_noche\", \"porcentaje_clima_peligroso\", \"NROCARRIL\"\n",
        "]\n",
        "resumen_final = resumen_final[cols]\n"
      ],
      "metadata": {
        "id": "q-jnepJaDdsB"
      },
      "execution_count": 803,
      "outputs": []
    },
    {
      "cell_type": "code",
      "source": [
        "\n",
        "nulos= resumen_final.isnull().sum()\n",
        "\n",
        "porcentaje = (nulos / len(resumen_final)) * 100\n",
        "\n",
        "reporte = pd.DataFrame({\n",
        "    \"NULOS\": nulos,\n",
        "    \"PORCENTAJE (%)\": porcentaje.round(2)\n",
        "})\n",
        "\n",
        "print(reporte)"
      ],
      "metadata": {
        "colab": {
          "base_uri": "https://localhost:8080/"
        },
        "id": "qahV2R0WDvr8",
        "outputId": "3748bf19-1f03-4cb2-deb8-2cb38d191713"
      },
      "execution_count": 804,
      "outputs": [
        {
          "output_type": "stream",
          "name": "stdout",
          "text": [
            "                            NULOS  PORCENTAJE (%)\n",
            "CODRUTA                         0            0.00\n",
            "SUPERFICIE                    216           11.54\n",
            "DEPARTAMENTO                   22            1.18\n",
            "JERARQUIA                      22            1.18\n",
            "TOTAL_ACCIDENTES                0            0.00\n",
            "TOTAL_FALLECIDOS                0            0.00\n",
            "GRADO_SINIESTRALIDAD (%)        0            0.00\n",
            "porcentaje_noche                0            0.00\n",
            "porcentaje_clima_peligroso      0            0.00\n",
            "NROCARRIL                     889           47.49\n"
          ]
        }
      ]
    },
    {
      "cell_type": "code",
      "source": [
        "for col in [\"DEPARTAMENTO\", \"JERARQUIA\", \"SUPERFICIE\"]:\n",
        "    print(f\"\\nValores únicos en '{col}':\")\n",
        "    print(dataset_final[col].value_counts(dropna=False))"
      ],
      "metadata": {
        "colab": {
          "base_uri": "https://localhost:8080/"
        },
        "id": "UldyTXbsLI0D",
        "outputId": "211c0670-64cf-46b3-b5af-9afb4f75c682"
      },
      "execution_count": 805,
      "outputs": [
        {
          "output_type": "stream",
          "name": "stdout",
          "text": [
            "\n",
            "Valores únicos en 'DEPARTAMENTO':\n",
            "DEPARTAMENTO\n",
            "LIMA             2752\n",
            "PUNO             1696\n",
            "TACNA            1489\n",
            "PIURA             998\n",
            "CAJAMARCA         886\n",
            "CUSCO             664\n",
            "LA LIBERTAD       580\n",
            "ICA               563\n",
            "JUNIN             511\n",
            "AREQUIPA          361\n",
            "LAMBAYEQUE        282\n",
            "SAN MARTIN        264\n",
            "ANCASH            253\n",
            "MADRE DE DIOS     238\n",
            "MOQUEGUA          235\n",
            "HUANUCO           197\n",
            "UCAYALI           133\n",
            "HUANCAVELICA      124\n",
            "APURIMAC          113\n",
            "AYACUCHO           96\n",
            "CALLAO             72\n",
            "PASCO              71\n",
            "TUMBES             67\n",
            "AMAZONAS           46\n",
            "LORETO             33\n",
            "Name: count, dtype: int64\n",
            "\n",
            "Valores únicos en 'JERARQUIA':\n",
            "JERARQUIA\n",
            "RN               7696\n",
            "NACIONAL         3783\n",
            "VECINAL           679\n",
            "DEPARTAMENTAL     566\n",
            "Name: count, dtype: int64\n",
            "\n",
            "Valores únicos en 'SUPERFICIE':\n",
            "SUPERFICIE\n",
            "PAVIMENTADO       7435\n",
            "OTROS             4365\n",
            "NO PAVIMENTADO     924\n",
            "Name: count, dtype: int64\n"
          ]
        }
      ]
    },
    {
      "cell_type": "code",
      "source": [
        "def agrupar_superficie(valor):\n",
        "    if valor == \"NO DISPONIBLE\":\n",
        "        return \"SIN INFORMACIÓN\"\n",
        "    elif valor in [\"PAVIMENTADO\", \"ASFALTADO ECONÓMICO\"]:\n",
        "        return \"PAVIMENTADO\"\n",
        "    elif valor in [\"AFIRMADO\", \"PROYECTADO\", \"SIN AFIRMAR\", \"TROCHA\"]:\n",
        "        return \"NO PAVIMENTADO\"\n",
        "    else:\n",
        "        return \"OTROS\"\n",
        "\n",
        "resumen_final[\"SUPERFICIE\"] = resumen_final[\"SUPERFICIE\"].apply(agrupar_superficie)"
      ],
      "metadata": {
        "id": "lut8ZWGDK81l"
      },
      "execution_count": 806,
      "outputs": []
    },
    {
      "cell_type": "code",
      "source": [
        "dataset_final[\"JERARQUIA\"] = dataset_final[\"JERARQUIA\"].replace(\"RN\", \"NACIONAL\")\n"
      ],
      "metadata": {
        "id": "04yZRJBhLiBD"
      },
      "execution_count": 807,
      "outputs": []
    },
    {
      "cell_type": "code",
      "source": [
        "\n",
        "nulos= resumen_final.isnull().sum()\n",
        "\n",
        "porcentaje = (nulos / len(resumen_final)) * 100\n",
        "\n",
        "reporte = pd.DataFrame({\n",
        "    \"NULOS\": nulos,\n",
        "    \"PORCENTAJE (%)\": porcentaje.round(2)\n",
        "})\n",
        "print(reporte)"
      ],
      "metadata": {
        "colab": {
          "base_uri": "https://localhost:8080/"
        },
        "id": "z--6385bF-Jt",
        "outputId": "449a7159-23e0-4f5b-df1c-b114d5f28e03"
      },
      "execution_count": 808,
      "outputs": [
        {
          "output_type": "stream",
          "name": "stdout",
          "text": [
            "                            NULOS  PORCENTAJE (%)\n",
            "CODRUTA                         0            0.00\n",
            "SUPERFICIE                      0            0.00\n",
            "DEPARTAMENTO                   22            1.18\n",
            "JERARQUIA                      22            1.18\n",
            "TOTAL_ACCIDENTES                0            0.00\n",
            "TOTAL_FALLECIDOS                0            0.00\n",
            "GRADO_SINIESTRALIDAD (%)        0            0.00\n",
            "porcentaje_noche                0            0.00\n",
            "porcentaje_clima_peligroso      0            0.00\n",
            "NROCARRIL                     889           47.49\n"
          ]
        }
      ]
    },
    {
      "cell_type": "code",
      "source": [
        "# 1. Crear el mapa desde df_sutran\n",
        "mapa_codruta_departamento = (\n",
        "    df_sutran[['CODRUTA', 'DEPARTAMENTO']]\n",
        "    .dropna()\n",
        "    .drop_duplicates()\n",
        "    .set_index('CODRUTA')['DEPARTAMENTO']\n",
        "    .to_dict()\n",
        ")\n",
        "\n",
        "# 2. Completar valores nulos en resumen_final['DEPARTAMENTO'] usando el mapa\n",
        "resumen_final['DEPARTAMENTO'] = resumen_final.apply(\n",
        "    lambda row: mapa_codruta_departamento.get(row['CODRUTA'], row['DEPARTAMENTO']),\n",
        "    axis=1\n",
        ")\n",
        "\n",
        "# 3. Verificar nuevamente las filas con DEPARTAMENTO nulo\n",
        "filas_sin_departamento = resumen_final[resumen_final[\"DEPARTAMENTO\"].isnull()]"
      ],
      "metadata": {
        "id": "Ht4NKZyvP85J"
      },
      "execution_count": 809,
      "outputs": []
    },
    {
      "cell_type": "code",
      "source": [
        "print(resumen_final)"
      ],
      "metadata": {
        "colab": {
          "base_uri": "https://localhost:8080/"
        },
        "id": "7pgc99TIRdxN",
        "outputId": "f6a1840b-74ad-4e10-f908-7b5437360a5c"
      },
      "execution_count": 810,
      "outputs": [
        {
          "output_type": "stream",
          "name": "stdout",
          "text": [
            "     CODRUTA      SUPERFICIE DEPARTAMENTO      JERARQUIA  TOTAL_ACCIDENTES  \\\n",
            "0     AM-101           OTROS     AMAZONAS  DEPARTAMENTAL                 2   \n",
            "1     AM-102           OTROS     AMAZONAS  DEPARTAMENTAL                 2   \n",
            "2     AM-103  NO PAVIMENTADO     AMAZONAS  DEPARTAMENTAL                 1   \n",
            "3     AM-109           OTROS     AMAZONAS  DEPARTAMENTAL                 1   \n",
            "4     AM-637           OTROS     AMAZONAS        VECINAL                 1   \n",
            "...      ...             ...          ...            ...               ...   \n",
            "1867  TU-524  NO PAVIMENTADO       TUMBES        VECINAL                 1   \n",
            "1868  TU-548  NO PAVIMENTADO       TUMBES        VECINAL                 1   \n",
            "1869  UC-102           OTROS      UCAYALI  DEPARTAMENTAL                 1   \n",
            "1870  UC-103  NO PAVIMENTADO      UCAYALI  DEPARTAMENTAL                 4   \n",
            "1871  UC-103           OTROS      UCAYALI  DEPARTAMENTAL                 4   \n",
            "\n",
            "      TOTAL_FALLECIDOS  GRADO_SINIESTRALIDAD (%)  porcentaje_noche  \\\n",
            "0                    2                     100.0               0.5   \n",
            "1                    2                     100.0               0.0   \n",
            "2                    5                     500.0               0.0   \n",
            "3                    2                     200.0               1.0   \n",
            "4                    1                     100.0               0.0   \n",
            "...                ...                       ...               ...   \n",
            "1867                 1                     100.0               1.0   \n",
            "1868                 1                     100.0               1.0   \n",
            "1869                 1                     100.0               0.0   \n",
            "1870                 4                     100.0               0.5   \n",
            "1871                 4                     100.0               0.5   \n",
            "\n",
            "      porcentaje_clima_peligroso  NROCARRIL  \n",
            "0                            0.0        NaN  \n",
            "1                            0.0        NaN  \n",
            "2                            1.0        NaN  \n",
            "3                            0.0        NaN  \n",
            "4                            0.0        NaN  \n",
            "...                          ...        ...  \n",
            "1867                         0.0        NaN  \n",
            "1868                         0.0        NaN  \n",
            "1869                         0.0        NaN  \n",
            "1870                         0.0        NaN  \n",
            "1871                         0.0        NaN  \n",
            "\n",
            "[1872 rows x 10 columns]\n"
          ]
        }
      ]
    },
    {
      "cell_type": "code",
      "source": [
        "resumen_final.to_csv(\"resumen_final.csv\", index=False, encoding='utf-8')"
      ],
      "metadata": {
        "id": "jkOY6YbTs_vy"
      },
      "execution_count": 811,
      "outputs": []
    },
    {
      "cell_type": "code",
      "source": [
        "import pandas as pd\n",
        "from sklearn.ensemble import RandomForestRegressor\n",
        "from sklearn.model_selection import train_test_split,cross_val_score\n",
        "from sklearn.metrics import r2_score, mean_squared_error\n",
        "import numpy as np\n",
        "\n",
        "df = pd.read_csv(\"resumen_final.csv\")  # reemplaza con la ruta real\n",
        "\n",
        "# Revisar las primeras filas\n",
        "print(df.head())"
      ],
      "metadata": {
        "colab": {
          "base_uri": "https://localhost:8080/"
        },
        "id": "SW0CCWazvlI1",
        "outputId": "b126dec4-4540-4c0d-acb7-5773b802b1eb"
      },
      "execution_count": 812,
      "outputs": [
        {
          "output_type": "stream",
          "name": "stdout",
          "text": [
            "  CODRUTA      SUPERFICIE DEPARTAMENTO      JERARQUIA  TOTAL_ACCIDENTES  \\\n",
            "0  AM-101           OTROS     AMAZONAS  DEPARTAMENTAL                 2   \n",
            "1  AM-102           OTROS     AMAZONAS  DEPARTAMENTAL                 2   \n",
            "2  AM-103  NO PAVIMENTADO     AMAZONAS  DEPARTAMENTAL                 1   \n",
            "3  AM-109           OTROS     AMAZONAS  DEPARTAMENTAL                 1   \n",
            "4  AM-637           OTROS     AMAZONAS        VECINAL                 1   \n",
            "\n",
            "   TOTAL_FALLECIDOS  GRADO_SINIESTRALIDAD (%)  porcentaje_noche  \\\n",
            "0                 2                     100.0               0.5   \n",
            "1                 2                     100.0               0.0   \n",
            "2                 5                     500.0               0.0   \n",
            "3                 2                     200.0               1.0   \n",
            "4                 1                     100.0               0.0   \n",
            "\n",
            "   porcentaje_clima_peligroso  NROCARRIL  \n",
            "0                         0.0        NaN  \n",
            "1                         0.0        NaN  \n",
            "2                         1.0        NaN  \n",
            "3                         0.0        NaN  \n",
            "4                         0.0        NaN  \n"
          ]
        }
      ]
    },
    {
      "cell_type": "code",
      "source": [
        "\n",
        "print(\"Tipos de datos:\")\n",
        "print(df.dtypes)"
      ],
      "metadata": {
        "colab": {
          "base_uri": "https://localhost:8080/"
        },
        "id": "XOKftfXuvp7d",
        "outputId": "c272d2c4-72c0-433b-9799-5d3a27e07f25"
      },
      "execution_count": 813,
      "outputs": [
        {
          "output_type": "stream",
          "name": "stdout",
          "text": [
            "Tipos de datos:\n",
            "CODRUTA                        object\n",
            "SUPERFICIE                     object\n",
            "DEPARTAMENTO                   object\n",
            "JERARQUIA                      object\n",
            "TOTAL_ACCIDENTES                int64\n",
            "TOTAL_FALLECIDOS                int64\n",
            "GRADO_SINIESTRALIDAD (%)      float64\n",
            "porcentaje_noche              float64\n",
            "porcentaje_clima_peligroso    float64\n",
            "NROCARRIL                     float64\n",
            "dtype: object\n"
          ]
        }
      ]
    },
    {
      "cell_type": "code",
      "source": [
        "# Verificar valores nulos\n",
        "nulos = df.isnull().sum()\n",
        "porcentaje = (nulos / len(df)) * 100\n",
        "\n",
        "print(\"Reporte de nulos:\")\n",
        "print(pd.DataFrame({\n",
        "    \"NULOS\": nulos,\n",
        "    \"PORCENTAJE (%)\": porcentaje.round(2)\n",
        "}))"
      ],
      "metadata": {
        "colab": {
          "base_uri": "https://localhost:8080/"
        },
        "id": "pWCp1ShQwMut",
        "outputId": "79eaf214-9c4b-4a17-9dee-0f31c11c68ea"
      },
      "execution_count": 814,
      "outputs": [
        {
          "output_type": "stream",
          "name": "stdout",
          "text": [
            "Reporte de nulos:\n",
            "                            NULOS  PORCENTAJE (%)\n",
            "CODRUTA                         0            0.00\n",
            "SUPERFICIE                      0            0.00\n",
            "DEPARTAMENTO                   11            0.59\n",
            "JERARQUIA                      22            1.18\n",
            "TOTAL_ACCIDENTES                0            0.00\n",
            "TOTAL_FALLECIDOS                0            0.00\n",
            "GRADO_SINIESTRALIDAD (%)        0            0.00\n",
            "porcentaje_noche                0            0.00\n",
            "porcentaje_clima_peligroso      0            0.00\n",
            "NROCARRIL                     889           47.49\n"
          ]
        }
      ]
    },
    {
      "cell_type": "code",
      "source": [
        "df[\"DEPARTAMENTO\"] = df[\"DEPARTAMENTO\"].fillna(\"DESCONOCIDO\")\n",
        "df[\"JERARQUIA\"] = df[\"JERARQUIA\"].fillna(\"NACIONAL\")\n",
        "df[\"NROCARRIL\"] = df[\"NROCARRIL\"].fillna(2)\n",
        "df[\"NROCARRIL\"] = df[\"NROCARRIL\"].astype(int)"
      ],
      "metadata": {
        "id": "mtiUCPfxwhjq"
      },
      "execution_count": 815,
      "outputs": []
    },
    {
      "cell_type": "code",
      "source": [
        "# Verificar valores nulos\n",
        "nulos = df.isnull().sum()\n",
        "porcentaje = (nulos / len(df)) * 100\n",
        "\n",
        "print(\"Reporte de nulos:\")\n",
        "print(pd.DataFrame({\n",
        "    \"NULOS\": nulos,\n",
        "    \"PORCENTAJE (%)\": porcentaje.round(2)\n",
        "}))"
      ],
      "metadata": {
        "colab": {
          "base_uri": "https://localhost:8080/"
        },
        "id": "Wn8d3aVkyJTn",
        "outputId": "4e5b3d50-fed7-4f29-a493-4ffed427ed02"
      },
      "execution_count": 816,
      "outputs": [
        {
          "output_type": "stream",
          "name": "stdout",
          "text": [
            "Reporte de nulos:\n",
            "                            NULOS  PORCENTAJE (%)\n",
            "CODRUTA                         0             0.0\n",
            "SUPERFICIE                      0             0.0\n",
            "DEPARTAMENTO                    0             0.0\n",
            "JERARQUIA                       0             0.0\n",
            "TOTAL_ACCIDENTES                0             0.0\n",
            "TOTAL_FALLECIDOS                0             0.0\n",
            "GRADO_SINIESTRALIDAD (%)        0             0.0\n",
            "porcentaje_noche                0             0.0\n",
            "porcentaje_clima_peligroso      0             0.0\n",
            "NROCARRIL                       0             0.0\n"
          ]
        }
      ]
    },
    {
      "cell_type": "code",
      "source": [
        "print(\"Tipos de datos:\")\n",
        "print(df.dtypes)"
      ],
      "metadata": {
        "colab": {
          "base_uri": "https://localhost:8080/"
        },
        "id": "HgqVQL3zyT7y",
        "outputId": "a0d23705-baa2-4802-8d55-ac88ab9b42c5"
      },
      "execution_count": 817,
      "outputs": [
        {
          "output_type": "stream",
          "name": "stdout",
          "text": [
            "Tipos de datos:\n",
            "CODRUTA                        object\n",
            "SUPERFICIE                     object\n",
            "DEPARTAMENTO                   object\n",
            "JERARQUIA                      object\n",
            "TOTAL_ACCIDENTES                int64\n",
            "TOTAL_FALLECIDOS                int64\n",
            "GRADO_SINIESTRALIDAD (%)      float64\n",
            "porcentaje_noche              float64\n",
            "porcentaje_clima_peligroso    float64\n",
            "NROCARRIL                       int64\n",
            "dtype: object\n"
          ]
        }
      ]
    },
    {
      "cell_type": "code",
      "source": [
        "df_encoded = pd.get_dummies(df, columns=[\"SUPERFICIE\", \"JERARQUIA\"], drop_first=True)"
      ],
      "metadata": {
        "id": "SaEpEbDxyyDA"
      },
      "execution_count": 818,
      "outputs": []
    },
    {
      "cell_type": "code",
      "source": [
        "codrutas = df_encoded[\"CODRUTA\"]"
      ],
      "metadata": {
        "id": "-1p7Kgsmy2U_"
      },
      "execution_count": 819,
      "outputs": []
    },
    {
      "cell_type": "code",
      "source": [
        "# Eliminar columnas no numéricas que no son entrada del modelo\n",
        "X = df_encoded.drop(columns=[\n",
        "    \"CODRUTA\", \"DEPARTAMENTO\",\n",
        "    \"TOTAL_ACCIDENTES\", \"TOTAL_FALLECIDOS\",\n",
        "    \"GRADO_SINIESTRALIDAD (%)\"\n",
        "])\n",
        "y = df_encoded[\"GRADO_SINIESTRALIDAD (%)\"]\n",
        "\n",
        "# Entrenamiento del modelo\n",
        "X_train, X_test, y_train, y_test = train_test_split(X, y, test_size=0.2, random_state=42)\n",
        "rf = RandomForestRegressor(n_estimators=100, random_state=42)\n",
        "rf.fit(X_train, y_train)\n",
        "\n",
        "rf = RandomForestRegressor(n_estimators=100, random_state=42)\n",
        "rf.fit(X_train, y_train)\n",
        "\n",
        "# Predicción en test\n",
        "y_pred = rf.predict(X_test)\n",
        "\n",
        "# Evaluación\n",
        "r2 = r2_score(y_test, y_pred)\n",
        "rmse = np.sqrt(mean_squared_error(y_test, y_pred))\n",
        "\n",
        "\n",
        "\n",
        "print(f\"R²: {r2:.4f}\")\n",
        "print(f\"RMSE: {rmse:.2f}\")\n",
        "\n",
        "# Predecir sobre todo el dataset\n",
        "df_encoded[\"Probabilidad_Predicha\"] = rf.predict(X)\n",
        "\n",
        "# Resultado final con CODRUTA y predicción\n",
        "df_resultado = pd.DataFrame({\n",
        "    \"CODRUTA\": codrutas,\n",
        "    \"Probabilidad_Predicha\": df_encoded[\"Probabilidad_Predicha\"]\n",
        "})"
      ],
      "metadata": {
        "colab": {
          "base_uri": "https://localhost:8080/"
        },
        "id": "Hc5W17NVy43p",
        "outputId": "2d601dfd-130e-4b45-9ffd-a928c246e958"
      },
      "execution_count": 820,
      "outputs": [
        {
          "output_type": "stream",
          "name": "stdout",
          "text": [
            "R²: 0.4634\n",
            "RMSE: 41.85\n"
          ]
        }
      ]
    },
    {
      "cell_type": "code",
      "source": [
        "cv_scores = cross_val_score(rf, X, y, cv=5, scoring='r2')\n",
        "print(\"Validación cruzada (5-fold):\")\n",
        "print(f\"R² promedio: {cv_scores.mean():.4f}\")\n",
        "print(f\"Desviación estándar: {cv_scores.std():.4f}\")"
      ],
      "metadata": {
        "colab": {
          "base_uri": "https://localhost:8080/"
        },
        "id": "eb29J3ly2QsZ",
        "outputId": "a82ba67b-be6a-40b2-aac4-0fd74b677e60"
      },
      "execution_count": 821,
      "outputs": [
        {
          "output_type": "stream",
          "name": "stdout",
          "text": [
            "Validación cruzada (5-fold):\n",
            "R² promedio: -1.8225\n",
            "Desviación estándar: 2.2328\n"
          ]
        }
      ]
    },
    {
      "cell_type": "code",
      "source": [
        "importances = pd.Series(rf.feature_importances_, index=X.columns)\n",
        "importances = importances.sort_values(ascending=False)\n",
        "\n",
        "print(\"Top variables más influyentes:\")\n",
        "print(importances.head(5))"
      ],
      "metadata": {
        "colab": {
          "base_uri": "https://localhost:8080/"
        },
        "id": "0wQeK36M4FWt",
        "outputId": "74a6a560-c88d-4eee-b775-dbc41791c9a2"
      },
      "execution_count": 822,
      "outputs": [
        {
          "output_type": "stream",
          "name": "stdout",
          "text": [
            "Top variables más influyentes:\n",
            "JERARQUIA_NACIONAL            0.397210\n",
            "porcentaje_noche              0.304662\n",
            "porcentaje_clima_peligroso    0.201309\n",
            "SUPERFICIE_OTROS              0.043265\n",
            "NROCARRIL                     0.031389\n",
            "dtype: float64\n"
          ]
        }
      ]
    },
    {
      "cell_type": "code",
      "source": [
        "importances.head(10).plot(kind='barh', title='Importancia de características')\n",
        "plt.gca().invert_yaxis()\n",
        "plt.tight_layout()\n",
        "plt.show()"
      ],
      "metadata": {
        "colab": {
          "base_uri": "https://localhost:8080/",
          "height": 487
        },
        "id": "REByBT_T4MTu",
        "outputId": "78307f84-9529-40f6-a894-c787a2a14b10"
      },
      "execution_count": 823,
      "outputs": [
        {
          "output_type": "display_data",
          "data": {
            "text/plain": [
              "<Figure size 640x480 with 1 Axes>"
            ],
            "image/png": "[encoded data removed]"
          },
          "metadata": {}
        }
      ]
    },
    {
      "cell_type": "code",
      "source": [
        "df_encoded[\"Probabilidad_Predicha\"] = rf.predict(X)"
      ],
      "metadata": {
        "id": "blX2GIYL4ULC"
      },
      "execution_count": 824,
      "outputs": []
    },
    {
      "cell_type": "code",
      "source": [
        "df_encoded[\"Riesgo\"] = pd.cut(\n",
        "    df_encoded[\"Probabilidad_Predicha\"],\n",
        "    bins=[-1, 50, 100, 200, 1000],\n",
        "    labels=[\"Bajo\", \"Medio\", \"Alto\", \"Crítico\"]\n",
        ")\n",
        "\n",
        "df_resultado = pd.DataFrame({\n",
        "    \"CODRUTA\": codrutas,\n",
        "    \"Probabilidad_Predicha\": df_encoded[\"Probabilidad_Predicha\"],\n",
        "    \"Riesgo\": df_encoded[\"Riesgo\"]\n",
        "})\n",
        "\n",
        "print(df_resultado)"
      ],
      "metadata": {
        "colab": {
          "base_uri": "https://localhost:8080/"
        },
        "id": "J92BjpO94VG5",
        "outputId": "53cb4960-06ad-4e95-95d4-646044990a56"
      },
      "execution_count": 825,
      "outputs": [
        {
          "output_type": "stream",
          "name": "stdout",
          "text": [
            "     CODRUTA  Probabilidad_Predicha   Riesgo\n",
            "0     AM-101             116.913188     Alto\n",
            "1     AM-102             104.843518     Alto\n",
            "2     AM-103             301.023061  Crítico\n",
            "3     AM-109             106.971566     Alto\n",
            "4     AM-637             106.670544     Alto\n",
            "...      ...                    ...      ...\n",
            "1867  TU-524             125.796395     Alto\n",
            "1868  TU-548             125.796395     Alto\n",
            "1869  UC-102             104.843518     Alto\n",
            "1870  UC-103             135.656863     Alto\n",
            "1871  UC-103             116.913188     Alto\n",
            "\n",
            "[1872 rows x 3 columns]\n"
          ]
        }
      ]
    }
  ]
}